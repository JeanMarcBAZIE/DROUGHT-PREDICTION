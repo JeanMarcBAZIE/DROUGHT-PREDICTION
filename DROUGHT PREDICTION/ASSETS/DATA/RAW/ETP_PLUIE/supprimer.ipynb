{
 "cells": [
  {
   "cell_type": "code",
   "execution_count": 2,
   "metadata": {},
   "outputs": [],
   "source": [
    "import pandas as pd"
   ]
  },
  {
   "cell_type": "code",
   "execution_count": 3,
   "metadata": {},
   "outputs": [],
   "source": [
    "df=pd.read_excel('etp_jour.xls')"
   ]
  },
  {
   "cell_type": "code",
   "execution_count": 7,
   "metadata": {},
   "outputs": [
    {
     "data": {
      "text/plain": [
       "array(['Bobo-Dioulasso', 'Bogandé', 'Boromo', 'Dédougou', 'Dori', 'Fada Ngourma', 'Gaoua', 'Ouagadougou aéro', 'Ouahigouya', 'Pô'],\n",
       "      dtype=object)"
      ]
     },
     "execution_count": null,
     "metadata": {},
     "output_type": "execute_result"
    }
   ],
   "source": [
    "df.Station.unique()"
   ]
  },
  {
   "cell_type": "code",
   "execution_count": null,
   "metadata": {},
   "outputs": [],
   "source": [
    "nom={\n",
    "'Bobo-Dioulasso':'Bobo_Dioulasso', 'Bogandé':'Bogande', 'Boromo':'Boromo', 'Dédougou':'Dedougou', 'Dori':'Dori', \n",
    "'Fada Ngourma':'Fada_Ngourma', 'Gaoua':'Gaoua', 'Ouagadougou aéro':'Ouagadougou_aero', 'Ouahigouya':'Ouahigouya', 'Pô':'Po'}"
   ]
  }
 ],
 "metadata": {
  "language_info": {
   "name": "python"
  }
 },
 "nbformat": 4,
 "nbformat_minor": 2
}
