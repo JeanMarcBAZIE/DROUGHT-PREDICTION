{
 "cells": [
  {
   "cell_type": "code",
   "execution_count": 1,
   "metadata": {},
   "outputs": [],
   "source": [
    "import cdsapi\n",
    "import os\n",
    "import shutil\n",
    "from config import Config\n",
    "from concurrent.futures import ThreadPoolExecutor, as_completed\n",
    "import warnings\n",
    "warnings.filterwarnings(\"ignore\")"
   ]
  },
  {
   "cell_type": "code",
   "execution_count": 2,
   "metadata": {},
   "outputs": [],
   "source": [
    "# Créez une instance du client CDS\n",
    "c = cdsapi.Client(url=\"https://cds.climate.copernicus.eu/api/v2\", key=\"249316:cfa30517-00b5-4ded-9330-78b7b21349bd\")\n",
    "\n",
    "# Liste des années à récupérer\n",
    "years = list(range(1961, 2004)) \n",
    "# Dictionnaire pour les décennies\n",
    "decade = {\"01\": range(1, 11), \"02\": range(11, 21), \"03\": range(21, 32)}\n",
    "\n",
    "# Nombre de threads pour le téléchargement en parallèle\n",
    "num_threads = 15\n",
    "\n",
    "area_lef=[5, -40, -5, 15]   #'area': [5, -40, -5, 15], #sst_lef_\n",
    "area_nino=[5, -120, -5, -170] #'area': [5, -120, -5, -170], #sst_nino_\n",
    "area_bf=[15.08, -5.51, 9.41, 2.41] #[15.08, -5.51, 9.41, 2.41],\n",
    "\n",
    "# Créez une liste de toutes les tâches de téléchargement\n",
    "tasks = [(year, month, dek, days) for year in years for month in range(1,13) for dek, days in decade.items()]"
   ]
  },
  {
   "cell_type": "code",
   "execution_count": 3,
   "metadata": {},
   "outputs": [],
   "source": [
    "# Fonction de téléchargement des données\n",
    "def download_data(year, month, dek, days, parametre, area=area_bf, level=None):\n",
    "    file_prex=os.path.basename(output_directory)\n",
    "    output_filename = os.path.join(output_directory, f'{file_prex}_{year}_{month:02d}_{dek}.nc')\n",
    "    \n",
    "    if not os.path.isfile(output_filename):\n",
    "        request = {\n",
    "            'product_type': 'reanalysis',\n",
    "            'variable': parametre, #'sea_surface_temperature',\n",
    "            'year': str(year),\n",
    "            'month': str(month).zfill(2),\n",
    "            'day': [str(day).zfill(2) for day in days],\n",
    "            'time': ['00:00', '03:00', '06:00', '09:00', '12:00', '15:00', '18:00', '21:00'],\n",
    "            'format': 'netcdf',\n",
    "            'area': area,\n",
    "        }\n",
    "\n",
    "        try:\n",
    "            c.retrieve('reanalysis-era5-single-levels', request, output_filename)\n",
    "            print(f\"Téléchargement réussi pour {year}-{month:02d} {dek}\")\n",
    "        except Exception as e:\n",
    "            print(f\"Erreur lors du téléchargement pour {year}-{month:02d} {dek}: {e}\")\n",
    "            "
   ]
  },
  {
   "cell_type": "code",
   "execution_count": 4,
   "metadata": {},
   "outputs": [],
   "source": [
    "# Fonction de téléchargement des données\n",
    "def download_data_level(year, month, dek, days, parametre, area=area_bf, level=None):\n",
    "    file_prex=os.path.basename(output_directory)\n",
    "    output_filename = os.path.join(output_directory, f'{file_prex}_{year}_{month:02d}_{dek}.nc')\n",
    "    \n",
    "    if not os.path.isfile(output_filename):\n",
    "        request = {\n",
    "            'product_type': 'reanalysis',\n",
    "            'variable': parametre, #'sea_surface_temperature',\n",
    "            'year': str(year),\n",
    "            'pressure_level': level,\n",
    "            'month': str(month).zfill(2),\n",
    "            'day': [str(day).zfill(2) for day in days],\n",
    "            'time': ['00:00', '03:00', '06:00', '09:00', '12:00', '15:00', '18:00', '21:00'],\n",
    "            'format': 'netcdf',\n",
    "            'area': area,\n",
    "        }\n",
    "\n",
    "        try:\n",
    "            c.retrieve('reanalysis-era5-pressure-levels', request, output_filename)\n",
    "            print(f\"Téléchargement réussi pour {year}-{month:02d} {dek}\")\n",
    "        except Exception as e:\n",
    "            print(f\"Erreur lors du téléchargement pour {year}-{month:02d} {dek}: {e}\")\n"
   ]
  },
  {
   "attachments": {},
   "cell_type": "markdown",
   "metadata": {},
   "source": [
    "### I TEMPERATURE MER"
   ]
  },
  {
   "attachments": {},
   "cell_type": "markdown",
   "metadata": {},
   "source": [
    "##### I-1 TEMPERATURE MER LANGUE "
   ]
  },
  {
   "cell_type": "code",
   "execution_count": 5,
   "metadata": {},
   "outputs": [
    {
     "name": "stderr",
     "output_type": "stream",
     "text": [
      "2024-07-15 17:46:42,631 INFO Welcome to the CDS\n",
      "2024-07-15 17:46:42,639 INFO Welcome to the CDS\n",
      "2024-07-15 17:46:42,641 INFO Sending request to https://cds.climate.copernicus.eu/api/v2/resources/reanalysis-era5-single-levels\n",
      "2024-07-15 17:46:42,639 INFO Sending request to https://cds.climate.copernicus.eu/api/v2/resources/reanalysis-era5-single-levels\n",
      "2024-07-15 17:46:42,639 INFO Welcome to the CDS\n",
      "2024-07-15 17:46:42,644 INFO Sending request to https://cds.climate.copernicus.eu/api/v2/resources/reanalysis-era5-single-levels\n",
      "2024-07-15 17:46:42,894 INFO Request is completed\n",
      "2024-07-15 17:46:42,894 INFO Request is completed\n",
      "2024-07-15 17:46:42,895 INFO Request is completed\n",
      "2024-07-15 17:46:42,899 INFO Downloading https://download-0018.copernicus-climate.eu/cache-compute-0018/cache/data0/adaptor.mars.internal-1721064485.1227477-12129-6-2e47b3c5-e932-4b27-b5b8-254bdab411e3.nc to ..\\ASSETS\\DATA\\RAW\\ERA5\\SST_LEF\\SST_LEF_2001_01_01.nc (1.4M)\n",
      "2024-07-15 17:46:42,895 INFO Downloading https://download-0011-clone.copernicus-climate.eu/cache-compute-0011/cache/data4/adaptor.mars.internal-1720917992.0693333-2517-7-37692c48-4486-4227-b3a3-f5d774d9765d.nc to ..\\ASSETS\\DATA\\RAW\\ERA5\\SST_LEF\\SST_LEF_2001_01_03.nc (1.5M)\n",
      "2024-07-15 17:46:42,895 INFO Downloading https://download-0009-clone.copernicus-climate.eu/cache-compute-0009/cache/data6/adaptor.mars.internal-1720917935.810695-16786-10-931d9500-bc2e-42fb-8f26-80d54d51f89c.nc to ..\\ASSETS\\DATA\\RAW\\ERA5\\SST_LEF\\SST_LEF_2001_01_02.nc (1.4M)\n",
      "  0%|          | 0.00/1.38M [00:00<?, ?B/s]\n",
      "  1%|          | 9.00k/1.38M [00:00<00:21, 66.7kB/s]\n",
      "  3%|▎         | 41.0k/1.38M [00:00<00:08, 165kB/s] \n",
      "  7%|▋         | 95.0k/1.38M [00:00<00:05, 266kB/s]\n",
      " 15%|█▍        | 207k/1.38M [00:00<00:02, 479kB/s] \n",
      " 26%|██▌       | 365k/1.38M [00:00<00:01, 693kB/s]\n",
      " 37%|███▋      | 521k/1.38M [00:00<00:01, 796kB/s]\n",
      "\u001b[A\n",
      "\u001b[A2024-07-15 17:46:44,634 INFO Download rate 900.2K/s\n",
      " 48%|████▊     | 677k/1.38M [00:01<00:00, 834kB/s]2024-07-15 17:46:44,689 INFO Download rate 792.8K/s\n",
      " 71%|███████   | 0.99M/1.38M [00:01<00:00, 1.01MB/s]"
     ]
    },
    {
     "name": "stdout",
     "output_type": "stream",
     "text": [
      "Téléchargement réussi pour 2001-01 03\n",
      "Téléchargement réussi pour 2001-01 01\n"
     ]
    },
    {
     "name": "stderr",
     "output_type": "stream",
     "text": [
      "2024-07-15 17:46:45,390 INFO Download rate 570K/s   \n"
     ]
    },
    {
     "name": "stdout",
     "output_type": "stream",
     "text": [
      "Téléchargement réussi pour 2001-01 02\n",
      "Téléchargement terminé.\n"
     ]
    }
   ],
   "source": [
    "# Chemin du dossier de sortie\n",
    "output_directory =Config.SST_LEF_DEK\n",
    "os.makedirs(output_directory, exist_ok=True)\n",
    "# Utilisez ThreadPoolExecutor pour télécharger en parallèle\n",
    "with ThreadPoolExecutor(max_workers=num_threads) as executor:\n",
    "    futures = [executor.submit(download_data, year, month, dek, days,'sea_surface_temperature',area_lef) for year, month, dek, days in tasks]\n",
    "    for future in as_completed(futures):\n",
    "        future.result()\n",
    "\n",
    "print(\"Téléchargement terminé.\")"
   ]
  },
  {
   "attachments": {},
   "cell_type": "markdown",
   "metadata": {},
   "source": [
    "##### I-2 TEMPERATURE MER NINO 3.4"
   ]
  },
  {
   "cell_type": "code",
   "execution_count": 6,
   "metadata": {},
   "outputs": [
    {
     "name": "stderr",
     "output_type": "stream",
     "text": [
      "2024-07-15 17:46:45,758 INFO Welcome to the CDS\n",
      "2024-07-15 17:46:45,758 INFO Sending request to https://cds.climate.copernicus.eu/api/v2/resources/reanalysis-era5-single-levels\n",
      "2024-07-15 17:46:45,804 INFO Welcome to the CDS\n",
      "2024-07-15 17:46:45,806 INFO Sending request to https://cds.climate.copernicus.eu/api/v2/resources/reanalysis-era5-single-levels\n",
      "2024-07-15 17:46:45,825 INFO Welcome to the CDS\n",
      "2024-07-15 17:46:45,834 INFO Sending request to https://cds.climate.copernicus.eu/api/v2/resources/reanalysis-era5-single-levels\n",
      "2024-07-15 17:46:46,024 INFO Downloading https://download-0011-clone.copernicus-climate.eu/cache-compute-0011/cache/data1/adaptor.mars.internal-1721065175.396839-3442-3-c413be2e-7091-4842-9464-5dcd2e159c5a.nc to ..\\ASSETS\\DATA\\RAW\\ERA5\\SST_NINO\\SST_NINO_2001_01_01.nc (7.8M)\n",
      "2024-07-15 17:46:46,034 INFO Downloading https://download-0019.copernicus-climate.eu/cache-compute-0019/cache/data4/adaptor.mars.internal-1720920842.168267-18112-14-2e9b0c3c-5cc6-46e9-a661-efe8d89e3dd3.nc to ..\\ASSETS\\DATA\\RAW\\ERA5\\SST_NINO\\SST_NINO_2001_01_03.nc (8.5M)\n",
      "2024-07-15 17:46:46,093 INFO Downloading https://download-0006-clone.copernicus-climate.eu/cache-compute-0006/cache/data5/adaptor.mars.internal-1721065185.979254-21766-14-a25db7c9-c240-41f3-8fb5-7fc3e74277c5.nc to ..\\ASSETS\\DATA\\RAW\\ERA5\\SST_NINO\\SST_NINO_2001_01_02.nc (7.8M)\n",
      " 30%|███       | 2.34M/7.77M [00:00<00:00, 5.84MB/s]\n",
      " 64%|██████▍   | 4.97M/7.77M [00:01<00:00, 4.05MB/s]\n",
      "2024-07-15 17:46:47,502 INFO Download rate 5.3M/s   \n",
      "\n",
      "\u001b[A"
     ]
    },
    {
     "name": "stdout",
     "output_type": "stream",
     "text": [
      "Téléchargement réussi pour 2001-01 01\n"
     ]
    },
    {
     "name": "stderr",
     "output_type": "stream",
     "text": [
      "\n",
      "\u001b[A\n",
      "\u001b[A\n",
      "\u001b[A\n",
      "\u001b[A\n",
      "\u001b[A\n",
      "\u001b[A\n",
      "\u001b[A\n",
      "\u001b[A\n",
      "\u001b[A2024-07-15 17:46:49,334 INFO Download rate 2.6M/s\n",
      "\n",
      "\u001b[A\n",
      "\u001b[A"
     ]
    },
    {
     "name": "stdout",
     "output_type": "stream",
     "text": [
      "Téléchargement réussi pour 2001-01 03\n"
     ]
    },
    {
     "name": "stderr",
     "output_type": "stream",
     "text": [
      "\n",
      "\u001b[A\n",
      "\u001b[A\n",
      "\u001b[A\n",
      "\u001b[A\n",
      "\u001b[A\n",
      "\u001b[A\n",
      "\u001b[A\n",
      "\u001b[A\n",
      "\u001b[A\n",
      "\u001b[A\n",
      "\u001b[A\n",
      "\u001b[A\n",
      "\u001b[A\n",
      "\u001b[A\n",
      "\u001b[A\n",
      "\u001b[A\n",
      "\u001b[A\n",
      "\u001b[A\n",
      "\u001b[A\n",
      "\u001b[A\n",
      "\u001b[A\n",
      "\u001b[A\n",
      "\u001b[A\n",
      "\u001b[A\n",
      "\u001b[A\n",
      "\u001b[A\n",
      "\u001b[A\n",
      "\u001b[A\n",
      "\u001b[A\n",
      "\u001b[A\n",
      "\u001b[A\n",
      "\u001b[A\n",
      "\u001b[A\n",
      "\u001b[A\n",
      "\u001b[A\n",
      "\u001b[A\n",
      "\u001b[A\n",
      "\u001b[A\n",
      "\u001b[A\n",
      "\u001b[A\n",
      "\u001b[A\n",
      "\u001b[A\n",
      "\u001b[A\n",
      "\u001b[A\n",
      "\u001b[A\n",
      "\u001b[A\n",
      "\u001b[A\n",
      "\u001b[A\n",
      "\u001b[A\n",
      "\u001b[A\n",
      "\u001b[A\n",
      "\u001b[A\n",
      "\u001b[A\n",
      "\u001b[A\n",
      "\u001b[A\n",
      "\u001b[A\n",
      "\u001b[A\n",
      "\u001b[A\n",
      "\u001b[A\n",
      "\u001b[A\n",
      "\u001b[A\n",
      "\u001b[A\n",
      "\u001b[A\n",
      "\u001b[A\n",
      "\u001b[A\n",
      "\u001b[A\n",
      "\u001b[A\n",
      "\u001b[A\n",
      "\u001b[A\n",
      "\u001b[A\n",
      "\u001b[A\n",
      "\u001b[A\n",
      "\u001b[A\n",
      "\u001b[A\n",
      "\u001b[A\n",
      "\u001b[A\n",
      "\u001b[A\n",
      "\u001b[A\n",
      "\u001b[A\n",
      "\u001b[A\n",
      "\u001b[A\n",
      "\u001b[A\n",
      "\u001b[A\n",
      "\u001b[A\n",
      "\u001b[A\n",
      "\u001b[A\n",
      "\u001b[A\n",
      "\u001b[A\n",
      "\u001b[A\n",
      "\u001b[A\n",
      "\u001b[A\n",
      "\u001b[A\n",
      "\u001b[A\n",
      "\u001b[A\n",
      "\u001b[A\n",
      "\u001b[A\n",
      "\u001b[A\n",
      "\u001b[A\n",
      "\u001b[A\n",
      "\u001b[A\n",
      "\u001b[A\n",
      "\u001b[A\n",
      "\u001b[A\n",
      "\u001b[A2024-07-15 17:47:11,105 INFO Download rate 318.1K/s\n"
     ]
    },
    {
     "name": "stdout",
     "output_type": "stream",
     "text": [
      "Téléchargement réussi pour 2001-01 02\n",
      "Téléchargement terminé.\n"
     ]
    }
   ],
   "source": [
    "# Chemin du dossier de sortie\n",
    "output_directory =Config.SST_NINO_DEK  # \n",
    "#if os.path.exists(output_directory):\n",
    "#    shutil.rmtree(output_directory)\n",
    "# Créez un nouveau dossier\n",
    "os.makedirs(output_directory, exist_ok=True)\n",
    "# Utilisez ThreadPoolExecutor pour télécharger en parallèle\n",
    "with ThreadPoolExecutor(max_workers=num_threads) as executor:\n",
    "    futures = [executor.submit(download_data, year, month, dek, days,'sea_surface_temperature',area_nino) for year, month, dek, days in tasks]\n",
    "    for future in as_completed(futures):\n",
    "        future.result()\n",
    "\n",
    "print(\"Téléchargement terminé.\")\n",
    "\n",
    "#download_data(year, month, dek, days,parametre,area=area_bf,level=None)"
   ]
  },
  {
   "attachments": {},
   "cell_type": "markdown",
   "metadata": {},
   "source": [
    "### II POINT DE ROSEE"
   ]
  },
  {
   "cell_type": "code",
   "execution_count": 7,
   "metadata": {},
   "outputs": [
    {
     "name": "stderr",
     "output_type": "stream",
     "text": [
      "2024-07-15 17:47:11,483 INFO Welcome to the CDS\n",
      "2024-07-15 17:47:11,499 INFO Welcome to the CDS\n",
      "2024-07-15 17:47:11,499 INFO Welcome to the CDS\n",
      "2024-07-15 17:47:11,499 INFO Sending request to https://cds.climate.copernicus.eu/api/v2/resources/reanalysis-era5-single-levels\n",
      "2024-07-15 17:47:11,499 INFO Sending request to https://cds.climate.copernicus.eu/api/v2/resources/reanalysis-era5-single-levels\n",
      "2024-07-15 17:47:11,499 INFO Sending request to https://cds.climate.copernicus.eu/api/v2/resources/reanalysis-era5-single-levels\n",
      "2024-07-15 17:47:11,767 INFO Downloading https://download-0012-clone.copernicus-climate.eu/cache-compute-0012/cache/data9/adaptor.mars.internal-1720923797.4465582-8876-14-d72f9962-97d8-42f8-93d7-556c14c2fd92.nc to ..\\ASSETS\\DATA\\RAW\\ERA5\\TEMP_ROS\\TEMP_ROS_2001_01_02.nc (116.6K)\n",
      "2024-07-15 17:47:11,814 INFO Downloading https://download-0019.copernicus-climate.eu/cache-compute-0019/cache/data0/adaptor.mars.internal-1720923763.4274533-5247-16-da628d4b-55fd-41f9-8245-25d34ff0772d.nc to ..\\ASSETS\\DATA\\RAW\\ERA5\\TEMP_ROS\\TEMP_ROS_2001_01_01.nc (116.6K)\n",
      "2024-07-15 17:47:11,814 INFO Downloading https://download-0003-clone.copernicus-climate.eu/cache-compute-0003/cache/data0/adaptor.mars.internal-1720923823.341111-29901-13-ec8aefc1-a098-4656-ba8e-44e9d1168725.nc to ..\\ASSETS\\DATA\\RAW\\ERA5\\TEMP_ROS\\TEMP_ROS_2001_01_03.nc (128.1K)\n",
      "2024-07-15 17:47:12,453 INFO Download rate 182.6K/s\n",
      " 27%|██▋       | 34.0k/128k [00:00<00:00, 128kB/s] \n"
     ]
    },
    {
     "name": "stdout",
     "output_type": "stream",
     "text": [
      "Téléchargement réussi pour 2001-01 01\n"
     ]
    },
    {
     "name": "stderr",
     "output_type": "stream",
     "text": [
      " 79%|███████▉  | 92.0k/117k [00:00<00:00, 267kB/s]\u001b[A2024-07-15 17:47:12,834 INFO Download rate 110.9K/s\n",
      "2024-07-15 17:47:12,906 INFO Download rate 117.3K/s\n"
     ]
    },
    {
     "name": "stdout",
     "output_type": "stream",
     "text": [
      "Téléchargement réussi pour 2001-01 02\n",
      "Téléchargement réussi pour 2001-01 03\n",
      "Téléchargement terminé.\n"
     ]
    }
   ],
   "source": [
    "# Chemin du dossier de sortie\n",
    "output_directory =Config.TEMP_ROS_DEK\n",
    "#if os.path.exists(output_directory):\n",
    "#    shutil.rmtree(output_directory)\n",
    "# Créez un nouveau dossier\n",
    "os.makedirs(output_directory, exist_ok=True)\n",
    "# Utilisez ThreadPoolExecutor pour télécharger en parallèle\n",
    "with ThreadPoolExecutor(max_workers=num_threads) as executor:\n",
    "    futures = [executor.submit(download_data, year, month, dek, days,'2m_dewpoint_temperature',area_bf) for year, month, dek, days in tasks]\n",
    "    for future in as_completed(futures):\n",
    "        future.result()\n",
    "\n",
    "print(\"Téléchargement terminé.\")\n",
    "\n",
    "\n",
    "#download_data(year, month, dek, days,parametre,area=area_bf,level=None)"
   ]
  },
  {
   "attachments": {},
   "cell_type": "markdown",
   "metadata": {},
   "source": [
    "### III VOLUMETRIQUE SOIL"
   ]
  },
  {
   "cell_type": "code",
   "execution_count": 8,
   "metadata": {},
   "outputs": [
    {
     "name": "stderr",
     "output_type": "stream",
     "text": [
      "2024-07-15 17:47:13,304 INFO Welcome to the CDS\n",
      "2024-07-15 17:47:13,311 INFO Welcome to the CDS\n",
      "2024-07-15 17:47:13,311 INFO Welcome to the CDS\n",
      "2024-07-15 17:47:13,311 INFO Sending request to https://cds.climate.copernicus.eu/api/v2/resources/reanalysis-era5-single-levels\n",
      "2024-07-15 17:47:13,317 INFO Sending request to https://cds.climate.copernicus.eu/api/v2/resources/reanalysis-era5-single-levels\n",
      "2024-07-15 17:47:13,318 INFO Sending request to https://cds.climate.copernicus.eu/api/v2/resources/reanalysis-era5-single-levels\n",
      "2024-07-15 17:47:13,602 INFO Request is queued\n",
      "2024-07-15 17:47:13,634 INFO Request is completed\n",
      "2024-07-15 17:47:13,634 INFO Downloading https://download-0003-clone.copernicus-climate.eu/cache-compute-0003/cache/data0/adaptor.mars.internal-1720926373.4595983-18780-18-d23feed8-e693-4e58-b7cd-e348d9e58b3b.nc to ..\\ASSETS\\DATA\\RAW\\ERA5\\SOL_EAU\\SOL_EAU_2001_01_03.nc (128.1K)\n",
      "  0%|          | 0.00/128k [00:00<?, ?B/s]2024-07-15 17:47:13,856 INFO Downloading https://download-0015-clone.copernicus-climate.eu/cache-compute-0015/cache/data0/adaptor.mars.internal-1720926332.3213391-6898-14-4d862184-8027-4c07-ac11-a17610b08fea.nc to ..\\ASSETS\\DATA\\RAW\\ERA5\\SOL_EAU\\SOL_EAU_2001_01_02.nc (116.6K)\n",
      "2024-07-15 17:47:14,198 INFO Download rate 228.1K/s\n"
     ]
    },
    {
     "name": "stdout",
     "output_type": "stream",
     "text": [
      "Téléchargement réussi pour 2001-01 03\n"
     ]
    },
    {
     "name": "stderr",
     "output_type": "stream",
     "text": [
      "  7%|▋         | 8.00k/117k [00:00<00:02, 53.5kB/s]2024-07-15 17:47:14,773 INFO Request is running\n",
      "2024-07-15 17:47:15,083 INFO Download rate 95K/s   \n"
     ]
    },
    {
     "name": "stdout",
     "output_type": "stream",
     "text": [
      "Téléchargement réussi pour 2001-01 02\n"
     ]
    },
    {
     "name": "stderr",
     "output_type": "stream",
     "text": [
      "2024-07-15 17:47:22,584 INFO Request is completed\n",
      "2024-07-15 17:47:22,584 INFO Downloading https://download-0005-clone.copernicus-climate.eu/cache-compute-0005/cache/data6/adaptor.mars.internal-1721065647.760827-15532-9-28a1939e-b914-47b3-9494-32bcbfce2d08.nc to ..\\ASSETS\\DATA\\RAW\\ERA5\\SOL_EAU\\SOL_EAU_2001_01_01.nc (116.6K)\n",
      "2024-07-15 17:47:23,988 INFO Download rate 83.5K/s \n"
     ]
    },
    {
     "name": "stdout",
     "output_type": "stream",
     "text": [
      "Téléchargement réussi pour 2001-01 01\n",
      "Téléchargement terminé.\n"
     ]
    }
   ],
   "source": [
    "# Chemin du dossier de sortie\n",
    "output_directory =Config.SOL_EAU_DEK\n",
    "#if os.path.exists(output_directory):\n",
    "#    shutil.rmtree(output_directory)\n",
    "# Créez un nouveau dossier\n",
    "os.makedirs(output_directory, exist_ok=True)\n",
    "# Utilisez ThreadPoolExecutor pour télécharger en parallèle\n",
    "with ThreadPoolExecutor(max_workers=num_threads) as executor:\n",
    "    futures = [executor.submit(download_data, year, month, dek, days,'volumetric_soil_water_layer_1',area_bf) for year, month, dek, days in tasks]\n",
    "    for future in as_completed(futures):\n",
    "        future.result()\n",
    "\n",
    "print(\"Téléchargement terminé.\")\n",
    "#download_data(year, month, dek, days,parametre,area=area_bf,level=None)"
   ]
  },
  {
   "attachments": {},
   "cell_type": "markdown",
   "metadata": {},
   "source": [
    "### IV EAU PRECIPITABLE"
   ]
  },
  {
   "cell_type": "code",
   "execution_count": 9,
   "metadata": {},
   "outputs": [
    {
     "name": "stderr",
     "output_type": "stream",
     "text": [
      "2024-07-15 17:47:24,426 INFO Welcome to the CDS\n",
      "2024-07-15 17:47:24,430 INFO Sending request to https://cds.climate.copernicus.eu/api/v2/resources/reanalysis-era5-single-levels\n",
      "2024-07-15 17:47:24,430 INFO Welcome to the CDS\n",
      "2024-07-15 17:47:24,430 INFO Sending request to https://cds.climate.copernicus.eu/api/v2/resources/reanalysis-era5-single-levels\n",
      "2024-07-15 17:47:24,430 INFO Welcome to the CDS\n",
      "2024-07-15 17:47:24,442 INFO Sending request to https://cds.climate.copernicus.eu/api/v2/resources/reanalysis-era5-single-levels\n",
      "2024-07-15 17:47:24,695 INFO Request is queued\n",
      "2024-07-15 17:47:24,713 INFO Request is completed\n",
      "2024-07-15 17:47:24,713 INFO Downloading https://download-0015-clone.copernicus-climate.eu/cache-compute-0015/cache/data0/adaptor.mars.internal-1720929235.1198535-25635-8-25b00a12-45fb-4522-bbc8-6a9b285d13d2.nc to ..\\ASSETS\\DATA\\RAW\\ERA5\\PREC_EAU\\PREC_EAU_2001_01_02.nc (116.6K)\n",
      "2024-07-15 17:47:25,422 INFO Download rate 164.6K/s\n"
     ]
    },
    {
     "name": "stdout",
     "output_type": "stream",
     "text": [
      "Téléchargement réussi pour 2001-01 02\n"
     ]
    },
    {
     "name": "stderr",
     "output_type": "stream",
     "text": [
      "2024-07-15 17:47:25,946 INFO Request is queued\n",
      "2024-07-15 17:47:25,946 INFO Request is queued\n",
      "2024-07-15 17:47:27,671 INFO Request is running\n",
      "2024-07-15 17:47:30,134 INFO Request is queued\n",
      "2024-07-15 17:47:33,727 INFO Request is running\n",
      "2024-07-15 17:47:33,727 INFO Request is completed\n",
      "2024-07-15 17:47:33,727 INFO Downloading https://download-0016.copernicus-climate.eu/cache-compute-0016/cache/data0/adaptor.mars.internal-1721065660.1274512-1585-6-df6dd61c-bdbb-4cc9-ba48-2846a33670c8.nc to ..\\ASSETS\\DATA\\RAW\\ERA5\\PREC_EAU\\PREC_EAU_2001_01_03.nc (128.2K)\n",
      "2024-07-15 17:47:35,162 INFO Download rate 89.3K/s \n"
     ]
    },
    {
     "name": "stdout",
     "output_type": "stream",
     "text": [
      "Téléchargement réussi pour 2001-01 03\n"
     ]
    },
    {
     "name": "stderr",
     "output_type": "stream",
     "text": [
      "2024-07-15 17:47:38,944 INFO Request is running\n",
      "2024-07-15 17:47:46,717 INFO Request is completed\n",
      "2024-07-15 17:47:46,717 INFO Downloading https://download-0008-clone.copernicus-climate.eu/cache-compute-0008/cache/data3/adaptor.mars.internal-1721065667.7123187-6635-16-d8a4cd49-2c5e-4f80-b0a9-912a969d3fb1.nc to ..\\ASSETS\\DATA\\RAW\\ERA5\\PREC_EAU\\PREC_EAU_2001_01_01.nc (116.6K)\n",
      "2024-07-15 17:47:48,161 INFO Download rate 81.7K/s \n"
     ]
    },
    {
     "name": "stdout",
     "output_type": "stream",
     "text": [
      "Téléchargement réussi pour 2001-01 01\n",
      "Téléchargement terminé.\n"
     ]
    }
   ],
   "source": [
    "# Chemin du dossier de sortie\n",
    "output_directory =Config.PREC_EAU_DEK\n",
    "\n",
    "# Créez un nouveau dossier\n",
    "os.makedirs(output_directory, exist_ok=True)\n",
    "# Utilisez ThreadPoolExecutor pour télécharger en parallèle\n",
    "with ThreadPoolExecutor(max_workers=num_threads) as executor:\n",
    "    futures = [executor.submit(download_data, year, month, dek, days,'vertical_integral_of_divergence_of_cloud_liquid_water_flux',area_bf) for year, month, dek, days in tasks]\n",
    "    for future in as_completed(futures):\n",
    "        future.result()\n",
    "\n",
    "print(\"Téléchargement terminé.\")\n",
    "\n",
    "#download_data(year, month, dek, days,parametre,area=area_bf,level=None)"
   ]
  },
  {
   "attachments": {},
   "cell_type": "markdown",
   "metadata": {},
   "source": [
    "### V VENT ALTITUDE"
   ]
  },
  {
   "attachments": {},
   "cell_type": "markdown",
   "metadata": {},
   "source": [
    "#### V.1- WIND V 975 hPa"
   ]
  },
  {
   "cell_type": "code",
   "execution_count": 10,
   "metadata": {},
   "outputs": [
    {
     "name": "stderr",
     "output_type": "stream",
     "text": [
      "2024-07-15 17:47:48,572 INFO Welcome to the CDS\n",
      "2024-07-15 17:47:48,572 INFO Welcome to the CDS\n",
      "2024-07-15 17:47:48,588 INFO Sending request to https://cds.climate.copernicus.eu/api/v2/resources/reanalysis-era5-pressure-levels\n",
      "2024-07-15 17:47:48,572 INFO Sending request to https://cds.climate.copernicus.eu/api/v2/resources/reanalysis-era5-pressure-levels\n",
      "2024-07-15 17:47:48,572 INFO Welcome to the CDS\n",
      "2024-07-15 17:47:48,592 INFO Sending request to https://cds.climate.copernicus.eu/api/v2/resources/reanalysis-era5-pressure-levels\n",
      "2024-07-15 17:47:48,889 INFO Request is queued\n",
      "2024-07-15 17:47:48,920 INFO Request is completed\n",
      "2024-07-15 17:47:48,920 INFO Downloading https://download-0012-clone.copernicus-climate.eu/cache-compute-0012/cache/data9/adaptor.mars.internal-1720932088.144655-30316-13-6a6be187-2fc9-4789-bfbd-ea1705d8194f.nc to ..\\ASSETS\\DATA\\RAW\\ERA5\\V_WIND_975\\V_WIND_975_2001_01_02.nc (116.6K)\n",
      "2024-07-15 17:47:48,935 INFO Downloading https://download-0018.copernicus-climate.eu/cache-compute-0018/cache/data5/adaptor.mars.internal-1720932030.2411213-27237-14-3d5e725f-24e4-44a0-8f35-c626a6bff8cc.nc to ..\\ASSETS\\DATA\\RAW\\ERA5\\V_WIND_975\\V_WIND_975_2001_01_03.nc (128.1K)\n",
      "2024-07-15 17:47:49,743 INFO Download rate 141.6K/s\n",
      "\n"
     ]
    },
    {
     "name": "stdout",
     "output_type": "stream",
     "text": [
      "Téléchargement réussi pour 2001-01 02\n"
     ]
    },
    {
     "name": "stderr",
     "output_type": "stream",
     "text": [
      " 33%|███▎      | 42.0k/128k [00:00<00:00, 133kB/s] \u001b[A2024-07-15 17:47:50,106 INFO Request is queued\n",
      "2024-07-15 17:47:50,246 INFO Download rate 97.8K/s\n"
     ]
    },
    {
     "name": "stdout",
     "output_type": "stream",
     "text": [
      "Téléchargement réussi pour 2001-01 03\n"
     ]
    },
    {
     "name": "stderr",
     "output_type": "stream",
     "text": [
      "2024-07-15 17:47:57,776 INFO Request is running\n",
      "2024-07-15 17:48:10,786 INFO Request is completed\n",
      "2024-07-15 17:48:10,786 INFO Downloading https://download-0006-clone.copernicus-climate.eu/cache-compute-0006/cache/data2/adaptor.mars.internal-1721065691.9390054-29571-4-3b70a9bd-551f-4198-9190-55fb35e3986c.nc to ..\\ASSETS\\DATA\\RAW\\ERA5\\V_WIND_975\\V_WIND_975_2001_01_01.nc (116.6K)\n",
      "2024-07-15 17:48:11,711 INFO Download rate 126.1K/s\n"
     ]
    },
    {
     "name": "stdout",
     "output_type": "stream",
     "text": [
      "Téléchargement réussi pour 2001-01 01\n",
      "Téléchargement terminé.\n"
     ]
    }
   ],
   "source": [
    "# Chemin du dossier de sortie\n",
    "output_directory =Config.V_WIND_975_DEK\n",
    "\n",
    "os.makedirs(output_directory, exist_ok=True)\n",
    "# Utilisez ThreadPoolExecutor pour télécharger en parallèle\n",
    "with ThreadPoolExecutor(max_workers=num_threads) as executor:\n",
    "    futures = [executor.submit(download_data_level, year, month, dek, days,'v_component_of_wind',area_bf,'975') for year, month, dek, days in tasks]\n",
    "    for future in as_completed(futures):\n",
    "        future.result()\n",
    "print(\"Téléchargement terminé.\")\n",
    "#download_data(year, month, dek, days,parametre,area=area_bf,level=None)"
   ]
  },
  {
   "attachments": {},
   "cell_type": "markdown",
   "metadata": {},
   "source": [
    "#### V.2- WIND V 925 hPa"
   ]
  },
  {
   "cell_type": "code",
   "execution_count": 11,
   "metadata": {},
   "outputs": [
    {
     "name": "stderr",
     "output_type": "stream",
     "text": [
      "2024-07-15 17:48:12,118 INFO Welcome to the CDS\n",
      "2024-07-15 17:48:12,118 INFO Welcome to the CDS\n",
      "2024-07-15 17:48:12,118 INFO Welcome to the CDS\n",
      "2024-07-15 17:48:12,118 INFO Sending request to https://cds.climate.copernicus.eu/api/v2/resources/reanalysis-era5-pressure-levels\n",
      "2024-07-15 17:48:12,134 INFO Sending request to https://cds.climate.copernicus.eu/api/v2/resources/reanalysis-era5-pressure-levels\n",
      "2024-07-15 17:48:12,140 INFO Sending request to https://cds.climate.copernicus.eu/api/v2/resources/reanalysis-era5-pressure-levels\n",
      "2024-07-15 17:48:12,392 INFO Downloading https://download-0016.copernicus-climate.eu/cache-compute-0016/cache/data3/adaptor.mars.internal-1720934821.4933712-23644-5-a4e4097f-8d5d-4801-8c82-a67a3f0a8db7.nc to ..\\ASSETS\\DATA\\RAW\\ERA5\\V_WIND_925\\V_WIND_925_2001_01_01.nc (116.6K)\n",
      "2024-07-15 17:48:12,421 INFO Downloading https://download-0006-clone.copernicus-climate.eu/cache-compute-0006/cache/data9/adaptor.mars.internal-1720934892.5056057-2651-2-cdce874b-f68c-4613-9bb3-21694dddb8d6.nc to ..\\ASSETS\\DATA\\RAW\\ERA5\\V_WIND_925\\V_WIND_925_2001_01_03.nc (128.1K)\n",
      "2024-07-15 17:48:12,483 INFO Downloading https://download-0019.copernicus-climate.eu/cache-compute-0019/cache/data4/adaptor.mars.internal-1720934815.724703-18039-18-b441868e-fd17-4825-b83e-9bf726e54cc0.nc to ..\\ASSETS\\DATA\\RAW\\ERA5\\V_WIND_925\\V_WIND_925_2001_01_02.nc (116.6K)\n",
      "  0%|          | 0.00/128k [00:00<?, ?B/s]\n",
      " 13%|█▎        | 17.0k/128k [00:00<00:00, 122kB/s]\n",
      "2024-07-15 17:48:12,865 INFO Download rate 288.4K/s\n",
      "\n",
      "\u001b[A2024-07-15 17:48:13,009 INFO Download rate 191.3K/s\n",
      "\n",
      "\u001b[A\n",
      "\u001b[A2024-07-15 17:48:13,105 INFO Download rate 187.4K/s\n"
     ]
    },
    {
     "name": "stdout",
     "output_type": "stream",
     "text": [
      "Téléchargement réussi pour 2001-01 03\n",
      "Téléchargement réussi pour 2001-01 01\n",
      "Téléchargement réussi pour 2001-01 02\n",
      "Téléchargement terminé.\n"
     ]
    }
   ],
   "source": [
    "# Chemin du dossier de sortie\n",
    "output_directory =Config.V_WIND_925_DEK\n",
    "\n",
    "# Créez un nouveau dossier\n",
    "os.makedirs(output_directory, exist_ok=True)\n",
    "# Utilisez ThreadPoolExecutor pour télécharger en parallèle\n",
    "with ThreadPoolExecutor(max_workers=num_threads) as executor:\n",
    "    futures = [executor.submit(download_data_level, year, month, dek, days,'v_component_of_wind',area_bf,'925') for year, month, dek, days in tasks]\n",
    "    for future in as_completed(futures):\n",
    "        future.result()\n",
    "\n",
    "print(\"Téléchargement terminé.\")\n",
    "#download_data(year, month, dek, days,parametre,area=area_bf,level=None)"
   ]
  },
  {
   "attachments": {},
   "cell_type": "markdown",
   "metadata": {},
   "source": [
    "#### V.2- WIND V 850 hPa"
   ]
  },
  {
   "cell_type": "code",
   "execution_count": 12,
   "metadata": {},
   "outputs": [
    {
     "name": "stderr",
     "output_type": "stream",
     "text": [
      "2024-07-15 17:48:13,453 INFO Welcome to the CDS\n",
      "2024-07-15 17:48:13,460 INFO Welcome to the CDS\n",
      "2024-07-15 17:48:13,460 INFO Welcome to the CDS\n",
      "2024-07-15 17:48:13,467 INFO Sending request to https://cds.climate.copernicus.eu/api/v2/resources/reanalysis-era5-pressure-levels\n",
      "2024-07-15 17:48:13,467 INFO Sending request to https://cds.climate.copernicus.eu/api/v2/resources/reanalysis-era5-pressure-levels\n",
      "2024-07-15 17:48:13,460 INFO Sending request to https://cds.climate.copernicus.eu/api/v2/resources/reanalysis-era5-pressure-levels\n",
      "2024-07-15 17:48:13,751 INFO Request is queued\n",
      "2024-07-15 17:48:13,831 INFO Request is completed\n",
      "2024-07-15 17:48:13,831 INFO Downloading https://download-0013-clone.copernicus-climate.eu/cache-compute-0013/cache/data5/adaptor.mars.internal-1720937589.560114-30431-19-9b2961c0-cbce-4498-b5e1-c7528fc26052.nc to ..\\ASSETS\\DATA\\RAW\\ERA5\\V_WIND_850\\V_WIND_850_2001_01_03.nc (128.1K)\n",
      "2024-07-15 17:48:13,959 INFO Request is queued\n",
      "2024-07-15 17:48:15,144 INFO Download rate 97.6K/s \n"
     ]
    },
    {
     "name": "stdout",
     "output_type": "stream",
     "text": [
      "Téléchargement réussi pour 2001-01 03\n"
     ]
    },
    {
     "name": "stderr",
     "output_type": "stream",
     "text": [
      "2024-07-15 17:48:35,667 INFO Request is completed\n",
      "2024-07-15 17:48:35,669 INFO Downloading https://download-0005-clone.copernicus-climate.eu/cache-compute-0005/cache/data8/adaptor.mars.internal-1721065722.341802-4219-10-0539e7b3-a2d3-4ed0-8350-76464fe3663e.nc to ..\\ASSETS\\DATA\\RAW\\ERA5\\V_WIND_850\\V_WIND_850_2001_01_02.nc (116.6K)\n",
      "2024-07-15 17:48:35,796 INFO Request is running\n",
      "2024-07-15 17:48:37,100 INFO Download rate 81.6K/s \n"
     ]
    },
    {
     "name": "stdout",
     "output_type": "stream",
     "text": [
      "Téléchargement réussi pour 2001-01 02\n"
     ]
    },
    {
     "name": "stderr",
     "output_type": "stream",
     "text": [
      "2024-07-15 17:48:47,453 INFO Request is completed\n",
      "2024-07-15 17:48:47,453 INFO Downloading https://download-0011-clone.copernicus-climate.eu/cache-compute-0011/cache/data9/adaptor.mars.internal-1721065728.6603832-32387-19-df0edaaa-abd8-45fd-9c16-123bef245d9d.nc to ..\\ASSETS\\DATA\\RAW\\ERA5\\V_WIND_850\\V_WIND_850_2001_01_01.nc (116.6K)\n",
      "2024-07-15 17:48:49,609 INFO Download rate 54.1K/s \n"
     ]
    },
    {
     "name": "stdout",
     "output_type": "stream",
     "text": [
      "Téléchargement réussi pour 2001-01 01\n",
      "Téléchargement terminé.\n"
     ]
    }
   ],
   "source": [
    "# Chemin du dossier de sortie\n",
    "output_directory =Config.V_WIND_850_DEK\n",
    "\n",
    "# Créez un nouveau dossier\n",
    "os.makedirs(output_directory, exist_ok=True)\n",
    "# Utilisez ThreadPoolExecutor pour télécharger en parallèle\n",
    "with ThreadPoolExecutor(max_workers=num_threads) as executor:\n",
    "    futures = [executor.submit(download_data_level, year, month, dek, days,'v_component_of_wind',area_bf,'850') for year, month, dek, days in tasks]\n",
    "    for future in as_completed(futures):\n",
    "        future.result()\n",
    "\n",
    "print(\"Téléchargement terminé.\")\n",
    "#download_data(year, month, dek, days,parametre,area=area_bf,level=None)"
   ]
  },
  {
   "attachments": {},
   "cell_type": "markdown",
   "metadata": {},
   "source": [
    "#### V.2- WIND V 700 hPa"
   ]
  },
  {
   "cell_type": "code",
   "execution_count": 13,
   "metadata": {},
   "outputs": [
    {
     "name": "stderr",
     "output_type": "stream",
     "text": [
      "2024-07-15 17:48:50,018 INFO Welcome to the CDS\n",
      "2024-07-15 17:48:50,022 INFO Welcome to the CDS\n",
      "2024-07-15 17:48:50,022 INFO Welcome to the CDS\n",
      "2024-07-15 17:48:50,028 INFO Sending request to https://cds.climate.copernicus.eu/api/v2/resources/reanalysis-era5-pressure-levels\n",
      "2024-07-15 17:48:50,028 INFO Sending request to https://cds.climate.copernicus.eu/api/v2/resources/reanalysis-era5-pressure-levels\n",
      "2024-07-15 17:48:50,022 INFO Sending request to https://cds.climate.copernicus.eu/api/v2/resources/reanalysis-era5-pressure-levels\n",
      "2024-07-15 17:48:50,290 INFO Downloading https://download-0004-clone.copernicus-climate.eu/cache-compute-0004/cache/data9/adaptor.mars.internal-1720940340.3774824-5686-2-2d38c869-c266-498c-824d-5ad019ab75f0.nc to ..\\ASSETS\\DATA\\RAW\\ERA5\\V_WIND_700\\V_WIND_700_2001_01_02.nc (116.6K)\n",
      "2024-07-15 17:48:50,312 INFO Downloading https://download-0009-clone.copernicus-climate.eu/cache-compute-0009/cache/data3/adaptor.mars.internal-1720940359.6337018-16192-1-1e6c7c40-5df9-49ec-844d-1a4633a43d2c.nc to ..\\ASSETS\\DATA\\RAW\\ERA5\\V_WIND_700\\V_WIND_700_2001_01_01.nc (116.6K)\n",
      "2024-07-15 17:48:50,331 INFO Request is queued\n",
      "2024-07-15 17:48:51,508 INFO Download rate 95.8K/s \n",
      "2024-07-15 17:48:51,524 INFO Download rate 96.2K/s\n"
     ]
    },
    {
     "name": "stdout",
     "output_type": "stream",
     "text": [
      "Téléchargement réussi pour 2001-01 02\n",
      "Téléchargement réussi pour 2001-01 01\n"
     ]
    },
    {
     "name": "stderr",
     "output_type": "stream",
     "text": [
      "2024-07-15 17:48:53,195 INFO Request is running\n",
      "2024-07-15 17:49:12,327 INFO Request is completed\n",
      "2024-07-15 17:49:12,327 INFO Downloading https://download-0009-clone.copernicus-climate.eu/cache-compute-0009/cache/data3/adaptor.mars.internal-1721065755.3720424-8486-4-1eb5a310-6754-4352-8d76-482235dba087.nc to ..\\ASSETS\\DATA\\RAW\\ERA5\\V_WIND_700\\V_WIND_700_2001_01_03.nc (128.1K)\n",
      "2024-07-15 17:49:13,054 INFO Download rate 176.1K/s\n"
     ]
    },
    {
     "name": "stdout",
     "output_type": "stream",
     "text": [
      "Téléchargement réussi pour 2001-01 03\n",
      "Téléchargement terminé.\n"
     ]
    }
   ],
   "source": [
    "# Chemin du dossier de sortie\n",
    "output_directory =Config.V_WIND_700_DEK\n",
    "\n",
    "# Créez un nouveau dossier\n",
    "os.makedirs(output_directory, exist_ok=True)\n",
    "# Utilisez ThreadPoolExecutor pour télécharger en parallèle\n",
    "with ThreadPoolExecutor(max_workers=num_threads) as executor:\n",
    "    futures = [executor.submit(download_data_level, year, month, dek, days,'v_component_of_wind',area_bf,'700') for year, month, dek, days in tasks]\n",
    "    for future in as_completed(futures):\n",
    "        future.result()\n",
    "\n",
    "print(\"Téléchargement terminé.\")\n",
    "#download_data(year, month, dek, days,parametre,area=area_bf,level=None)"
   ]
  },
  {
   "attachments": {},
   "cell_type": "markdown",
   "metadata": {},
   "source": [
    "#### V.3- WIND V 200 hPa"
   ]
  },
  {
   "cell_type": "code",
   "execution_count": 14,
   "metadata": {},
   "outputs": [
    {
     "name": "stderr",
     "output_type": "stream",
     "text": [
      "2024-07-15 17:49:13,457 INFO Welcome to the CDS\n",
      "2024-07-15 17:49:13,461 INFO Welcome to the CDS\n",
      "2024-07-15 17:49:13,466 INFO Sending request to https://cds.climate.copernicus.eu/api/v2/resources/reanalysis-era5-pressure-levels\n",
      "2024-07-15 17:49:13,461 INFO Sending request to https://cds.climate.copernicus.eu/api/v2/resources/reanalysis-era5-pressure-levels\n",
      "2024-07-15 17:49:13,461 INFO Welcome to the CDS\n",
      "2024-07-15 17:49:13,476 INFO Sending request to https://cds.climate.copernicus.eu/api/v2/resources/reanalysis-era5-pressure-levels\n",
      "2024-07-15 17:49:13,772 INFO Request is queued\n",
      "2024-07-15 17:49:13,788 INFO Request is completed\n",
      "2024-07-15 17:49:13,788 INFO Downloading https://download-0001-clone.copernicus-climate.eu/cache-compute-0001/cache/data8/adaptor.mars.internal-1720943132.4428618-27875-3-0b621eb0-f369-4acc-be03-b82d3f0f8c29.nc to ..\\ASSETS\\DATA\\RAW\\ERA5\\V_WIND_200\\V_WIND_200_2001_01_02.nc (116.6K)\n",
      " 30%|███       | 35.0k/117k [00:00<00:00, 96.8kB/s]2024-07-15 17:49:14,996 INFO Request is queued\n",
      "2024-07-15 17:49:14,996 INFO Request is queued\n",
      "2024-07-15 17:49:15,203 INFO Download rate 82.4K/s \n"
     ]
    },
    {
     "name": "stdout",
     "output_type": "stream",
     "text": [
      "Téléchargement réussi pour 2001-01 02\n"
     ]
    },
    {
     "name": "stderr",
     "output_type": "stream",
     "text": [
      "2024-07-15 17:49:16,643 INFO Request is running\n",
      "2024-07-15 17:49:16,661 INFO Request is queued\n",
      "2024-07-15 17:49:19,120 INFO Request is running\n",
      "2024-07-15 17:49:22,854 INFO Request is queued\n",
      "2024-07-15 17:49:28,108 INFO Request is running\n",
      "2024-07-15 17:49:28,108 INFO Request is completed\n",
      "2024-07-15 17:49:28,108 INFO Downloading https://download-0014-clone.copernicus-climate.eu/cache-compute-0014/cache/data3/adaptor.mars.internal-1721065770.622612-18068-2-ea6d70e8-1747-44b1-b6b4-f9303ea09db4.nc to ..\\ASSETS\\DATA\\RAW\\ERA5\\V_WIND_200\\V_WIND_200_2001_01_01.nc (116.6K)\n",
      "2024-07-15 17:49:30,550 INFO Download rate 47.7K/s \n"
     ]
    },
    {
     "name": "stdout",
     "output_type": "stream",
     "text": [
      "Téléchargement réussi pour 2001-01 01\n"
     ]
    },
    {
     "name": "stderr",
     "output_type": "stream",
     "text": [
      "2024-07-15 17:49:35,896 INFO Downloading https://download-0017.copernicus-climate.eu/cache-compute-0017/cache/data6/adaptor.mars.internal-1721065779.1605437-7595-12-baaf7965-9584-4047-85f6-27d0a1e1eda1.nc to ..\\ASSETS\\DATA\\RAW\\ERA5\\V_WIND_200\\V_WIND_200_2001_01_03.nc (128.1K)\n",
      "2024-07-15 17:49:37,316 INFO Download rate 91K/s   \n"
     ]
    },
    {
     "name": "stdout",
     "output_type": "stream",
     "text": [
      "Téléchargement réussi pour 2001-01 03\n",
      "Téléchargement terminé.\n"
     ]
    }
   ],
   "source": [
    "# Chemin du dossier de sortie\n",
    "output_directory =Config.V_WIND_200_DEK\n",
    "\n",
    "# Créez un nouveau dossier\n",
    "os.makedirs(output_directory, exist_ok=True)\n",
    "# Utilisez ThreadPoolExecutor pour télécharger en parallèle\n",
    "with ThreadPoolExecutor(max_workers=num_threads) as executor:\n",
    "    futures = [executor.submit(download_data_level, year, month, dek, days,'v_component_of_wind',area_bf,'200') for year, month, dek, days in tasks]\n",
    "    for future in as_completed(futures):\n",
    "        future.result()\n",
    "\n",
    "print(\"Téléchargement terminé.\")\n",
    "#download_data(year, month, dek, days,parametre,area=area_bf,level=None)"
   ]
  },
  {
   "attachments": {},
   "cell_type": "markdown",
   "metadata": {},
   "source": [
    "#### V.4- WIND U 975 hPa"
   ]
  },
  {
   "cell_type": "code",
   "execution_count": 15,
   "metadata": {},
   "outputs": [
    {
     "name": "stderr",
     "output_type": "stream",
     "text": [
      "2024-07-15 17:49:37,718 INFO Welcome to the CDS\n",
      "2024-07-15 17:49:37,736 INFO Welcome to the CDS\n",
      "2024-07-15 17:49:37,736 INFO Welcome to the CDS\n",
      "2024-07-15 17:49:37,742 INFO Sending request to https://cds.climate.copernicus.eu/api/v2/resources/reanalysis-era5-pressure-levels\n",
      "2024-07-15 17:49:37,742 INFO Sending request to https://cds.climate.copernicus.eu/api/v2/resources/reanalysis-era5-pressure-levels\n",
      "2024-07-15 17:49:37,736 INFO Sending request to https://cds.climate.copernicus.eu/api/v2/resources/reanalysis-era5-pressure-levels\n",
      "2024-07-15 17:49:38,026 INFO Request is queued\n",
      "2024-07-15 17:49:38,026 INFO Downloading https://download-0020.copernicus-climate.eu/cache-compute-0020/cache/data1/adaptor.mars.internal-1720946015.870326-26656-11-ea5c741d-9b6e-4452-b281-b5462570f3df.nc to ..\\ASSETS\\DATA\\RAW\\ERA5\\U_WIND_975\\U_WIND_975_2001_01_02.nc (116.6K)\n",
      " 35%|███▌      | 41.0k/117k [00:00<00:00, 142kB/s] 2024-07-15 17:49:39,222 INFO Request is running\n",
      "2024-07-15 17:49:39,238 INFO Download rate 96.9K/s\n"
     ]
    },
    {
     "name": "stdout",
     "output_type": "stream",
     "text": [
      "Téléchargement réussi pour 2001-01 02\n"
     ]
    },
    {
     "name": "stderr",
     "output_type": "stream",
     "text": [
      "2024-07-15 17:49:40,886 INFO Request is queued\n",
      "2024-07-15 17:49:40,919 INFO Request is running\n",
      "2024-07-15 17:49:43,367 INFO Request is queued\n",
      "2024-07-15 17:49:46,942 INFO Request is running\n",
      "2024-07-15 17:49:46,942 INFO Request is completed\n",
      "2024-07-15 17:49:46,942 INFO Downloading https://download-0013-clone.copernicus-climate.eu/cache-compute-0013/cache/data0/adaptor.mars.internal-1721065791.6872532-1488-7-5c0d7ca9-dd4e-4af5-9ae1-2cd960d46df9.nc to ..\\ASSETS\\DATA\\RAW\\ERA5\\U_WIND_975\\U_WIND_975_2001_01_01.nc (116.6K)\n",
      "2024-07-15 17:49:48,412 INFO Download rate 79.3K/s \n"
     ]
    },
    {
     "name": "stdout",
     "output_type": "stream",
     "text": [
      "Téléchargement réussi pour 2001-01 01\n"
     ]
    },
    {
     "name": "stderr",
     "output_type": "stream",
     "text": [
      "2024-07-15 17:49:52,187 INFO Downloading https://download-0018.copernicus-climate.eu/cache-compute-0018/cache/data6/adaptor.mars.internal-1721065798.8940308-11847-8-d88197bf-2871-40e4-ab00-7d258ef98152.nc to ..\\ASSETS\\DATA\\RAW\\ERA5\\U_WIND_975\\U_WIND_975_2001_01_03.nc (128.1K)\n",
      "2024-07-15 17:49:53,551 INFO Download rate 93.9K/s \n"
     ]
    },
    {
     "name": "stdout",
     "output_type": "stream",
     "text": [
      "Téléchargement réussi pour 2001-01 03\n",
      "Téléchargement terminé.\n"
     ]
    }
   ],
   "source": [
    "# Chemin du dossier de sortie\n",
    "output_directory =Config.U_WIND_975_DEK\n",
    "\n",
    "# Créez un nouveau dossier\n",
    "os.makedirs(output_directory, exist_ok=True)\n",
    "# Utilisez ThreadPoolExecutor pour télécharger en parallèle\n",
    "with ThreadPoolExecutor(max_workers=num_threads) as executor:\n",
    "    futures = [executor.submit(download_data_level, year, month, dek, days,'u_component_of_wind',area_bf,'975') for year, month, dek, days in tasks]\n",
    "    for future in as_completed(futures):\n",
    "        future.result()\n",
    "\n",
    "print(\"Téléchargement terminé.\")\n",
    "#download_data(year, month, dek, days,parametre,area=area_bf,level=None)"
   ]
  },
  {
   "attachments": {},
   "cell_type": "markdown",
   "metadata": {},
   "source": [
    "#### V.4- WIND U 925 hPa"
   ]
  },
  {
   "cell_type": "code",
   "execution_count": 16,
   "metadata": {},
   "outputs": [
    {
     "name": "stderr",
     "output_type": "stream",
     "text": [
      "2024-07-15 17:49:53,991 INFO Welcome to the CDS\n",
      "2024-07-15 17:49:54,007 INFO Sending request to https://cds.climate.copernicus.eu/api/v2/resources/reanalysis-era5-pressure-levels\n",
      "2024-07-15 17:49:54,007 INFO Welcome to the CDS\n",
      "2024-07-15 17:49:54,023 INFO Sending request to https://cds.climate.copernicus.eu/api/v2/resources/reanalysis-era5-pressure-levels\n",
      "2024-07-15 17:49:53,991 INFO Welcome to the CDS\n",
      "2024-07-15 17:49:54,023 INFO Sending request to https://cds.climate.copernicus.eu/api/v2/resources/reanalysis-era5-pressure-levels\n",
      "2024-07-15 17:49:54,306 INFO Downloading https://download-0020.copernicus-climate.eu/cache-compute-0020/cache/data2/adaptor.mars.internal-1720948938.3179986-13327-8-6c9f6931-ae97-4b48-b9aa-4aeaaed9bd41.nc to ..\\ASSETS\\DATA\\RAW\\ERA5\\U_WIND_925\\U_WIND_925_2001_01_03.nc (128.1K)\n",
      "2024-07-15 17:49:54,368 INFO Request is queued\n",
      "2024-07-15 17:49:55,173 INFO Download rate 147.8K/s\n"
     ]
    },
    {
     "name": "stdout",
     "output_type": "stream",
     "text": [
      "Téléchargement réussi pour 2001-01 03\n"
     ]
    },
    {
     "name": "stderr",
     "output_type": "stream",
     "text": [
      "2024-07-15 17:49:55,583 INFO Request is running\n",
      "2024-07-15 17:49:57,171 INFO Request is queued\n",
      "2024-07-15 17:49:57,223 INFO Request is running\n",
      "2024-07-15 17:50:32,531 INFO Request is completed\n",
      "2024-07-15 17:50:32,531 INFO Request is completed\n",
      "2024-07-15 17:50:32,531 INFO Downloading https://download-0012-clone.copernicus-climate.eu/cache-compute-0012/cache/data0/adaptor.mars.internal-1721065808.1979907-10939-18-3d4372a1-f514-4685-b85b-7a416540ec23.nc to ..\\ASSETS\\DATA\\RAW\\ERA5\\U_WIND_925\\U_WIND_925_2001_01_02.nc (116.6K)\n",
      "2024-07-15 17:50:32,531 INFO Downloading https://download-0016.copernicus-climate.eu/cache-compute-0016/cache/data1/adaptor.mars.internal-1721065815.92516-31977-13-f9a67a79-0f36-4241-84d6-a25eb2caafb7.nc to ..\\ASSETS\\DATA\\RAW\\ERA5\\U_WIND_925\\U_WIND_925_2001_01_01.nc (116.6K)\n",
      "2024-07-15 17:50:34,343 INFO Download rate 64.9K/s \n",
      "2024-07-15 17:50:34,343 INFO Download rate 64.9K/s\n"
     ]
    },
    {
     "name": "stdout",
     "output_type": "stream",
     "text": [
      "Téléchargement réussi pour 2001-01 02Téléchargement réussi pour 2001-01 01\n",
      "\n",
      "Téléchargement terminé.\n"
     ]
    }
   ],
   "source": [
    "# Chemin du dossier de sortie\n",
    "output_directory =Config.U_WIND_925_DEK\n",
    "\n",
    "# Créez un nouveau dossier\n",
    "os.makedirs(output_directory, exist_ok=True)\n",
    "# Utilisez ThreadPoolExecutor pour télécharger en parallèle\n",
    "with ThreadPoolExecutor(max_workers=num_threads) as executor:\n",
    "    futures = [executor.submit(download_data_level, year, month, dek, days,'u_component_of_wind',area_bf,'925') for year, month, dek, days in tasks]\n",
    "    for future in as_completed(futures):\n",
    "        future.result()\n",
    "\n",
    "print(\"Téléchargement terminé.\")\n",
    "#download_data(year, month, dek, days,parametre,area=area_bf,level=None)"
   ]
  },
  {
   "attachments": {},
   "cell_type": "markdown",
   "metadata": {},
   "source": [
    "#### V.4- WIND U 850 hPa"
   ]
  },
  {
   "cell_type": "code",
   "execution_count": 17,
   "metadata": {},
   "outputs": [
    {
     "name": "stderr",
     "output_type": "stream",
     "text": [
      "2024-07-15 17:50:34,758 INFO Welcome to the CDS\n",
      "2024-07-15 17:50:34,758 INFO Welcome to the CDS\n",
      "2024-07-15 17:50:34,758 INFO Welcome to the CDS\n",
      "2024-07-15 17:50:34,758 INFO Sending request to https://cds.climate.copernicus.eu/api/v2/resources/reanalysis-era5-pressure-levels\n",
      "2024-07-15 17:50:34,762 INFO Sending request to https://cds.climate.copernicus.eu/api/v2/resources/reanalysis-era5-pressure-levels\n",
      "2024-07-15 17:50:34,762 INFO Sending request to https://cds.climate.copernicus.eu/api/v2/resources/reanalysis-era5-pressure-levels\n",
      "2024-07-15 17:50:35,091 INFO Downloading https://download-0005-clone.copernicus-climate.eu/cache-compute-0005/cache/data5/adaptor.mars.internal-1720951939.6157389-17273-15-06e65c1d-b4f1-42f0-b929-7accd5f7e506.nc to ..\\ASSETS\\DATA\\RAW\\ERA5\\U_WIND_850\\U_WIND_850_2001_01_02.nc (116.6K)\n",
      "2024-07-15 17:50:35,091 INFO Downloading https://download-0008-clone.copernicus-climate.eu/cache-compute-0008/cache/data2/adaptor.mars.internal-1720952008.242049-23581-14-34ab7047-a7c9-445e-914d-88d025405182.nc to ..\\ASSETS\\DATA\\RAW\\ERA5\\U_WIND_850\\U_WIND_850_2001_01_03.nc (128.1K)\n",
      "2024-07-15 17:50:35,161 INFO Downloading https://download-0016.copernicus-climate.eu/cache-compute-0016/cache/data4/adaptor.mars.internal-1720951902.825479-16436-15-03bff665-a3b5-4115-bbc0-42f729dc8784.nc to ..\\ASSETS\\DATA\\RAW\\ERA5\\U_WIND_850\\U_WIND_850_2001_01_01.nc (116.6K)\n",
      "2024-07-15 17:50:35,461 INFO Download rate 388.9K/s\n"
     ]
    },
    {
     "name": "stdout",
     "output_type": "stream",
     "text": [
      "Téléchargement réussi pour 2001-01 01\n"
     ]
    },
    {
     "name": "stderr",
     "output_type": "stream",
     "text": [
      "2024-07-15 17:50:36,082 INFO Download rate 129.4K/s\n",
      "2024-07-15 17:50:36,213 INFO Download rate 104K/s\n"
     ]
    },
    {
     "name": "stdout",
     "output_type": "stream",
     "text": [
      "Téléchargement réussi pour 2001-01 03\n",
      "Téléchargement réussi pour 2001-01 02\n",
      "Téléchargement terminé.\n"
     ]
    }
   ],
   "source": [
    "# Chemin du dossier de sortie\n",
    "output_directory =Config.U_WIND_850_DEK\n",
    "\n",
    "# Créez un nouveau dossier\n",
    "os.makedirs(output_directory, exist_ok=True)\n",
    "# Utilisez ThreadPoolExecutor pour télécharger en parallèle\n",
    "with ThreadPoolExecutor(max_workers=num_threads) as executor:\n",
    "    futures = [executor.submit(download_data_level, year, month, dek, days,'u_component_of_wind',area_bf,'850') for year, month, dek, days in tasks]\n",
    "    for future in as_completed(futures):\n",
    "        future.result()\n",
    "\n",
    "print(\"Téléchargement terminé.\")\n",
    "#download_data(year, month, dek, days,parametre,area=area_bf,level=None)"
   ]
  },
  {
   "attachments": {},
   "cell_type": "markdown",
   "metadata": {},
   "source": [
    "#### V.5- WIND U 700 hPa"
   ]
  },
  {
   "cell_type": "code",
   "execution_count": 18,
   "metadata": {},
   "outputs": [
    {
     "name": "stderr",
     "output_type": "stream",
     "text": [
      "2024-07-15 17:50:36,594 INFO Welcome to the CDS\n",
      "2024-07-15 17:50:36,594 INFO Welcome to the CDS\n",
      "2024-07-15 17:50:36,594 INFO Sending request to https://cds.climate.copernicus.eu/api/v2/resources/reanalysis-era5-pressure-levels\n",
      "2024-07-15 17:50:36,594 INFO Welcome to the CDS\n",
      "2024-07-15 17:50:36,594 INFO Sending request to https://cds.climate.copernicus.eu/api/v2/resources/reanalysis-era5-pressure-levels\n",
      "2024-07-15 17:50:36,604 INFO Sending request to https://cds.climate.copernicus.eu/api/v2/resources/reanalysis-era5-pressure-levels\n",
      "2024-07-15 17:50:36,836 INFO Downloading https://download-0013-clone.copernicus-climate.eu/cache-compute-0013/cache/data5/adaptor.mars.internal-1720954832.4588094-27011-5-00110077-0fc5-43a1-b7e5-0368a1f0af91.nc to ..\\ASSETS\\DATA\\RAW\\ERA5\\U_WIND_700\\U_WIND_700_2001_01_01.nc (116.6K)\n",
      "2024-07-15 17:50:36,886 INFO Downloading https://download-0012-clone.copernicus-climate.eu/cache-compute-0012/cache/data7/adaptor.mars.internal-1720954786.1513026-7342-6-32ebbf18-5723-481b-9aee-35bdb12e400e.nc to ..\\ASSETS\\DATA\\RAW\\ERA5\\U_WIND_700\\U_WIND_700_2001_01_02.nc (116.6K)\n",
      "2024-07-15 17:50:36,929 INFO Request is queued\n",
      "2024-07-15 17:50:37,408 INFO Download rate 203.8K/s\n",
      "2024-07-15 17:50:37,504 INFO Download rate 188.6K/s\n"
     ]
    },
    {
     "name": "stdout",
     "output_type": "stream",
     "text": [
      "Téléchargement réussi pour 2001-01 01\n",
      "Téléchargement réussi pour 2001-01 02\n"
     ]
    },
    {
     "name": "stderr",
     "output_type": "stream",
     "text": [
      "2024-07-15 17:50:38,076 INFO Request is running\n",
      "2024-07-15 17:50:45,734 INFO Request is completed\n",
      "2024-07-15 17:50:45,734 INFO Downloading https://download-0004-clone.copernicus-climate.eu/cache-compute-0004/cache/data1/adaptor.mars.internal-1721065851.6475067-24620-7-318fd657-2687-4466-9a8b-c5c59547432b.nc to ..\\ASSETS\\DATA\\RAW\\ERA5\\U_WIND_700\\U_WIND_700_2001_01_03.nc (128.1K)\n",
      "2024-07-15 17:50:47,050 INFO Download rate 97.4K/s \n"
     ]
    },
    {
     "name": "stdout",
     "output_type": "stream",
     "text": [
      "Téléchargement réussi pour 2001-01 03\n",
      "Téléchargement terminé.\n"
     ]
    }
   ],
   "source": [
    "# Chemin du dossier de sortie\n",
    "output_directory =Config.U_WIND_700_DEK\n",
    "\n",
    "# Créez un nouveau dossier\n",
    "os.makedirs(output_directory, exist_ok=True)\n",
    "# Utilisez ThreadPoolExecutor pour télécharger en parallèle\n",
    "with ThreadPoolExecutor(max_workers=num_threads) as executor:\n",
    "    futures = [executor.submit(download_data_level, year, month, dek, days,'u_component_of_wind',area_bf,'700') for year, month, dek, days in tasks]\n",
    "    for future in as_completed(futures):\n",
    "        future.result()\n",
    "\n",
    "print(\"Téléchargement terminé.\")\n",
    "#download_data(year, month, dek, days,parametre,area=area_bf,level=None)"
   ]
  },
  {
   "attachments": {},
   "cell_type": "markdown",
   "metadata": {},
   "source": [
    "#### V.6- WIND U 200 hPa"
   ]
  },
  {
   "cell_type": "code",
   "execution_count": 20,
   "metadata": {},
   "outputs": [
    {
     "name": "stdout",
     "output_type": "stream",
     "text": [
      "Téléchargement terminé.\n"
     ]
    }
   ],
   "source": [
    "# Chemin du dossier de sortie\n",
    "output_directory =Config.U_WIND_200_DEK\n",
    "\n",
    "# Créez un nouveau dossier\n",
    "os.makedirs(output_directory, exist_ok=True)\n",
    "# Utilisez ThreadPoolExecutor pour télécharger en parallèle\n",
    "with ThreadPoolExecutor(max_workers=num_threads) as executor:\n",
    "    futures = [executor.submit(download_data_level, year, month, dek, days,'u_component_of_wind',area_bf,'200') for year, month, dek, days in tasks]\n",
    "    for future in as_completed(futures):\n",
    "        future.result()\n",
    "\n",
    "print(\"Téléchargement terminé.\")\n",
    "#download_data(year, month, dek, days,parametre,area=area_bf,level=None)"
   ]
  }
 ],
 "metadata": {
  "kernelspec": {
   "display_name": "Python 3",
   "language": "python",
   "name": "python3"
  },
  "language_info": {
   "codemirror_mode": {
    "name": "ipython",
    "version": 3
   },
   "file_extension": ".py",
   "mimetype": "text/x-python",
   "name": "python",
   "nbconvert_exporter": "python",
   "pygments_lexer": "ipython3",
   "version": "3.12.4"
  },
  "orig_nbformat": 4
 },
 "nbformat": 4,
 "nbformat_minor": 2
}
