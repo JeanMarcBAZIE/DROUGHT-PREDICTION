{
 "cells": [
  {
   "cell_type": "code",
   "execution_count": 1,
   "metadata": {},
   "outputs": [],
   "source": [
    "import os, sys\n",
    "import pyproj\n",
    "from pyproj import Proj \n",
    "from netCDF4 import Dataset\n",
    "import netCDF4, h5netcdf, zarr\n",
    "import xarray as xr\n",
    "import shutil, glob\n",
    "import numpy as np\n",
    "import pandas as pd\n",
    "from datetime import datetime, timedelta\n",
    "import datetime\n",
    "import cftime\n",
    "import subprocess\n",
    "import shutil\n",
    "from functools import reduce\n",
    "from config import Config, Constant\n",
    "import logging\n",
    "from cdo import Cdo\n",
    "import warnings\n",
    "warnings.filterwarnings('ignore')"
   ]
  },
  {
   "cell_type": "markdown",
   "metadata": {},
   "source": [
    "#### Concatenation des fichiers netcdf"
   ]
  },
  {
   "cell_type": "code",
   "execution_count": 2,
   "metadata": {},
   "outputs": [],
   "source": [
    "def concat_nc_files(folder_name, output_filename=\"output.nc\"):\n",
    "    # Liste pour stocker les datasets\n",
    "    datasets = []\n",
    "    \n",
    "    # Parcours des fichiers dans le dossier\n",
    "    for filename in os.listdir(folder_name):\n",
    "        if filename.endswith(\".nc\"):\n",
    "\n",
    "            #change_missing_val(filename,folder_name)\n",
    "            # Chargement du fichier NetCDF\n",
    "            ds = xr.open_dataset(os.path.join(folder_name, filename), engine='netcdf4')\n",
    "            datasets.append(ds) \n",
    "\n",
    "    # Concaténation des datasets\n",
    "    combined = xr.concat(datasets, dim=\"time\")\n",
    "    \n",
    "    # Sauvegarde dans un fichier NetCDF\n",
    "    combined.to_netcdf(output_filename)"
   ]
  },
  {
   "cell_type": "markdown",
   "metadata": {},
   "source": [
    "#### Changement des valeurs manquantes des fichiers netcdf"
   ]
  },
  {
   "cell_type": "code",
   "execution_count": 3,
   "metadata": {},
   "outputs": [],
   "source": [
    "def change_missing_val(folder_in, folder_out):\n",
    "    # Construire le chemin complet du fichier\n",
    "    os.makedirs(folder_out, exist_ok=True)\n",
    "\n",
    "    for filename in os.listdir(folder_in):\n",
    "        if filename.endswith(\".nc\"):\n",
    "\n",
    "            full_input_path = os.path.join(folder_in, filename)\n",
    "            full_output_path=os.path.join(folder_out,filename)\n",
    "\n",
    "            # Changer les valeurs manquantes avec CDO\n",
    "            change = f'cdo setmissval,nan {full_input_path} {full_output_path}'\n",
    "            subprocess.run(change, shell=True)\n"
   ]
  },
  {
   "cell_type": "code",
   "execution_count": null,
   "metadata": {},
   "outputs": [],
   "source": [
    "def calculate_rolling_average(df_data, num_months):\n",
    "    df=df_data.copy()\n",
    "    # Triez le DataFrame par 'Station', 'Year' et 'Month'\n",
    "    df = df.sort_values(['Station', 'Year', 'Month'])\n",
    "    columns_to_average=['v_wind_925','u_wind_850', 'u_wind_700', 'u_wind_200', 'eau_precipitable', 't_point_rosee', 'h_vol_sol_wat', 'anom_lef_mois', 'anom_nino_mois']\n",
    "    # Utilisez la méthode rolling() pour calculer la moyenne roulante sur le nombre de mois spécifié\n",
    "    rolling_average = df.groupby('Station')[columns_to_average].rolling(window=num_months).mean()\n",
    "    # Réinitialisez l'index\n",
    "    rolling_average = rolling_average.reset_index()\n",
    "    rolling_average = rolling_average.set_index('level_1')\n",
    "    for col in columns_to_average:\n",
    "        df[col] = rolling_average[col]\n",
    "    return df"
   ]
  },
  {
   "cell_type": "code",
   "execution_count": 4,
   "metadata": {},
   "outputs": [],
   "source": [
    "#Lecture du fichier des données des coordonnées des stations\n",
    "#Ce fichier permet d'extraire les valeurs au dessus des stations à partir des fichiers NetCDF\n",
    "station_infos_file=os.path.join(Config.STATION_PATH,Config.STAT_COORD_FILE_NAME)\n",
    "\n",
    "stations = pd.read_excel(station_infos_file)"
   ]
  },
  {
   "cell_type": "code",
   "execution_count": 5,
   "metadata": {},
   "outputs": [],
   "source": [
    "# Liste contenant les noms des dataframes decades et mensuels\n",
    "df_terre_dek=[]\n",
    "df_terre_mon=[]\n",
    "df_mer_dek=[]\n",
    "df_mer_mon=[]"
   ]
  },
  {
   "cell_type": "code",
   "execution_count": 6,
   "metadata": {},
   "outputs": [],
   "source": [
    "# Variables de configuration\n",
    "folder_original = Config.V_WIND_925_DEK\n",
    "wind_925_v = Config.WIND_V_925\n",
    "# Repertoire sortie des données avec missing values corrigées\n",
    "folder_miss_check=Config.V_WIND_925_VAL\n",
    "# Chemin de sortie\n",
    "output_path = os.path.join(Config.ERA5_PATH, wind_925_v)\n",
    "#concat_nc_files(folder_name, output_path)\n",
    "\n",
    "change_missing_val(folder_original,folder_miss_check)"
   ]
  },
  {
   "cell_type": "code",
   "execution_count": 7,
   "metadata": {},
   "outputs": [],
   "source": [
    "concat_nc_files(folder_miss_check, output_path)"
   ]
  },
  {
   "cell_type": "code",
   "execution_count": null,
   "metadata": {},
   "outputs": [],
   "source": [
    "# Lecture de fichier de vent v à la 925hPa\n",
    "v_wind_925=Dataset(output_path)\n",
    "#Lecture des variables du fichier au format netCDF\n",
    "v_wind=v_wind_925.variables['v'][:]\n",
    "unitd=v_wind_925.variables['v'].units\n",
    "unit=v_wind_925.variables['time'].units\n",
    "times=v_wind_925.variables['time'][:]\n",
    "lat=v_wind_925.variables['latitude'][:]\n",
    "lon=v_wind_925.variables['longitude'][:]"
   ]
  },
  {
   "cell_type": "code",
   "execution_count": null,
   "metadata": {},
   "outputs": [],
   "source": [
    "print(v_wind_925)"
   ]
  },
  {
   "cell_type": "code",
   "execution_count": null,
   "metadata": {},
   "outputs": [],
   "source": [
    "val_miss=Dataset('V_WIND_925_1961_01_01_OK.nc')\n",
    "for var in val_miss.variables.values():\n",
    "    print(var)"
   ]
  },
  {
   "cell_type": "code",
   "execution_count": null,
   "metadata": {},
   "outputs": [],
   "source": [
    "val=Dataset('V_WIND_925_1961_01_01.nc')\n",
    "for var in val.variables.values():\n",
    "    print(var)"
   ]
  },
  {
   "cell_type": "code",
   "execution_count": null,
   "metadata": {},
   "outputs": [],
   "source": [
    "val_miss = xr.open_dataset('V_WIND_925_1961_01_01_OK.nc')\n",
    "\n",
    "# Afficher les informations du dataset\n",
    "print(val_miss)\n",
    "\n",
    "# Parcourir les variables pour trouver les attributs spécifiques des valeurs manquantes\n",
    "for var in val_miss.data_vars:\n",
    "    print(f\"Variable: {var}\")\n",
    "    print(val_miss[var].attrs)"
   ]
  },
  {
   "cell_type": "code",
   "execution_count": null,
   "metadata": {},
   "outputs": [],
   "source": [
    "variable_name = \"v\"  # Remplacez par le nom de votre variable\n",
    "variable_data = val_miss[variable_name]\n",
    "\n",
    "# Afficher les attributs de la variable\n",
    "print(variable_data.attrs)\n",
    "\n",
    "# Afficher la valeur manquante\n",
    "missing_value = variable_data.attrs.get('_FillValue', None)\n",
    "if missing_value is None:\n",
    "    missing_value = variable_data.attrs.get('missing_value', None)\n",
    "\n",
    "print(f\"La valeur manquante pour {variable_name} est : {missing_value}\")\n"
   ]
  },
  {
   "cell_type": "code",
   "execution_count": null,
   "metadata": {},
   "outputs": [],
   "source": []
  },
  {
   "cell_type": "code",
   "execution_count": null,
   "metadata": {},
   "outputs": [],
   "source": []
  },
  {
   "cell_type": "code",
   "execution_count": null,
   "metadata": {},
   "outputs": [],
   "source": [
    "val_miss = xr.open_dataset('V_WIND_925_1961_01_01.nc')\n",
    "\n",
    "# Afficher les informations du dataset\n",
    "print(val_miss)\n",
    "\n",
    "# Parcourir les variables pour trouver les attributs spécifiques des valeurs manquantes\n",
    "for var in val_miss.data_vars:\n",
    "    print(f\"Variable: {var}\")\n",
    "    print(val_miss[var].attrs)"
   ]
  },
  {
   "cell_type": "code",
   "execution_count": null,
   "metadata": {},
   "outputs": [],
   "source": [
    "variable_name = \"v\"  # Remplacez par le nom de votre variable\n",
    "variable_data = val_miss[variable_name]\n",
    "\n",
    "# Afficher les attributs de la variable\n",
    "print(variable_data.attrs)\n",
    "\n",
    "# Afficher la valeur manquante\n",
    "missing_value = variable_data.attrs.get('_FillValue', None)\n",
    "if missing_value is None:\n",
    "    missing_value = variable_data.attrs.get('missing_value', None)\n",
    "\n",
    "print(f\"La valeur manquante pour {variable_name} est : {missing_value}\")"
   ]
  }
 ],
 "metadata": {
  "language_info": {
   "name": "python"
  }
 },
 "nbformat": 4,
 "nbformat_minor": 2
}
