{
 "cells": [
  {
   "cell_type": "markdown",
   "metadata": {},
   "source": [
    "Ce notebook vise à traiter les données issues de ERA5 (au dessus du BF ou des mers). Toutes les variables seront mises en commun et sauvegardées dans deux fichiers (decadaires et mensuelles)"
   ]
  },
  {
   "cell_type": "code",
   "execution_count": 2,
   "metadata": {},
   "outputs": [],
   "source": [
    "import os, sys\n",
    "import pyproj\n",
    "from pyproj import Proj \n",
    "from netCDF4 import Dataset\n",
    "import netCDF4, h5netcdf, zarr\n",
    "import xarray as xr\n",
    "import shutil, glob\n",
    "import numpy as np\n",
    "import pandas as pd\n",
    "from datetime import datetime, timedelta\n",
    "import datetime\n",
    "import cftime\n",
    "import subprocess\n",
    "import shutil\n",
    "from functools import reduce\n",
    "from config import Config, Constant\n",
    "import logging\n",
    "from cdo import Cdo\n",
    "import warnings\n",
    "warnings.filterwarnings('ignore')"
   ]
  },
  {
   "cell_type": "markdown",
   "metadata": {},
   "source": [
    "#### Concatenation des fichiers netcdf"
   ]
  },
  {
   "cell_type": "code",
   "execution_count": 3,
   "metadata": {},
   "outputs": [],
   "source": [
    "def concat_nc_files(folder_name, output_filename=\"output.nc\"):\n",
    "    # Liste pour stocker les datasets\n",
    "    datasets = []\n",
    "    \n",
    "    # Parcours des fichiers dans le dossier\n",
    "    for filename in os.listdir(folder_name):\n",
    "        if filename.endswith(\".nc\"):\n",
    "\n",
    "            #change_missing_val(filename,folder_name)\n",
    "            # Chargement du fichier NetCDF\n",
    "            ds = xr.open_dataset(os.path.join(folder_name, filename), engine='netcdf4')\n",
    "            datasets.append(ds) \n",
    "\n",
    "    # Concaténation des datasets\n",
    "    combined = xr.concat(datasets, dim=\"time\")\n",
    "    \n",
    "    # Sauvegarde dans un fichier NetCDF\n",
    "    combined.to_netcdf(output_filename)"
   ]
  },
  {
   "cell_type": "markdown",
   "metadata": {},
   "source": [
    "#### Changement des valeurs manquantes des fichiers netcdf"
   ]
  },
  {
   "cell_type": "code",
   "execution_count": 5,
   "metadata": {},
   "outputs": [],
   "source": [
    "def change_missing_val(input_folder, output_folder):\n",
    "    os.makedirs(output_folder, exist_ok=True)\n",
    "\n",
    "    for filename in os.listdir(input_folder):\n",
    "        if filename.endswith(\".nc\"):\n",
    "            full_input_path = os.path.join(input_folder, filename)\n",
    "            full_output_path = os.path.join(output_folder, filename)\n",
    "            \n",
    "            ds = xr.open_dataset(full_input_path)\n",
    "            ds = ds.where(~np.isnan(ds), other=np.nan)\n",
    "            ds.to_netcdf(full_output_path)\n",
    "            ds.close()"
   ]
  },
  {
   "cell_type": "markdown",
   "metadata": {},
   "source": [
    "#### Fonction pour moyenne roulante"
   ]
  },
  {
   "cell_type": "code",
   "execution_count": 6,
   "metadata": {},
   "outputs": [],
   "source": [
    "def calculate_rolling_average(df_data, num_months):\n",
    "    df=df_data.copy()\n",
    "    # Triez le DataFrame par 'Station', 'Year' et 'Month'\n",
    "    df = df.sort_values(['Station', 'Year', 'Month'])\n",
    "    columns_to_average=['v_wind_925','u_wind_850', 'u_wind_700', 'u_wind_200', 'eau_precipitable', 't_point_rosee', 'h_vol_sol_wat', 'anom_lef_mois', 'anom_nino_mois']\n",
    "    # Utilisez la méthode rolling() pour calculer la moyenne roulante sur le nombre de mois spécifié\n",
    "    rolling_average = df.groupby('Station')[columns_to_average].rolling(window=num_months).mean()\n",
    "    # Réinitialisez l'index\n",
    "    rolling_average = rolling_average.reset_index()\n",
    "    rolling_average = rolling_average.set_index('level_1')\n",
    "    for col in columns_to_average:\n",
    "        df[col] = rolling_average[col]\n",
    "    return df"
   ]
  },
  {
   "cell_type": "markdown",
   "metadata": {},
   "source": [
    "#### Gestion des colonnes date"
   ]
  },
  {
   "cell_type": "code",
   "execution_count": 7,
   "metadata": {},
   "outputs": [],
   "source": [
    "def manage_date(all_data):\n",
    "    df=all_data.copy()\n",
    "    df['Date-Time'] = pd.to_datetime(df['Date-Time'])\n",
    "    # Créez une colonne 'Decade' en utilisant le numéro de décade dans le mois\n",
    "    decade_ranges = [0, 10, 20, 32]\n",
    "    dek_num = [1, 2, 3]\n",
    "    df['Day']=df['Date-Time'].dt.day\n",
    "    df['Decade'] = pd.cut(df['Day'], bins=decade_ranges, labels=dek_num)\n",
    "    # Créez les colonnes 'Year' et 'Month' à partir de la colonne 'Date-Time'\n",
    "    df['Year'] = df['Date-Time'].dt.year\n",
    "    df['Month'] = df['Date-Time'].dt.month\n",
    "    return df"
   ]
  },
  {
   "cell_type": "markdown",
   "metadata": {},
   "source": [
    "##### Calcul des moyennes decadaires à partir de données trihoraires"
   ]
  },
  {
   "cell_type": "code",
   "execution_count": 8,
   "metadata": {},
   "outputs": [],
   "source": [
    "def calcul_moy_decadaire(df_data, variable):\n",
    "    df=df_data.copy()\n",
    "    # Regroupez par année, mois et décade, puis calculez la moyenne décadaires pour 'd2m (m s**-1)'\n",
    "    decade_avg = df.groupby(['Station','Year', 'Month', 'Decade'])[variable].mean()\n",
    "    # Réinitialisez l'index pour obtenir une DataFrame propre avec les valeurs calculées\n",
    "    decade_avg = decade_avg.reset_index()\n",
    "    #Ajout du nom de la dataframe pour la concatenation\n",
    "    df_terre_dek.append(decade_avg)\n",
    "    # Affichez les moyennes décadaires\n",
    "    print(\"Moyenne décadaire :\\n\", decade_avg)"
   ]
  },
  {
   "cell_type": "markdown",
   "metadata": {},
   "source": [
    "##### Calcul des moyennes mensuelles à partir de données trihoraires"
   ]
  },
  {
   "cell_type": "code",
   "execution_count": 9,
   "metadata": {},
   "outputs": [],
   "source": [
    "def calcul_moy_mensuelle(df_data,variable):\n",
    "    df=df_data.copy()\n",
    "    # Maintenant, calculez la moyenne mensuelle en utilisant le même processus\n",
    "    month_avg = df.groupby(['Station','Year', 'Month'])[variable].mean()\n",
    "    month_avg = month_avg.reset_index()\n",
    "    # Affichez les moyennes mensuelles\n",
    "    print(\"\\nMoyenne mensuelle :\\n\", month_avg)\n",
    "    df_terre_mon.append(month_avg)"
   ]
  },
  {
   "cell_type": "code",
   "execution_count": 10,
   "metadata": {},
   "outputs": [],
   "source": [
    "#Lecture du fichier des données des coordonnées des stations\n",
    "#Ce fichier permet d'extraire les valeurs au dessus des stations à partir des fichiers NetCDF\n",
    "station_infos_file=os.path.join(Config.STATION_PATH,Config.STAT_COORD_FILE_NAME)\n",
    "\n",
    "stations = pd.read_excel(station_infos_file)"
   ]
  },
  {
   "cell_type": "code",
   "execution_count": 11,
   "metadata": {},
   "outputs": [],
   "source": [
    "# Liste contenant les noms des dataframes decades et mensuels\n",
    "df_terre_dek=[]\n",
    "df_terre_mon=[]\n",
    "df_mer_dek=[]\n",
    "df_mer_mon=[]"
   ]
  },
  {
   "cell_type": "markdown",
   "metadata": {},
   "source": [
    "### I- VITESSE VENT V À LA 925 hPa"
   ]
  },
  {
   "cell_type": "markdown",
   "metadata": {},
   "source": [
    "##### Changement des données manquantes du fichiers decadaires netcdf"
   ]
  },
  {
   "cell_type": "code",
   "execution_count": 12,
   "metadata": {},
   "outputs": [],
   "source": [
    "# Variables de configuration\n",
    "folder_original = Config.V_WIND_925_DEK\n",
    "wind_925_v = Config.WIND_V_925\n",
    "# Repertoire sortie des données avec missing values corrigées\n",
    "folder_miss_check=Config.V_WIND_925_VAL\n",
    "change_missing_val(folder_original,folder_miss_check)"
   ]
  },
  {
   "cell_type": "markdown",
   "metadata": {},
   "source": [
    "##### Concatenation des fichiers decadaires"
   ]
  },
  {
   "cell_type": "code",
   "execution_count": 13,
   "metadata": {},
   "outputs": [],
   "source": [
    "# Chemin de sortie\n",
    "output_path = os.path.join(Config.ERA5_PATH, wind_925_v)\n",
    "concat_nc_files(folder_miss_check, output_path)"
   ]
  },
  {
   "cell_type": "markdown",
   "metadata": {},
   "source": [
    "##### Lecture du fichier concatené"
   ]
  },
  {
   "cell_type": "code",
   "execution_count": 14,
   "metadata": {},
   "outputs": [],
   "source": [
    "# Lecture de fichier de vent v à la 925hPa\n",
    "v_wind_925=Dataset(output_path)\n",
    "#Lecture des variables du fichier au format netCDF\n",
    "v_wind=v_wind_925.variables['v'][:]\n",
    "unitd=v_wind_925.variables['v'].units\n",
    "unit=v_wind_925.variables['time'].units\n",
    "times=v_wind_925.variables['time'][:]\n",
    "lat=v_wind_925.variables['latitude'][:]\n",
    "lon=v_wind_925.variables['longitude'][:]"
   ]
  },
  {
   "cell_type": "markdown",
   "metadata": {},
   "source": [
    "##### Recuperation des valeurs les plus proche de chaque station"
   ]
  },
  {
   "cell_type": "code",
   "execution_count": 15,
   "metadata": {},
   "outputs": [
    {
     "name": "stdout",
     "output_type": "stream",
     "text": [
      "Generating time series for Bobo_Dioulasso\n",
      "Generating time series for Bobo_Dioulasso\n"
     ]
    },
    {
     "name": "stdout",
     "output_type": "stream",
     "text": [
      "Generating time series for Bogande\n",
      "Generating time series for Bogande\n"
     ]
    },
    {
     "name": "stdout",
     "output_type": "stream",
     "text": [
      "Generating time series for Boromo\n",
      "Generating time series for Boromo\n"
     ]
    },
    {
     "name": "stdout",
     "output_type": "stream",
     "text": [
      "Generating time series for Dedougou\n",
      "Generating time series for Dedougou\n"
     ]
    },
    {
     "name": "stdout",
     "output_type": "stream",
     "text": [
      "Generating time series for Dori\n",
      "Generating time series for Dori\n"
     ]
    },
    {
     "name": "stdout",
     "output_type": "stream",
     "text": [
      "Generating time series for Fada_Ngourma\n",
      "Generating time series for Fada_Ngourma\n"
     ]
    },
    {
     "name": "stdout",
     "output_type": "stream",
     "text": [
      "Generating time series for Gaoua\n",
      "Generating time series for Gaoua\n"
     ]
    },
    {
     "name": "stdout",
     "output_type": "stream",
     "text": [
      "Generating time series for Ouagadougou_aero\n",
      "Generating time series for Ouagadougou_aero\n"
     ]
    },
    {
     "name": "stdout",
     "output_type": "stream",
     "text": [
      "Generating time series for Ouahigouya\n",
      "Generating time series for Ouahigouya\n"
     ]
    },
    {
     "name": "stdout",
     "output_type": "stream",
     "text": [
      "Generating time series for Po\n",
      "Generating time series for Po\n"
     ]
    },
    {
     "name": "stdout",
     "output_type": "stream",
     "text": [
      "All station data is saved in the CSV file: ..\\ASSETS\\DATA\\ERA5\\v_wind_925.csv\n",
      "All station data is saved in the CSV file: ..\\ASSETS\\DATA\\ERA5\\v_wind_925.csv\n"
     ]
    }
   ],
   "source": [
    "# Créer un répertoire de sortie s'il n'existe pas déjà\n",
    "dir_out = Config.ERA5_DATA_PATH\n",
    "os.makedirs(dir_out, exist_ok=True)\n",
    "\n",
    "# Créer une liste pour stocker les informations des stations\n",
    "station_data_list = []\n",
    "\n",
    "for index, value in stations.iterrows():\n",
    "    station = value['station']  \n",
    "    \n",
    "    lon_point = value['longitude']  # Assurez-vous que la colonne s'appelle 'Longitude'\n",
    "    lat_point = value['latitude']   # Assurez-vous que la colonne s'appelle 'Latitude'\n",
    "    \n",
    "    # Calcul des carrés des différences entre les latitudes et longitudes\n",
    "    sq_diff_lat = (lat - lat_point) ** 2\n",
    "    sq_diff_lon = (lon - lon_point) ** 2\n",
    "    \n",
    "    print(f\"Generating time series for {station}\")\n",
    "    ref_date = datetime.datetime(int(unit[12:16]), int(unit[17:19]), int(unit[20:22]))\n",
    "    date_range = []\n",
    "    v_wind_data = []\n",
    "    \n",
    "    for index, time in enumerate(times):\n",
    "        date_time = ref_date + datetime.timedelta(hours=int(time))\n",
    "        date_range.append(date_time)  # Ajoutez l'objet datetime lui-même\n",
    "        v_wind_data.append(v_wind[index, sq_diff_lat.argmin(), sq_diff_lon.argmin()])  # Utilisez les indices corrects\n",
    "    station_data_list.append({'Station': station, 'Date-Time': date_range, 'v_wind_925': v_wind_data})\n",
    "\n",
    "# Création du DataFrame global\n",
    "all_data = pd.DataFrame()\n",
    "\n",
    "for station_data in station_data_list:\n",
    "    df = pd.DataFrame(station_data)\n",
    "    all_data = pd.concat([all_data, df], ignore_index=True)\n",
    "\n",
    "# Enregistrement du DataFrame global dans un fichier CSV\n",
    "output_file_path = os.path.join(dir_out, str(Config.WIND_V_925_CSV))\n",
    "all_data.to_csv(output_file_path, index=False)\n",
    "print(f\"All station data is saved in the CSV file: {output_file_path}\")\n"
   ]
  },
  {
   "cell_type": "code",
   "execution_count": 16,
   "metadata": {},
   "outputs": [
    {
     "data": {
      "text/html": [
       "<div>\n",
       "<style scoped>\n",
       "    .dataframe tbody tr th:only-of-type {\n",
       "        vertical-align: middle;\n",
       "    }\n",
       "\n",
       "    .dataframe tbody tr th {\n",
       "        vertical-align: top;\n",
       "    }\n",
       "\n",
       "    .dataframe thead th {\n",
       "        text-align: right;\n",
       "    }\n",
       "</style>\n",
       "<table border=\"1\" class=\"dataframe\">\n",
       "  <thead>\n",
       "    <tr style=\"text-align: right;\">\n",
       "      <th></th>\n",
       "      <th>Station</th>\n",
       "      <th>Date-Time</th>\n",
       "      <th>v_wind_925</th>\n",
       "    </tr>\n",
       "  </thead>\n",
       "  <tbody>\n",
       "    <tr>\n",
       "      <th>0</th>\n",
       "      <td>Bobo_Dioulasso</td>\n",
       "      <td>1961-01-01 00:00:00</td>\n",
       "      <td>-6.685907</td>\n",
       "    </tr>\n",
       "    <tr>\n",
       "      <th>1</th>\n",
       "      <td>Bobo_Dioulasso</td>\n",
       "      <td>1961-01-01 03:00:00</td>\n",
       "      <td>-6.219835</td>\n",
       "    </tr>\n",
       "    <tr>\n",
       "      <th>2</th>\n",
       "      <td>Bobo_Dioulasso</td>\n",
       "      <td>1961-01-01 06:00:00</td>\n",
       "      <td>-5.208807</td>\n",
       "    </tr>\n",
       "    <tr>\n",
       "      <th>3</th>\n",
       "      <td>Bobo_Dioulasso</td>\n",
       "      <td>1961-01-01 09:00:00</td>\n",
       "      <td>-4.032507</td>\n",
       "    </tr>\n",
       "    <tr>\n",
       "      <th>4</th>\n",
       "      <td>Bobo_Dioulasso</td>\n",
       "      <td>1961-01-01 12:00:00</td>\n",
       "      <td>-2.147271</td>\n",
       "    </tr>\n",
       "  </tbody>\n",
       "</table>\n",
       "</div>"
      ],
      "text/plain": [
       "          Station           Date-Time  v_wind_925\n",
       "0  Bobo_Dioulasso 1961-01-01 00:00:00   -6.685907\n",
       "1  Bobo_Dioulasso 1961-01-01 03:00:00   -6.219835\n",
       "2  Bobo_Dioulasso 1961-01-01 06:00:00   -5.208807\n",
       "3  Bobo_Dioulasso 1961-01-01 09:00:00   -4.032507\n",
       "4  Bobo_Dioulasso 1961-01-01 12:00:00   -2.147271"
      ]
     },
     "execution_count": null,
     "metadata": {},
     "output_type": "execute_result"
    }
   ],
   "source": [
    "all_data.head()"
   ]
  },
  {
   "cell_type": "code",
   "execution_count": 17,
   "metadata": {},
   "outputs": [],
   "source": [
    "df=manage_date(all_data)"
   ]
  },
  {
   "cell_type": "markdown",
   "metadata": {},
   "source": [
    "##### I-1 CALCUL DES MOYENNES DECADAIRES "
   ]
  },
  {
   "cell_type": "code",
   "execution_count": 18,
   "metadata": {},
   "outputs": [
    {
     "name": "stdout",
     "output_type": "stream",
     "text": [
      "Moyenne décadaire :\n",
      "               Station  Year  Month Decade  v_wind_925\n",
      "0      Bobo_Dioulasso  1961      1      1   -5.685185\n",
      "1      Bobo_Dioulasso  1961      1      2   -5.627637\n",
      "2      Bobo_Dioulasso  1961      1      3   -7.595885\n",
      "3      Bobo_Dioulasso  1961      2      1   -5.607470\n",
      "4      Bobo_Dioulasso  1961      2      2   -5.117176\n",
      "...               ...   ...    ...    ...         ...\n",
      "22675              Po  2023     11      2   -0.520774\n",
      "22676              Po  2023     11      3    1.036428\n",
      "22677              Po  2023     12      1   -2.256523\n",
      "22678              Po  2023     12      2   -5.118263\n",
      "22679              Po  2023     12      3   -3.944526\n",
      "\n",
      "[22680 rows x 5 columns]\n",
      "Moyenne décadaire :\n",
      "               Station  Year  Month Decade  v_wind_925\n",
      "0      Bobo_Dioulasso  1961      1      1   -5.685185\n",
      "1      Bobo_Dioulasso  1961      1      2   -5.627637\n",
      "2      Bobo_Dioulasso  1961      1      3   -7.595885\n",
      "3      Bobo_Dioulasso  1961      2      1   -5.607470\n",
      "4      Bobo_Dioulasso  1961      2      2   -5.117176\n",
      "...               ...   ...    ...    ...         ...\n",
      "22675              Po  2023     11      2   -0.520774\n",
      "22676              Po  2023     11      3    1.036428\n",
      "22677              Po  2023     12      1   -2.256523\n",
      "22678              Po  2023     12      2   -5.118263\n",
      "22679              Po  2023     12      3   -3.944526\n",
      "\n",
      "[22680 rows x 5 columns]\n"
     ]
    }
   ],
   "source": [
    "calcul_moy_decadaire(df, 'v_wind_925')"
   ]
  },
  {
   "cell_type": "markdown",
   "metadata": {},
   "source": [
    "##### I-2 CALCUL DES MOYENNES MENSUELLES"
   ]
  },
  {
   "cell_type": "code",
   "execution_count": 19,
   "metadata": {},
   "outputs": [
    {
     "name": "stdout",
     "output_type": "stream",
     "text": [
      "\n",
      "Moyenne mensuelle :\n",
      "              Station  Year  Month  v_wind_925\n",
      "0     Bobo_Dioulasso  1961      1   -6.344612\n",
      "1     Bobo_Dioulasso  1961      2   -4.787571\n",
      "2     Bobo_Dioulasso  1961      3   -2.121944\n",
      "3     Bobo_Dioulasso  1961      4    4.142627\n",
      "4     Bobo_Dioulasso  1961      5    3.927357\n",
      "...              ...   ...    ...         ...\n",
      "7555              Po  2023      8    2.812753\n",
      "7556              Po  2023      9    2.504891\n",
      "7557              Po  2023     10    2.327498\n",
      "7558              Po  2023     11    0.983150\n",
      "7559              Po  2023     12   -3.778634\n",
      "\n",
      "[7560 rows x 4 columns]\n",
      "\n",
      "\n",
      "Moyenne mensuelle :\n",
      "              Station  Year  Month  v_wind_925\n",
      "0     Bobo_Dioulasso  1961      1   -6.344612\n",
      "1     Bobo_Dioulasso  1961      2   -4.787571\n",
      "2     Bobo_Dioulasso  1961      3   -2.121944\n",
      "3     Bobo_Dioulasso  1961      4    4.142627\n",
      "4     Bobo_Dioulasso  1961      5    3.927357\n",
      "...              ...   ...    ...         ...\n",
      "7555              Po  2023      8    2.812753\n",
      "7556              Po  2023      9    2.504891\n",
      "7557              Po  2023     10    2.327498\n",
      "7558              Po  2023     11    0.983150\n",
      "7559              Po  2023     12   -3.778634\n",
      "\n",
      "[7560 rows x 4 columns]\n"
     ]
    }
   ],
   "source": [
    "calcul_moy_mensuelle(df,'v_wind_925')"
   ]
  },
  {
   "cell_type": "markdown",
   "metadata": {},
   "source": [
    "### II- COMPOSANTE U DU VENT À LA 850 hPa"
   ]
  },
  {
   "cell_type": "markdown",
   "metadata": {},
   "source": [
    "##### Changement des données manquantes du fichiers decadaires netcdf"
   ]
  },
  {
   "cell_type": "code",
   "execution_count": 20,
   "metadata": {},
   "outputs": [],
   "source": [
    "# Variables de configuration\n",
    "folder_original = Config.U_WIND_850_DEK\n",
    "wind_850_U = Config.WIND_U_850\n",
    "# Repertoire sortie des données avec missing values corrigées\n",
    "folder_miss_check=Config.U_WIND_850_VAL\n",
    "# Chemin de sortie\n",
    "change_missing_val(folder_original,folder_miss_check)"
   ]
  },
  {
   "cell_type": "markdown",
   "metadata": {},
   "source": [
    "##### Concatenation des fichiers decadaires"
   ]
  },
  {
   "cell_type": "code",
   "execution_count": 21,
   "metadata": {},
   "outputs": [],
   "source": [
    "# Chemin de sortie\n",
    "output_path = os.path.join(Config.ERA5_PATH, wind_850_U)\n",
    "concat_nc_files(folder_miss_check, output_path)"
   ]
  },
  {
   "cell_type": "markdown",
   "metadata": {},
   "source": [
    "##### Lecture du fichier concatené"
   ]
  },
  {
   "cell_type": "code",
   "execution_count": 22,
   "metadata": {},
   "outputs": [],
   "source": [
    "# Lecture de fichier de vent u à la 850hPa\n",
    "u_wind_850=Dataset(output_path)\n",
    "#Lecture des variables du fichier au format netCDF\n",
    "u_wind=u_wind_850.variables['u'][:]\n",
    "unitd=u_wind_850.variables['u'].units\n",
    "unit=u_wind_850.variables['time'].units\n",
    "times=u_wind_850.variables['time'][:]\n",
    "lat=u_wind_850.variables['latitude'][:]\n",
    "lon=u_wind_850.variables['longitude'][:]"
   ]
  },
  {
   "cell_type": "markdown",
   "metadata": {},
   "source": [
    "##### Recuperation des valeurs les plus proche de chaque station"
   ]
  },
  {
   "cell_type": "code",
   "execution_count": 23,
   "metadata": {},
   "outputs": [
    {
     "name": "stdout",
     "output_type": "stream",
     "text": [
      "Generating time series for Bobo_Dioulasso\n",
      "Generating time series for Bobo_Dioulasso\n"
     ]
    },
    {
     "name": "stdout",
     "output_type": "stream",
     "text": [
      "Generating time series for Bogande\n",
      "Generating time series for Bogande\n"
     ]
    },
    {
     "name": "stdout",
     "output_type": "stream",
     "text": [
      "Generating time series for Boromo\n",
      "Generating time series for Boromo\n"
     ]
    },
    {
     "name": "stdout",
     "output_type": "stream",
     "text": [
      "Generating time series for Dedougou\n",
      "Generating time series for Dedougou\n"
     ]
    },
    {
     "name": "stdout",
     "output_type": "stream",
     "text": [
      "Generating time series for Dori\n",
      "Generating time series for Dori\n"
     ]
    },
    {
     "name": "stdout",
     "output_type": "stream",
     "text": [
      "Generating time series for Fada_Ngourma\n",
      "Generating time series for Fada_Ngourma\n"
     ]
    },
    {
     "name": "stdout",
     "output_type": "stream",
     "text": [
      "Generating time series for Gaoua\n",
      "Generating time series for Gaoua\n"
     ]
    },
    {
     "name": "stdout",
     "output_type": "stream",
     "text": [
      "Generating time series for Ouagadougou_aero\n",
      "Generating time series for Ouagadougou_aero\n"
     ]
    },
    {
     "name": "stdout",
     "output_type": "stream",
     "text": [
      "Generating time series for Ouahigouya\n",
      "Generating time series for Ouahigouya\n"
     ]
    },
    {
     "name": "stdout",
     "output_type": "stream",
     "text": [
      "Generating time series for Po\n",
      "Generating time series for Po\n"
     ]
    },
    {
     "name": "stdout",
     "output_type": "stream",
     "text": [
      "All station data is saved in the CSV file: ..\\ASSETS\\DATA\\ERA5\\u_wind_850.csv\n",
      "All station data is saved in the CSV file: ..\\ASSETS\\DATA\\ERA5\\u_wind_850.csv\n"
     ]
    }
   ],
   "source": [
    "# Créer un répertoire de sortie s'il n'existe pas déjà\n",
    "dir_out = Config.ERA5_DATA_PATH\n",
    "os.makedirs(dir_out, exist_ok=True)\n",
    "\n",
    "# Créer une liste pour stocker les informations des stations\n",
    "station_data_list = []\n",
    "\n",
    "for index, value in stations.iterrows():\n",
    "    station = value['station']  \n",
    "    \n",
    "    lon_point = value['longitude']  # Assurez-vous que la colonne s'appelle 'Longitude'\n",
    "    lat_point = value['latitude']   # Assurez-vous que la colonne s'appelle 'Latitude'\n",
    "    \n",
    "    # Calcul des carrés des différences entre les latitudes et longitudes\n",
    "    sq_diff_lat = (lat - lat_point) ** 2\n",
    "    sq_diff_lon = (lon - lon_point) ** 2\n",
    "    \n",
    "    print(f\"Generating time series for {station}\")\n",
    "    ref_date = datetime.datetime(int(unit[12:16]), int(unit[17:19]), int(unit[20:22]))\n",
    "    date_range = []\n",
    "    u_wind_data = []\n",
    "    \n",
    "    for index, time in enumerate(times):\n",
    "        date_time = ref_date + datetime.timedelta(hours=int(time))\n",
    "        date_range.append(date_time)  # Ajoutez l'objet datetime lui-même\n",
    "        u_wind_data.append(u_wind[index, sq_diff_lat.argmin(), sq_diff_lon.argmin()])  # Utilisez les indices corrects\n",
    "    station_data_list.append({'Station': station, 'Date-Time': date_range, 'u_wind_850': u_wind_data})\n",
    "\n",
    "# Création du DataFrame global\n",
    "all_data = pd.DataFrame()\n",
    "\n",
    "for station_data in station_data_list:\n",
    "    df = pd.DataFrame(station_data)\n",
    "    all_data = pd.concat([all_data, df], ignore_index=True)\n",
    "\n",
    "# Enregistrement du DataFrame global dans un fichier CSV\n",
    "output_file_path = os.path.join(dir_out, str(Config.WIND_U_850_CSV))\n",
    "all_data.to_csv(output_file_path, index=False)\n",
    "print(f\"All station data is saved in the CSV file: {output_file_path}\")\n"
   ]
  },
  {
   "cell_type": "code",
   "execution_count": 24,
   "metadata": {},
   "outputs": [
    {
     "data": {
      "text/html": [
       "<div>\n",
       "<style scoped>\n",
       "    .dataframe tbody tr th:only-of-type {\n",
       "        vertical-align: middle;\n",
       "    }\n",
       "\n",
       "    .dataframe tbody tr th {\n",
       "        vertical-align: top;\n",
       "    }\n",
       "\n",
       "    .dataframe thead th {\n",
       "        text-align: right;\n",
       "    }\n",
       "</style>\n",
       "<table border=\"1\" class=\"dataframe\">\n",
       "  <thead>\n",
       "    <tr style=\"text-align: right;\">\n",
       "      <th></th>\n",
       "      <th>Station</th>\n",
       "      <th>Date-Time</th>\n",
       "      <th>u_wind_850</th>\n",
       "    </tr>\n",
       "  </thead>\n",
       "  <tbody>\n",
       "    <tr>\n",
       "      <th>0</th>\n",
       "      <td>Bobo_Dioulasso</td>\n",
       "      <td>1961-01-01 00:00:00</td>\n",
       "      <td>-3.469058</td>\n",
       "    </tr>\n",
       "    <tr>\n",
       "      <th>1</th>\n",
       "      <td>Bobo_Dioulasso</td>\n",
       "      <td>1961-01-01 03:00:00</td>\n",
       "      <td>-2.635350</td>\n",
       "    </tr>\n",
       "    <tr>\n",
       "      <th>2</th>\n",
       "      <td>Bobo_Dioulasso</td>\n",
       "      <td>1961-01-01 06:00:00</td>\n",
       "      <td>-1.584786</td>\n",
       "    </tr>\n",
       "    <tr>\n",
       "      <th>3</th>\n",
       "      <td>Bobo_Dioulasso</td>\n",
       "      <td>1961-01-01 09:00:00</td>\n",
       "      <td>-1.917576</td>\n",
       "    </tr>\n",
       "    <tr>\n",
       "      <th>4</th>\n",
       "      <td>Bobo_Dioulasso</td>\n",
       "      <td>1961-01-01 12:00:00</td>\n",
       "      <td>-1.623354</td>\n",
       "    </tr>\n",
       "  </tbody>\n",
       "</table>\n",
       "</div>"
      ],
      "text/plain": [
       "          Station           Date-Time  u_wind_850\n",
       "0  Bobo_Dioulasso 1961-01-01 00:00:00   -3.469058\n",
       "1  Bobo_Dioulasso 1961-01-01 03:00:00   -2.635350\n",
       "2  Bobo_Dioulasso 1961-01-01 06:00:00   -1.584786\n",
       "3  Bobo_Dioulasso 1961-01-01 09:00:00   -1.917576\n",
       "4  Bobo_Dioulasso 1961-01-01 12:00:00   -1.623354"
      ]
     },
     "execution_count": null,
     "metadata": {},
     "output_type": "execute_result"
    }
   ],
   "source": [
    "all_data.head()"
   ]
  },
  {
   "cell_type": "code",
   "execution_count": 25,
   "metadata": {},
   "outputs": [],
   "source": [
    "df=manage_date(all_data)"
   ]
  },
  {
   "cell_type": "markdown",
   "metadata": {},
   "source": [
    "##### II-1 CALCUL DES MOYENNES DECADAIRES "
   ]
  },
  {
   "cell_type": "code",
   "execution_count": 26,
   "metadata": {},
   "outputs": [
    {
     "name": "stdout",
     "output_type": "stream",
     "text": [
      "Moyenne décadaire :\n",
      "               Station  Year  Month Decade  u_wind_850\n",
      "0      Bobo_Dioulasso  1961      1      1   -4.901044\n",
      "1      Bobo_Dioulasso  1961      1      2   -1.549461\n",
      "2      Bobo_Dioulasso  1961      1      3   -0.394695\n",
      "3      Bobo_Dioulasso  1961      2      1   -3.607335\n",
      "4      Bobo_Dioulasso  1961      2      2   -3.535849\n",
      "...               ...   ...    ...    ...         ...\n",
      "22675              Po  2023     11      2   -6.118764\n",
      "22676              Po  2023     11      3   -1.067482\n",
      "22677              Po  2023     12      1   -5.201837\n",
      "22678              Po  2023     12      2   -3.965210\n",
      "22679              Po  2023     12      3   -2.022182\n",
      "\n",
      "[22680 rows x 5 columns]\n",
      "Moyenne décadaire :\n",
      "               Station  Year  Month Decade  u_wind_850\n",
      "0      Bobo_Dioulasso  1961      1      1   -4.901044\n",
      "1      Bobo_Dioulasso  1961      1      2   -1.549461\n",
      "2      Bobo_Dioulasso  1961      1      3   -0.394695\n",
      "3      Bobo_Dioulasso  1961      2      1   -3.607335\n",
      "4      Bobo_Dioulasso  1961      2      2   -3.535849\n",
      "...               ...   ...    ...    ...         ...\n",
      "22675              Po  2023     11      2   -6.118764\n",
      "22676              Po  2023     11      3   -1.067482\n",
      "22677              Po  2023     12      1   -5.201837\n",
      "22678              Po  2023     12      2   -3.965210\n",
      "22679              Po  2023     12      3   -2.022182\n",
      "\n",
      "[22680 rows x 5 columns]\n"
     ]
    }
   ],
   "source": [
    "calcul_moy_decadaire(df, 'u_wind_850')"
   ]
  },
  {
   "cell_type": "markdown",
   "metadata": {},
   "source": [
    "##### II-2 CALCUL DES MOYENNES MENSUELLES"
   ]
  },
  {
   "cell_type": "code",
   "execution_count": 27,
   "metadata": {},
   "outputs": [
    {
     "name": "stdout",
     "output_type": "stream",
     "text": [
      "\n",
      "Moyenne mensuelle :\n",
      "              Station  Year  Month  u_wind_850\n",
      "0     Bobo_Dioulasso  1961      1   -2.220861\n",
      "1     Bobo_Dioulasso  1961      2   -4.507234\n",
      "2     Bobo_Dioulasso  1961      3   -3.204388\n",
      "3     Bobo_Dioulasso  1961      4   -1.348264\n",
      "4     Bobo_Dioulasso  1961      5   -0.323172\n",
      "...              ...   ...    ...         ...\n",
      "7555              Po  2023      8    0.693429\n",
      "7556              Po  2023      9   -2.076714\n",
      "7557              Po  2023     10   -4.663396\n",
      "7558              Po  2023     11   -3.242003\n",
      "7559              Po  2023     12   -3.674660\n",
      "\n",
      "[7560 rows x 4 columns]\n",
      "\n",
      "\n",
      "Moyenne mensuelle :\n",
      "              Station  Year  Month  u_wind_850\n",
      "0     Bobo_Dioulasso  1961      1   -2.220861\n",
      "1     Bobo_Dioulasso  1961      2   -4.507234\n",
      "2     Bobo_Dioulasso  1961      3   -3.204388\n",
      "3     Bobo_Dioulasso  1961      4   -1.348264\n",
      "4     Bobo_Dioulasso  1961      5   -0.323172\n",
      "...              ...   ...    ...         ...\n",
      "7555              Po  2023      8    0.693429\n",
      "7556              Po  2023      9   -2.076714\n",
      "7557              Po  2023     10   -4.663396\n",
      "7558              Po  2023     11   -3.242003\n",
      "7559              Po  2023     12   -3.674660\n",
      "\n",
      "[7560 rows x 4 columns]\n"
     ]
    }
   ],
   "source": [
    "calcul_moy_mensuelle(df,'u_wind_850')"
   ]
  },
  {
   "cell_type": "markdown",
   "metadata": {},
   "source": [
    "### III- COMPOSANTE U DU VENT À LA 700 hPa"
   ]
  },
  {
   "cell_type": "markdown",
   "metadata": {},
   "source": [
    "##### Changement des données manquantes du fichiers decadaires netcdf"
   ]
  },
  {
   "cell_type": "code",
   "execution_count": 28,
   "metadata": {},
   "outputs": [],
   "source": [
    "# Variables de configuration\n",
    "folder_original = Config.U_WIND_700_DEK\n",
    "wind_700_u = Config.WIND_U_700\n",
    "# Repertoire sortie des données avec missing values corrigées\n",
    "folder_miss_check=Config.U_WIND_700_VAL\n",
    "\n",
    "change_missing_val(folder_original,folder_miss_check)"
   ]
  },
  {
   "cell_type": "markdown",
   "metadata": {},
   "source": [
    "##### Concatenation des fichiers decadaires"
   ]
  },
  {
   "cell_type": "code",
   "execution_count": 29,
   "metadata": {},
   "outputs": [],
   "source": [
    "# Chemin de sortie\n",
    "output_path = os.path.join(Config.ERA5_PATH, wind_700_u)\n",
    "concat_nc_files(folder_miss_check, output_path)"
   ]
  },
  {
   "cell_type": "markdown",
   "metadata": {},
   "source": [
    "##### Lecture du fichier concatené"
   ]
  },
  {
   "cell_type": "code",
   "execution_count": 30,
   "metadata": {},
   "outputs": [],
   "source": [
    "# Lecture de fichier de vent v à la 700hPa\n",
    "u_wind_700=Dataset(output_path)\n",
    "#Lecture des variables du fichier au format netCDF\n",
    "u_wind=u_wind_700.variables['u'][:]\n",
    "unitd=u_wind_700.variables['u'].units\n",
    "unit=u_wind_700.variables['time'].units\n",
    "times=u_wind_700.variables['time'][:]\n",
    "lat=u_wind_700.variables['latitude'][:]\n",
    "lon=u_wind_700.variables['longitude'][:]"
   ]
  },
  {
   "cell_type": "markdown",
   "metadata": {},
   "source": [
    "##### Recuperation des valeurs les plus proche de chaque station"
   ]
  },
  {
   "cell_type": "code",
   "execution_count": 31,
   "metadata": {},
   "outputs": [
    {
     "name": "stdout",
     "output_type": "stream",
     "text": [
      "Generating time series for Bobo_Dioulasso\n",
      "Generating time series for Bobo_Dioulasso\n"
     ]
    },
    {
     "name": "stdout",
     "output_type": "stream",
     "text": [
      "Generating time series for Bogande\n",
      "Generating time series for Bogande\n"
     ]
    },
    {
     "name": "stdout",
     "output_type": "stream",
     "text": [
      "Generating time series for Boromo\n",
      "Generating time series for Boromo\n"
     ]
    },
    {
     "name": "stdout",
     "output_type": "stream",
     "text": [
      "Generating time series for Dedougou\n",
      "Generating time series for Dedougou\n"
     ]
    },
    {
     "name": "stdout",
     "output_type": "stream",
     "text": [
      "Generating time series for Dori\n",
      "Generating time series for Dori\n"
     ]
    },
    {
     "name": "stdout",
     "output_type": "stream",
     "text": [
      "Generating time series for Fada_Ngourma\n",
      "Generating time series for Fada_Ngourma\n"
     ]
    },
    {
     "name": "stdout",
     "output_type": "stream",
     "text": [
      "Generating time series for Gaoua\n",
      "Generating time series for Gaoua\n"
     ]
    },
    {
     "name": "stdout",
     "output_type": "stream",
     "text": [
      "Generating time series for Ouagadougou_aero\n",
      "Generating time series for Ouagadougou_aero\n"
     ]
    },
    {
     "name": "stdout",
     "output_type": "stream",
     "text": [
      "Generating time series for Ouahigouya\n",
      "Generating time series for Ouahigouya\n"
     ]
    },
    {
     "name": "stdout",
     "output_type": "stream",
     "text": [
      "Generating time series for Po\n",
      "Generating time series for Po\n"
     ]
    },
    {
     "name": "stdout",
     "output_type": "stream",
     "text": [
      "All station data is saved in the CSV file: ..\\ASSETS\\DATA\\ERA5\\u_wind_700.csv\n",
      "All station data is saved in the CSV file: ..\\ASSETS\\DATA\\ERA5\\u_wind_700.csv\n"
     ]
    }
   ],
   "source": [
    "# Créer un répertoire de sortie s'il n'existe pas déjà\n",
    "dir_out = Config.ERA5_DATA_PATH\n",
    "os.makedirs(dir_out, exist_ok=True)\n",
    "\n",
    "# Créer une liste pour stocker les informations des stations\n",
    "station_data_list = []\n",
    "\n",
    "for index, value in stations.iterrows():\n",
    "    station = value['station']  \n",
    "    \n",
    "    lon_point = value['longitude']  # Assurez-vous que la colonne s'appelle 'Longitude'\n",
    "    lat_point = value['latitude']   # Assurez-vous que la colonne s'appelle 'Latitude'\n",
    "    \n",
    "    # Calcul des carrés des différences entre les latitudes et longitudes\n",
    "    sq_diff_lat = (lat - lat_point) ** 2\n",
    "    sq_diff_lon = (lon - lon_point) ** 2\n",
    "    \n",
    "    print(f\"Generating time series for {station}\")\n",
    "    ref_date = datetime.datetime(int(unit[12:16]), int(unit[17:19]), int(unit[20:22]))\n",
    "    date_range = []\n",
    "    u_wind_data = []\n",
    "    \n",
    "    for index, time in enumerate(times):\n",
    "        date_time = ref_date + datetime.timedelta(hours=int(time))\n",
    "        date_range.append(date_time)  # Ajoutez l'objet datetime lui-même\n",
    "        u_wind_data.append(u_wind[index, sq_diff_lat.argmin(), sq_diff_lon.argmin()])  # Utilisez les indices corrects\n",
    "    station_data_list.append({'Station': station, 'Date-Time': date_range, 'u_wind_700': u_wind_data})\n",
    "    \n",
    "\n",
    "# Création du DataFrame global\n",
    "all_data = pd.DataFrame()\n",
    "\n",
    "for station_data in station_data_list:\n",
    "    df = pd.DataFrame(station_data)\n",
    "    all_data = pd.concat([all_data, df], ignore_index=True)\n",
    "\n",
    "# Enregistrement du DataFrame global dans un fichier CSV\n",
    "output_file_path = os.path.join(dir_out, str(Config.WIND_U_700_CSV))\n",
    "all_data.to_csv(output_file_path, index=False)\n",
    "print(f\"All station data is saved in the CSV file: {output_file_path}\")\n"
   ]
  },
  {
   "cell_type": "code",
   "execution_count": 32,
   "metadata": {},
   "outputs": [
    {
     "data": {
      "text/html": [
       "<div>\n",
       "<style scoped>\n",
       "    .dataframe tbody tr th:only-of-type {\n",
       "        vertical-align: middle;\n",
       "    }\n",
       "\n",
       "    .dataframe tbody tr th {\n",
       "        vertical-align: top;\n",
       "    }\n",
       "\n",
       "    .dataframe thead th {\n",
       "        text-align: right;\n",
       "    }\n",
       "</style>\n",
       "<table border=\"1\" class=\"dataframe\">\n",
       "  <thead>\n",
       "    <tr style=\"text-align: right;\">\n",
       "      <th></th>\n",
       "      <th>Station</th>\n",
       "      <th>Date-Time</th>\n",
       "      <th>u_wind_700</th>\n",
       "    </tr>\n",
       "  </thead>\n",
       "  <tbody>\n",
       "    <tr>\n",
       "      <th>0</th>\n",
       "      <td>Bobo_Dioulasso</td>\n",
       "      <td>1961-01-01 00:00:00</td>\n",
       "      <td>-3.787606</td>\n",
       "    </tr>\n",
       "    <tr>\n",
       "      <th>1</th>\n",
       "      <td>Bobo_Dioulasso</td>\n",
       "      <td>1961-01-01 03:00:00</td>\n",
       "      <td>-3.507797</td>\n",
       "    </tr>\n",
       "    <tr>\n",
       "      <th>2</th>\n",
       "      <td>Bobo_Dioulasso</td>\n",
       "      <td>1961-01-01 06:00:00</td>\n",
       "      <td>-4.108529</td>\n",
       "    </tr>\n",
       "    <tr>\n",
       "      <th>3</th>\n",
       "      <td>Bobo_Dioulasso</td>\n",
       "      <td>1961-01-01 09:00:00</td>\n",
       "      <td>-5.171272</td>\n",
       "    </tr>\n",
       "    <tr>\n",
       "      <th>4</th>\n",
       "      <td>Bobo_Dioulasso</td>\n",
       "      <td>1961-01-01 12:00:00</td>\n",
       "      <td>-3.107604</td>\n",
       "    </tr>\n",
       "  </tbody>\n",
       "</table>\n",
       "</div>"
      ],
      "text/plain": [
       "          Station           Date-Time  u_wind_700\n",
       "0  Bobo_Dioulasso 1961-01-01 00:00:00   -3.787606\n",
       "1  Bobo_Dioulasso 1961-01-01 03:00:00   -3.507797\n",
       "2  Bobo_Dioulasso 1961-01-01 06:00:00   -4.108529\n",
       "3  Bobo_Dioulasso 1961-01-01 09:00:00   -5.171272\n",
       "4  Bobo_Dioulasso 1961-01-01 12:00:00   -3.107604"
      ]
     },
     "execution_count": null,
     "metadata": {},
     "output_type": "execute_result"
    }
   ],
   "source": [
    "all_data.head()"
   ]
  },
  {
   "cell_type": "code",
   "execution_count": 33,
   "metadata": {},
   "outputs": [],
   "source": [
    "df=manage_date(all_data)"
   ]
  },
  {
   "cell_type": "markdown",
   "metadata": {},
   "source": [
    "##### III-1 CALCUL DES MOYENNES DECADAIRES "
   ]
  },
  {
   "cell_type": "code",
   "execution_count": 34,
   "metadata": {},
   "outputs": [
    {
     "name": "stdout",
     "output_type": "stream",
     "text": [
      "Moyenne décadaire :\n",
      "               Station  Year  Month Decade  u_wind_700\n",
      "0      Bobo_Dioulasso  1961      1      1   -6.507310\n",
      "1      Bobo_Dioulasso  1961      1      2   -1.188504\n",
      "2      Bobo_Dioulasso  1961      1      3    2.207007\n",
      "3      Bobo_Dioulasso  1961      2      1    3.229098\n",
      "4      Bobo_Dioulasso  1961      2      2    3.110321\n",
      "...               ...   ...    ...    ...         ...\n",
      "22675              Po  2023     11      2   -6.794710\n",
      "22676              Po  2023     11      3   -3.191192\n",
      "22677              Po  2023     12      1   -4.503232\n",
      "22678              Po  2023     12      2    0.133786\n",
      "22679              Po  2023     12      3   -4.684278\n",
      "\n",
      "[22680 rows x 5 columns]\n",
      "Moyenne décadaire :\n",
      "               Station  Year  Month Decade  u_wind_700\n",
      "0      Bobo_Dioulasso  1961      1      1   -6.507310\n",
      "1      Bobo_Dioulasso  1961      1      2   -1.188504\n",
      "2      Bobo_Dioulasso  1961      1      3    2.207007\n",
      "3      Bobo_Dioulasso  1961      2      1    3.229098\n",
      "4      Bobo_Dioulasso  1961      2      2    3.110321\n",
      "...               ...   ...    ...    ...         ...\n",
      "22675              Po  2023     11      2   -6.794710\n",
      "22676              Po  2023     11      3   -3.191192\n",
      "22677              Po  2023     12      1   -4.503232\n",
      "22678              Po  2023     12      2    0.133786\n",
      "22679              Po  2023     12      3   -4.684278\n",
      "\n",
      "[22680 rows x 5 columns]\n"
     ]
    }
   ],
   "source": [
    "calcul_moy_decadaire(df, 'u_wind_700')"
   ]
  },
  {
   "cell_type": "markdown",
   "metadata": {},
   "source": [
    "##### III-2 CALCUL DES MOYENNES MENSUELLES"
   ]
  },
  {
   "cell_type": "code",
   "execution_count": 35,
   "metadata": {},
   "outputs": [
    {
     "name": "stdout",
     "output_type": "stream",
     "text": [
      "\n",
      "Moyenne mensuelle :\n",
      "              Station  Year  Month  u_wind_700\n",
      "0     Bobo_Dioulasso  1961      1   -1.699389\n",
      "1     Bobo_Dioulasso  1961      2    0.534085\n",
      "2     Bobo_Dioulasso  1961      3   -0.900405\n",
      "3     Bobo_Dioulasso  1961      4   -4.686925\n",
      "4     Bobo_Dioulasso  1961      5   -8.638417\n",
      "...              ...   ...    ...         ...\n",
      "7555              Po  2023      8   -6.635411\n",
      "7556              Po  2023      9  -11.216813\n",
      "7557              Po  2023     10  -10.574696\n",
      "7558              Po  2023     11   -4.986422\n",
      "7559              Po  2023     12   -3.071662\n",
      "\n",
      "[7560 rows x 4 columns]\n",
      "\n",
      "\n",
      "Moyenne mensuelle :\n",
      "              Station  Year  Month  u_wind_700\n",
      "0     Bobo_Dioulasso  1961      1   -1.699389\n",
      "1     Bobo_Dioulasso  1961      2    0.534085\n",
      "2     Bobo_Dioulasso  1961      3   -0.900405\n",
      "3     Bobo_Dioulasso  1961      4   -4.686925\n",
      "4     Bobo_Dioulasso  1961      5   -8.638417\n",
      "...              ...   ...    ...         ...\n",
      "7555              Po  2023      8   -6.635411\n",
      "7556              Po  2023      9  -11.216813\n",
      "7557              Po  2023     10  -10.574696\n",
      "7558              Po  2023     11   -4.986422\n",
      "7559              Po  2023     12   -3.071662\n",
      "\n",
      "[7560 rows x 4 columns]\n"
     ]
    }
   ],
   "source": [
    "calcul_moy_mensuelle(df,'u_wind_700')"
   ]
  },
  {
   "cell_type": "markdown",
   "metadata": {},
   "source": [
    "### IV- COMPOSANTE U DU VENT À LA 200 hPa"
   ]
  },
  {
   "cell_type": "markdown",
   "metadata": {},
   "source": [
    "##### Changement des données manquantes du fichiers decadaires netcdf"
   ]
  },
  {
   "cell_type": "code",
   "execution_count": 36,
   "metadata": {},
   "outputs": [],
   "source": [
    "# Variables de configuration\n",
    "folder_original = Config.U_WIND_200_DEK\n",
    "wind_200_u = Config.WIND_U_200\n",
    "# Repertoire sortie des données avec missing values corrigées\n",
    "folder_miss_check=Config.U_WIND_200_VAL\n",
    "\n",
    "change_missing_val(folder_original,folder_miss_check)"
   ]
  },
  {
   "cell_type": "markdown",
   "metadata": {},
   "source": [
    "##### Concatenation des fichiers decadaires"
   ]
  },
  {
   "cell_type": "code",
   "execution_count": 37,
   "metadata": {},
   "outputs": [],
   "source": [
    "# Chemin de sortie\n",
    "output_path = os.path.join(Config.ERA5_PATH, wind_200_u)\n",
    "concat_nc_files(folder_miss_check, output_path)"
   ]
  },
  {
   "cell_type": "markdown",
   "metadata": {},
   "source": [
    "##### Lecture du fichier concatené"
   ]
  },
  {
   "cell_type": "code",
   "execution_count": 38,
   "metadata": {},
   "outputs": [],
   "source": [
    "# Lecture de fichier de vent v à la 200hPa\n",
    "u_wind_200=Dataset(output_path)\n",
    "#Lecture des variables du fichier au format netCDF\n",
    "u_wind=u_wind_200.variables['u'][:]\n",
    "unitd=u_wind_200.variables['u'].units\n",
    "unit=u_wind_200.variables['time'].units\n",
    "times=u_wind_200.variables['time'][:]\n",
    "lat=u_wind_200.variables['latitude'][:]\n",
    "lon=u_wind_200.variables['longitude'][:]"
   ]
  },
  {
   "cell_type": "markdown",
   "metadata": {},
   "source": [
    "##### Recuperation des valeurs les plus proche de chaque station"
   ]
  },
  {
   "cell_type": "code",
   "execution_count": 39,
   "metadata": {},
   "outputs": [
    {
     "name": "stdout",
     "output_type": "stream",
     "text": [
      "Generating time series for Bobo_Dioulasso\n",
      "Generating time series for Bobo_Dioulasso\n"
     ]
    },
    {
     "name": "stdout",
     "output_type": "stream",
     "text": [
      "Generating time series for Bogande\n",
      "Generating time series for Bogande\n"
     ]
    },
    {
     "name": "stdout",
     "output_type": "stream",
     "text": [
      "Generating time series for Boromo\n",
      "Generating time series for Boromo\n"
     ]
    },
    {
     "name": "stdout",
     "output_type": "stream",
     "text": [
      "Generating time series for Dedougou\n",
      "Generating time series for Dedougou\n"
     ]
    },
    {
     "name": "stdout",
     "output_type": "stream",
     "text": [
      "Generating time series for Dori\n",
      "Generating time series for Dori\n"
     ]
    },
    {
     "name": "stdout",
     "output_type": "stream",
     "text": [
      "Generating time series for Fada_Ngourma\n",
      "Generating time series for Fada_Ngourma\n"
     ]
    },
    {
     "name": "stdout",
     "output_type": "stream",
     "text": [
      "Generating time series for Gaoua\n",
      "Generating time series for Gaoua\n"
     ]
    },
    {
     "name": "stdout",
     "output_type": "stream",
     "text": [
      "Generating time series for Ouagadougou_aero\n",
      "Generating time series for Ouagadougou_aero\n"
     ]
    },
    {
     "name": "stdout",
     "output_type": "stream",
     "text": [
      "Generating time series for Ouahigouya\n",
      "Generating time series for Ouahigouya\n"
     ]
    },
    {
     "name": "stdout",
     "output_type": "stream",
     "text": [
      "Generating time series for Po\n",
      "Generating time series for Po\n"
     ]
    },
    {
     "name": "stdout",
     "output_type": "stream",
     "text": [
      "All station data is saved in the CSV file: ..\\ASSETS\\DATA\\ERA5\\u_wind_200.csv\n",
      "All station data is saved in the CSV file: ..\\ASSETS\\DATA\\ERA5\\u_wind_200.csv\n"
     ]
    }
   ],
   "source": [
    "# Créer un répertoire de sortie s'il n'existe pas déjà\n",
    "dir_out = Config.ERA5_DATA_PATH\n",
    "os.makedirs(dir_out, exist_ok=True)\n",
    "\n",
    "# Créer une liste pour stocker les informations des stations\n",
    "station_data_list = []\n",
    "\n",
    "for index, value in stations.iterrows():\n",
    "    station = value['station']  \n",
    "    \n",
    "    lon_point = value['longitude']  # Assurez-vous que la colonne s'appelle 'Longitude'\n",
    "    lat_point = value['latitude']   # Assurez-vous que la colonne s'appelle 'Latitude'\n",
    "    \n",
    "    # Calcul des carrés des différences entre les latitudes et longitudes\n",
    "    sq_diff_lat = (lat - lat_point) ** 2\n",
    "    sq_diff_lon = (lon - lon_point) ** 2\n",
    "    \n",
    "    print(f\"Generating time series for {station}\")\n",
    "    ref_date = datetime.datetime(int(unit[12:16]), int(unit[17:19]), int(unit[20:22]))\n",
    "    date_range = []\n",
    "    u_wind_data = []\n",
    "    \n",
    "    for index, time in enumerate(times):\n",
    "        date_time = ref_date + datetime.timedelta(hours=int(time))\n",
    "        date_range.append(date_time)  # Ajoutez l'objet datetime lui-même\n",
    "        u_wind_data.append(u_wind[index, sq_diff_lat.argmin(), sq_diff_lon.argmin()])  # Utilisez les indices corrects\n",
    "    station_data_list.append({'Station': station, 'Date-Time': date_range, 'u_wind_200': u_wind_data})\n",
    "    \n",
    "\n",
    "# Création du DataFrame global\n",
    "all_data = pd.DataFrame()\n",
    "\n",
    "for station_data in station_data_list:\n",
    "    df = pd.DataFrame(station_data)\n",
    "    all_data = pd.concat([all_data, df], ignore_index=True)\n",
    "\n",
    "# Enregistrement du DataFrame global dans un fichier CSV\n",
    "output_file_path = os.path.join(dir_out, str(Config.WIND_U_200_CSV))\n",
    "all_data.to_csv(output_file_path, index=False)\n",
    "print(f\"All station data is saved in the CSV file: {output_file_path}\")\n"
   ]
  },
  {
   "cell_type": "code",
   "execution_count": 40,
   "metadata": {},
   "outputs": [
    {
     "data": {
      "text/html": [
       "<div>\n",
       "<style scoped>\n",
       "    .dataframe tbody tr th:only-of-type {\n",
       "        vertical-align: middle;\n",
       "    }\n",
       "\n",
       "    .dataframe tbody tr th {\n",
       "        vertical-align: top;\n",
       "    }\n",
       "\n",
       "    .dataframe thead th {\n",
       "        text-align: right;\n",
       "    }\n",
       "</style>\n",
       "<table border=\"1\" class=\"dataframe\">\n",
       "  <thead>\n",
       "    <tr style=\"text-align: right;\">\n",
       "      <th></th>\n",
       "      <th>Station</th>\n",
       "      <th>Date-Time</th>\n",
       "      <th>u_wind_200</th>\n",
       "    </tr>\n",
       "  </thead>\n",
       "  <tbody>\n",
       "    <tr>\n",
       "      <th>0</th>\n",
       "      <td>Bobo_Dioulasso</td>\n",
       "      <td>1961-01-01 00:00:00</td>\n",
       "      <td>20.978663</td>\n",
       "    </tr>\n",
       "    <tr>\n",
       "      <th>1</th>\n",
       "      <td>Bobo_Dioulasso</td>\n",
       "      <td>1961-01-01 03:00:00</td>\n",
       "      <td>19.108212</td>\n",
       "    </tr>\n",
       "    <tr>\n",
       "      <th>2</th>\n",
       "      <td>Bobo_Dioulasso</td>\n",
       "      <td>1961-01-01 06:00:00</td>\n",
       "      <td>19.835911</td>\n",
       "    </tr>\n",
       "    <tr>\n",
       "      <th>3</th>\n",
       "      <td>Bobo_Dioulasso</td>\n",
       "      <td>1961-01-01 09:00:00</td>\n",
       "      <td>20.103376</td>\n",
       "    </tr>\n",
       "    <tr>\n",
       "      <th>4</th>\n",
       "      <td>Bobo_Dioulasso</td>\n",
       "      <td>1961-01-01 12:00:00</td>\n",
       "      <td>19.063032</td>\n",
       "    </tr>\n",
       "  </tbody>\n",
       "</table>\n",
       "</div>"
      ],
      "text/plain": [
       "          Station           Date-Time  u_wind_200\n",
       "0  Bobo_Dioulasso 1961-01-01 00:00:00   20.978663\n",
       "1  Bobo_Dioulasso 1961-01-01 03:00:00   19.108212\n",
       "2  Bobo_Dioulasso 1961-01-01 06:00:00   19.835911\n",
       "3  Bobo_Dioulasso 1961-01-01 09:00:00   20.103376\n",
       "4  Bobo_Dioulasso 1961-01-01 12:00:00   19.063032"
      ]
     },
     "execution_count": null,
     "metadata": {},
     "output_type": "execute_result"
    }
   ],
   "source": [
    "all_data.head()"
   ]
  },
  {
   "cell_type": "code",
   "execution_count": 41,
   "metadata": {},
   "outputs": [],
   "source": [
    "df=manage_date(all_data)"
   ]
  },
  {
   "cell_type": "markdown",
   "metadata": {},
   "source": [
    "##### IV-1 CALCUL DES MOYENNES DECADAIRES "
   ]
  },
  {
   "cell_type": "code",
   "execution_count": 42,
   "metadata": {},
   "outputs": [
    {
     "name": "stdout",
     "output_type": "stream",
     "text": [
      "Moyenne décadaire :\n",
      "               Station  Year  Month Decade  u_wind_200\n",
      "0      Bobo_Dioulasso  1961      1      1   24.359285\n",
      "1      Bobo_Dioulasso  1961      1      2   28.219953\n",
      "2      Bobo_Dioulasso  1961      1      3   32.303318\n",
      "3      Bobo_Dioulasso  1961      2      1   12.524779\n",
      "4      Bobo_Dioulasso  1961      2      2   19.788904\n",
      "...               ...   ...    ...    ...         ...\n",
      "22675              Po  2023     11      2   13.294998\n",
      "22676              Po  2023     11      3    3.461331\n",
      "22677              Po  2023     12      1    4.892241\n",
      "22678              Po  2023     12      2   16.447259\n",
      "22679              Po  2023     12      3   20.191202\n",
      "\n",
      "[22680 rows x 5 columns]\n",
      "Moyenne décadaire :\n",
      "               Station  Year  Month Decade  u_wind_200\n",
      "0      Bobo_Dioulasso  1961      1      1   24.359285\n",
      "1      Bobo_Dioulasso  1961      1      2   28.219953\n",
      "2      Bobo_Dioulasso  1961      1      3   32.303318\n",
      "3      Bobo_Dioulasso  1961      2      1   12.524779\n",
      "4      Bobo_Dioulasso  1961      2      2   19.788904\n",
      "...               ...   ...    ...    ...         ...\n",
      "22675              Po  2023     11      2   13.294998\n",
      "22676              Po  2023     11      3    3.461331\n",
      "22677              Po  2023     12      1    4.892241\n",
      "22678              Po  2023     12      2   16.447259\n",
      "22679              Po  2023     12      3   20.191202\n",
      "\n",
      "[22680 rows x 5 columns]\n"
     ]
    }
   ],
   "source": [
    "calcul_moy_decadaire(df, 'u_wind_200')"
   ]
  },
  {
   "cell_type": "markdown",
   "metadata": {},
   "source": [
    "##### IV-2 CALCUL DES MOYENNES MENSUELLES"
   ]
  },
  {
   "cell_type": "code",
   "execution_count": 43,
   "metadata": {},
   "outputs": [
    {
     "name": "stdout",
     "output_type": "stream",
     "text": [
      "\n",
      "Moyenne mensuelle :\n",
      "              Station  Year  Month  u_wind_200\n",
      "0     Bobo_Dioulasso  1961      1   28.423512\n",
      "1     Bobo_Dioulasso  1961      2   17.062947\n",
      "2     Bobo_Dioulasso  1961      3   22.134290\n",
      "3     Bobo_Dioulasso  1961      4   13.424217\n",
      "4     Bobo_Dioulasso  1961      5    5.019922\n",
      "...              ...   ...    ...         ...\n",
      "7555              Po  2023      8  -11.575755\n",
      "7556              Po  2023      9   -7.026378\n",
      "7557              Po  2023     10    3.732810\n",
      "7558              Po  2023     11    6.012696\n",
      "7559              Po  2023     12   14.048330\n",
      "\n",
      "[7560 rows x 4 columns]\n",
      "\n",
      "\n",
      "Moyenne mensuelle :\n",
      "              Station  Year  Month  u_wind_200\n",
      "0     Bobo_Dioulasso  1961      1   28.423512\n",
      "1     Bobo_Dioulasso  1961      2   17.062947\n",
      "2     Bobo_Dioulasso  1961      3   22.134290\n",
      "3     Bobo_Dioulasso  1961      4   13.424217\n",
      "4     Bobo_Dioulasso  1961      5    5.019922\n",
      "...              ...   ...    ...         ...\n",
      "7555              Po  2023      8  -11.575755\n",
      "7556              Po  2023      9   -7.026378\n",
      "7557              Po  2023     10    3.732810\n",
      "7558              Po  2023     11    6.012696\n",
      "7559              Po  2023     12   14.048330\n",
      "\n",
      "[7560 rows x 4 columns]\n"
     ]
    }
   ],
   "source": [
    "calcul_moy_mensuelle(df,'u_wind_200')"
   ]
  },
  {
   "cell_type": "markdown",
   "metadata": {},
   "source": [
    "### V- EAU PRECIPITABLE"
   ]
  },
  {
   "cell_type": "markdown",
   "metadata": {},
   "source": [
    "##### Changement des données manquantes du fichiers decadaires netcdf"
   ]
  },
  {
   "cell_type": "code",
   "execution_count": 44,
   "metadata": {},
   "outputs": [],
   "source": [
    "# Variables de configuration\n",
    "folder_original = Config.PREC_EAU_DEK\n",
    "eau_precip = Config.EAU_PREC\n",
    "# Repertoire sortie des données avec missing values corrigées\n",
    "folder_miss_check=Config.PREC_EAU_VAL\n",
    "\n",
    "change_missing_val(folder_original,folder_miss_check)"
   ]
  },
  {
   "cell_type": "markdown",
   "metadata": {},
   "source": [
    "##### Concatenation des fichiers decadaires"
   ]
  },
  {
   "cell_type": "code",
   "execution_count": 45,
   "metadata": {},
   "outputs": [],
   "source": [
    "# Chemin de sortie\n",
    "output_path = os.path.join(Config.ERA5_PATH, eau_precip)\n",
    "concat_nc_files(folder_miss_check, output_path)"
   ]
  },
  {
   "cell_type": "markdown",
   "metadata": {},
   "source": [
    "##### Lecture du fichier concatené"
   ]
  },
  {
   "cell_type": "code",
   "execution_count": 46,
   "metadata": {},
   "outputs": [],
   "source": [
    "# Lecture de fichier de vent u à la 700 hPa\n",
    "eau_precipitable=Dataset(output_path)\n",
    "#Lecture des variables du fichier au format netCDF\n",
    "eau_prec=eau_precipitable.variables['p79.162'][:]\n",
    "unitd=eau_precipitable.variables['p79.162'].units\n",
    "unit=eau_precipitable.variables['time'].units\n",
    "times=eau_precipitable.variables['time'][:]\n",
    "lat=eau_precipitable.variables['latitude'][:]\n",
    "lon=eau_precipitable.variables['longitude'][:]"
   ]
  },
  {
   "cell_type": "markdown",
   "metadata": {},
   "source": [
    "##### Recuperation des valeurs les plus proche de chaque station"
   ]
  },
  {
   "cell_type": "code",
   "execution_count": 47,
   "metadata": {},
   "outputs": [
    {
     "name": "stdout",
     "output_type": "stream",
     "text": [
      "Generating time series for Bobo_Dioulasso\n",
      "Generating time series for Bobo_Dioulasso\n"
     ]
    },
    {
     "name": "stdout",
     "output_type": "stream",
     "text": [
      "Generating time series for Bogande\n",
      "Generating time series for Bogande\n"
     ]
    },
    {
     "name": "stdout",
     "output_type": "stream",
     "text": [
      "Generating time series for Boromo\n",
      "Generating time series for Boromo\n"
     ]
    },
    {
     "name": "stdout",
     "output_type": "stream",
     "text": [
      "Generating time series for Dedougou\n",
      "Generating time series for Dedougou\n"
     ]
    },
    {
     "name": "stdout",
     "output_type": "stream",
     "text": [
      "Generating time series for Dori\n",
      "Generating time series for Dori\n"
     ]
    },
    {
     "name": "stdout",
     "output_type": "stream",
     "text": [
      "Generating time series for Fada_Ngourma\n",
      "Generating time series for Fada_Ngourma\n"
     ]
    },
    {
     "name": "stdout",
     "output_type": "stream",
     "text": [
      "Generating time series for Gaoua\n",
      "Generating time series for Gaoua\n"
     ]
    },
    {
     "name": "stdout",
     "output_type": "stream",
     "text": [
      "Generating time series for Ouagadougou_aero\n",
      "Generating time series for Ouagadougou_aero\n"
     ]
    },
    {
     "name": "stdout",
     "output_type": "stream",
     "text": [
      "Generating time series for Ouahigouya\n",
      "Generating time series for Ouahigouya\n"
     ]
    },
    {
     "name": "stdout",
     "output_type": "stream",
     "text": [
      "Generating time series for Po\n",
      "Generating time series for Po\n"
     ]
    },
    {
     "name": "stdout",
     "output_type": "stream",
     "text": [
      "All station data is saved in the CSV file: ..\\ASSETS\\DATA\\ERA5\\eau_prec.csv\n",
      "All station data is saved in the CSV file: ..\\ASSETS\\DATA\\ERA5\\eau_prec.csv\n"
     ]
    }
   ],
   "source": [
    "# Créer un répertoire de sortie s'il n'existe pas déjà\n",
    "dir_out = Config.ERA5_DATA_PATH\n",
    "os.makedirs(dir_out, exist_ok=True)\n",
    "\n",
    "# Créer une liste pour stocker les informations des stations\n",
    "station_data_list = []\n",
    "\n",
    "for index, value in stations.iterrows():\n",
    "    station = value['station']  \n",
    "    \n",
    "    lon_point = value['longitude']  # Assurez-vous que la colonne s'appelle 'Longitude'\n",
    "    lat_point = value['latitude']   # Assurez-vous que la colonne s'appelle 'Latitude'\n",
    "    \n",
    "    # Calcul des carrés des différences entre les latitudes et longitudes\n",
    "    sq_diff_lat = (lat - lat_point) ** 2\n",
    "    sq_diff_lon = (lon - lon_point) ** 2\n",
    "    \n",
    "    print(f\"Generating time series for {station}\")\n",
    "    ref_date = datetime.datetime(int(unit[12:16]), int(unit[17:19]), int(unit[20:22]))\n",
    "    date_range = []\n",
    "    eau_prec_data = []\n",
    "    \n",
    "    for index, time in enumerate(times):\n",
    "        date_time = ref_date + datetime.timedelta(hours=int(time))\n",
    "        date_range.append(date_time)  # Ajoutez l'objet datetime lui-même\n",
    "        eau_prec_data.append(eau_prec[index, sq_diff_lat.argmin(), sq_diff_lon.argmin()])  #expv[1] Utilisez les indices corrects\n",
    "    station_data_list.append({'Station': station, 'Date-Time': date_range, 'eau_precipitable': eau_prec_data})\n",
    "\n",
    "# Création du DataFrame global\n",
    "all_data = pd.DataFrame()\n",
    "\n",
    "for station_data in station_data_list:\n",
    "    df = pd.DataFrame(station_data)\n",
    "    all_data = pd.concat([all_data, df], ignore_index=True)\n",
    "\n",
    "# Enregistrement du DataFrame global dans un fichier CSV\n",
    "output_file_path = os.path.join(dir_out, str(Config.EAU_PREC_CSV))\n",
    "all_data.to_csv(output_file_path, index=False)\n",
    "print(f\"All station data is saved in the CSV file: {output_file_path}\")"
   ]
  },
  {
   "cell_type": "code",
   "execution_count": 48,
   "metadata": {},
   "outputs": [
    {
     "data": {
      "text/html": [
       "<div>\n",
       "<style scoped>\n",
       "    .dataframe tbody tr th:only-of-type {\n",
       "        vertical-align: middle;\n",
       "    }\n",
       "\n",
       "    .dataframe tbody tr th {\n",
       "        vertical-align: top;\n",
       "    }\n",
       "\n",
       "    .dataframe thead th {\n",
       "        text-align: right;\n",
       "    }\n",
       "</style>\n",
       "<table border=\"1\" class=\"dataframe\">\n",
       "  <thead>\n",
       "    <tr style=\"text-align: right;\">\n",
       "      <th></th>\n",
       "      <th>Station</th>\n",
       "      <th>Date-Time</th>\n",
       "      <th>eau_precipitable</th>\n",
       "    </tr>\n",
       "  </thead>\n",
       "  <tbody>\n",
       "    <tr>\n",
       "      <th>0</th>\n",
       "      <td>Bobo_Dioulasso</td>\n",
       "      <td>1961-01-01 00:00:00</td>\n",
       "      <td>-3.441911e-07</td>\n",
       "    </tr>\n",
       "    <tr>\n",
       "      <th>1</th>\n",
       "      <td>Bobo_Dioulasso</td>\n",
       "      <td>1961-01-01 03:00:00</td>\n",
       "      <td>-1.278351e-06</td>\n",
       "    </tr>\n",
       "    <tr>\n",
       "      <th>2</th>\n",
       "      <td>Bobo_Dioulasso</td>\n",
       "      <td>1961-01-01 06:00:00</td>\n",
       "      <td>-1.777733e-06</td>\n",
       "    </tr>\n",
       "    <tr>\n",
       "      <th>3</th>\n",
       "      <td>Bobo_Dioulasso</td>\n",
       "      <td>1961-01-01 09:00:00</td>\n",
       "      <td>-3.109544e-07</td>\n",
       "    </tr>\n",
       "    <tr>\n",
       "      <th>4</th>\n",
       "      <td>Bobo_Dioulasso</td>\n",
       "      <td>1961-01-01 12:00:00</td>\n",
       "      <td>-2.214230e-07</td>\n",
       "    </tr>\n",
       "  </tbody>\n",
       "</table>\n",
       "</div>"
      ],
      "text/plain": [
       "          Station           Date-Time  eau_precipitable\n",
       "0  Bobo_Dioulasso 1961-01-01 00:00:00     -3.441911e-07\n",
       "1  Bobo_Dioulasso 1961-01-01 03:00:00     -1.278351e-06\n",
       "2  Bobo_Dioulasso 1961-01-01 06:00:00     -1.777733e-06\n",
       "3  Bobo_Dioulasso 1961-01-01 09:00:00     -3.109544e-07\n",
       "4  Bobo_Dioulasso 1961-01-01 12:00:00     -2.214230e-07"
      ]
     },
     "execution_count": null,
     "metadata": {},
     "output_type": "execute_result"
    }
   ],
   "source": [
    "all_data.head()"
   ]
  },
  {
   "cell_type": "code",
   "execution_count": 49,
   "metadata": {},
   "outputs": [],
   "source": [
    "df=manage_date(all_data)"
   ]
  },
  {
   "cell_type": "markdown",
   "metadata": {},
   "source": [
    "##### V-1 CALCUL DES MOYENNES DECADAIRES "
   ]
  },
  {
   "cell_type": "code",
   "execution_count": 50,
   "metadata": {},
   "outputs": [
    {
     "name": "stdout",
     "output_type": "stream",
     "text": [
      "Moyenne décadaire :\n",
      "               Station  Year  Month Decade  eau_precipitable\n",
      "0      Bobo_Dioulasso  1961      1      1      5.872143e-09\n",
      "1      Bobo_Dioulasso  1961      1      2      1.950160e-08\n",
      "2      Bobo_Dioulasso  1961      1      3     -7.126785e-07\n",
      "3      Bobo_Dioulasso  1961      2      1     -3.006926e-08\n",
      "4      Bobo_Dioulasso  1961      2      2     -4.638627e-08\n",
      "...               ...   ...    ...    ...               ...\n",
      "22675              Po  2023     11      2      1.995109e-07\n",
      "22676              Po  2023     11      3      6.656191e-07\n",
      "22677              Po  2023     12      1     -6.186982e-09\n",
      "22678              Po  2023     12      2     -1.006486e-07\n",
      "22679              Po  2023     12      3      2.643045e-09\n",
      "\n",
      "[22680 rows x 5 columns]\n",
      "Moyenne décadaire :\n",
      "               Station  Year  Month Decade  eau_precipitable\n",
      "0      Bobo_Dioulasso  1961      1      1      5.872143e-09\n",
      "1      Bobo_Dioulasso  1961      1      2      1.950160e-08\n",
      "2      Bobo_Dioulasso  1961      1      3     -7.126785e-07\n",
      "3      Bobo_Dioulasso  1961      2      1     -3.006926e-08\n",
      "4      Bobo_Dioulasso  1961      2      2     -4.638627e-08\n",
      "...               ...   ...    ...    ...               ...\n",
      "22675              Po  2023     11      2      1.995109e-07\n",
      "22676              Po  2023     11      3      6.656191e-07\n",
      "22677              Po  2023     12      1     -6.186982e-09\n",
      "22678              Po  2023     12      2     -1.006486e-07\n",
      "22679              Po  2023     12      3      2.643045e-09\n",
      "\n",
      "[22680 rows x 5 columns]\n"
     ]
    }
   ],
   "source": [
    "calcul_moy_decadaire(df, 'eau_precipitable')"
   ]
  },
  {
   "cell_type": "markdown",
   "metadata": {},
   "source": [
    "##### V-2 CALCUL DES MOYENNES MENSUELLES"
   ]
  },
  {
   "cell_type": "code",
   "execution_count": 51,
   "metadata": {},
   "outputs": [
    {
     "name": "stdout",
     "output_type": "stream",
     "text": [
      "\n",
      "Moyenne mensuelle :\n",
      "              Station  Year  Month  eau_precipitable\n",
      "0     Bobo_Dioulasso  1961      1     -2.447008e-07\n",
      "1     Bobo_Dioulasso  1961      2     -4.154257e-08\n",
      "2     Bobo_Dioulasso  1961      3      1.196773e-07\n",
      "3     Bobo_Dioulasso  1961      4      1.468938e-08\n",
      "4     Bobo_Dioulasso  1961      5     -6.044959e-08\n",
      "...              ...   ...    ...               ...\n",
      "7555              Po  2023      8     -4.339784e-07\n",
      "7556              Po  2023      9      3.548711e-07\n",
      "7557              Po  2023     10      1.275398e-07\n",
      "7558              Po  2023     11      4.417822e-07\n",
      "7559              Po  2023     12     -3.352524e-08\n",
      "\n",
      "[7560 rows x 4 columns]\n",
      "\n",
      "\n",
      "Moyenne mensuelle :\n",
      "              Station  Year  Month  eau_precipitable\n",
      "0     Bobo_Dioulasso  1961      1     -2.447008e-07\n",
      "1     Bobo_Dioulasso  1961      2     -4.154257e-08\n",
      "2     Bobo_Dioulasso  1961      3      1.196773e-07\n",
      "3     Bobo_Dioulasso  1961      4      1.468938e-08\n",
      "4     Bobo_Dioulasso  1961      5     -6.044959e-08\n",
      "...              ...   ...    ...               ...\n",
      "7555              Po  2023      8     -4.339784e-07\n",
      "7556              Po  2023      9      3.548711e-07\n",
      "7557              Po  2023     10      1.275398e-07\n",
      "7558              Po  2023     11      4.417822e-07\n",
      "7559              Po  2023     12     -3.352524e-08\n",
      "\n",
      "[7560 rows x 4 columns]\n"
     ]
    }
   ],
   "source": [
    "calcul_moy_mensuelle(df,'eau_precipitable')"
   ]
  },
  {
   "cell_type": "markdown",
   "metadata": {},
   "source": [
    "### V- TEMPERATURE DE POINT DE ROSÉE"
   ]
  },
  {
   "cell_type": "markdown",
   "metadata": {},
   "source": [
    "##### Changement des données manquantes du fichiers decadaires netcdf"
   ]
  },
  {
   "cell_type": "code",
   "execution_count": 52,
   "metadata": {},
   "outputs": [],
   "source": [
    "# Variables de configuration\n",
    "folder_original = Config.TEMP_ROS_DEK\n",
    "point_rosee = Config.POINT_ROSEE\n",
    "# Repertoire sortie des données avec missing values corrigées\n",
    "folder_miss_check=Config.TEMP_ROS_VAL\n",
    "\n",
    "change_missing_val(folder_original,folder_miss_check)"
   ]
  },
  {
   "cell_type": "markdown",
   "metadata": {},
   "source": [
    "##### Concatenation des fichiers decadaires"
   ]
  },
  {
   "cell_type": "code",
   "execution_count": 53,
   "metadata": {},
   "outputs": [],
   "source": [
    "# Chemin de sortie\n",
    "output_path = os.path.join(Config.ERA5_PATH, point_rosee)\n",
    "concat_nc_files(folder_miss_check, output_path)"
   ]
  },
  {
   "cell_type": "markdown",
   "metadata": {},
   "source": [
    "##### Lecture du fichier concatené"
   ]
  },
  {
   "cell_type": "code",
   "execution_count": 54,
   "metadata": {},
   "outputs": [],
   "source": [
    "# Lecture de fichier de vent u à la 700 hPa\n",
    "t_point_rosee=Dataset(output_path)\n",
    "#Lecture des variables du fichier au format netCDF\n",
    "point_rosee=t_point_rosee.variables['d2m'][:]\n",
    "unitd=t_point_rosee.variables['d2m'].units\n",
    "unit=t_point_rosee.variables['time'].units\n",
    "times=t_point_rosee.variables['time'][:]\n",
    "lat=t_point_rosee.variables['latitude'][:]\n",
    "lon=t_point_rosee.variables['longitude'][:]\n"
   ]
  },
  {
   "cell_type": "markdown",
   "metadata": {},
   "source": [
    "##### Recuperation des valeurs les plus proche de chaque station"
   ]
  },
  {
   "cell_type": "code",
   "execution_count": 55,
   "metadata": {},
   "outputs": [
    {
     "name": "stdout",
     "output_type": "stream",
     "text": [
      "Generating time series for Bobo_Dioulasso\n",
      "Generating time series for Bobo_Dioulasso\n"
     ]
    },
    {
     "name": "stdout",
     "output_type": "stream",
     "text": [
      "Generating time series for Bogande\n",
      "Generating time series for Bogande\n"
     ]
    },
    {
     "name": "stdout",
     "output_type": "stream",
     "text": [
      "Generating time series for Boromo\n",
      "Generating time series for Boromo\n"
     ]
    },
    {
     "name": "stdout",
     "output_type": "stream",
     "text": [
      "Generating time series for Dedougou\n",
      "Generating time series for Dedougou\n"
     ]
    },
    {
     "name": "stdout",
     "output_type": "stream",
     "text": [
      "Generating time series for Dori\n",
      "Generating time series for Dori\n"
     ]
    },
    {
     "name": "stdout",
     "output_type": "stream",
     "text": [
      "Generating time series for Fada_Ngourma\n",
      "Generating time series for Fada_Ngourma\n"
     ]
    },
    {
     "name": "stdout",
     "output_type": "stream",
     "text": [
      "Generating time series for Gaoua\n",
      "Generating time series for Gaoua\n"
     ]
    },
    {
     "name": "stdout",
     "output_type": "stream",
     "text": [
      "Generating time series for Ouagadougou_aero\n",
      "Generating time series for Ouagadougou_aero\n"
     ]
    },
    {
     "name": "stdout",
     "output_type": "stream",
     "text": [
      "Generating time series for Ouahigouya\n",
      "Generating time series for Ouahigouya\n"
     ]
    },
    {
     "name": "stdout",
     "output_type": "stream",
     "text": [
      "Generating time series for Po\n",
      "Generating time series for Po\n"
     ]
    },
    {
     "name": "stdout",
     "output_type": "stream",
     "text": [
      "All station data is saved in the CSV file: ..\\ASSETS\\DATA\\ERA5\\point_rosee.csv\n",
      "All station data is saved in the CSV file: ..\\ASSETS\\DATA\\ERA5\\point_rosee.csv\n"
     ]
    }
   ],
   "source": [
    "# Créer un répertoire de sortie s'il n'existe pas déjà\n",
    "dir_out = Config.ERA5_DATA_PATH\n",
    "os.makedirs(dir_out, exist_ok=True)\n",
    "\n",
    "# Créer une liste pour stocker les informations des stations\n",
    "station_data_list = []\n",
    "\n",
    "for index, value in stations.iterrows():\n",
    "    station = value['station']  \n",
    "    \n",
    "    lon_point = value['longitude']  # Assurez-vous que la colonne s'appelle 'Longitude'\n",
    "    lat_point = value['latitude']   # Assurez-vous que la colonne s'appelle 'Latitude'\n",
    "    \n",
    "    # Calcul des carrés des différences entre les latitudes et longitudes\n",
    "    sq_diff_lat = (lat - lat_point) ** 2\n",
    "    sq_diff_lon = (lon - lon_point) ** 2\n",
    "    \n",
    "    print(f\"Generating time series for {station}\")\n",
    "    ref_date = datetime.datetime(int(unit[12:16]), int(unit[17:19]), int(unit[20:22]))\n",
    "    date_range = []\n",
    "    point_rosee_data = []\n",
    "    \n",
    "    for index, time in enumerate(times):\n",
    "        date_time = ref_date + datetime.timedelta(hours=int(time))\n",
    "        date_range.append(date_time)  # Ajoutez l'objet datetime lui-même\n",
    "        point_rosee_data.append(point_rosee[index, sq_diff_lat.argmin(), sq_diff_lon.argmin()])  # Utilisez les indices corrects\n",
    "    station_data_list.append({'Station': station,'Date-Time': date_range, 't_point_rosee': point_rosee_data})\n",
    "\n",
    "# Création du DataFrame global\n",
    "all_data = pd.DataFrame()\n",
    "\n",
    "for station_data in station_data_list:\n",
    "    df = pd.DataFrame(station_data)\n",
    "    all_data = pd.concat([all_data, df], ignore_index=True)\n",
    "\n",
    "# Enregistrement du DataFrame global dans un fichier CSV\n",
    "output_file_path = os.path.join(dir_out, str(Config.POINT_ROSEE_CSV))\n",
    "all_data.to_csv(output_file_path, index=False)\n",
    "print(f\"All station data is saved in the CSV file: {output_file_path}\")\n"
   ]
  },
  {
   "cell_type": "code",
   "execution_count": 56,
   "metadata": {},
   "outputs": [
    {
     "data": {
      "text/html": [
       "<div>\n",
       "<style scoped>\n",
       "    .dataframe tbody tr th:only-of-type {\n",
       "        vertical-align: middle;\n",
       "    }\n",
       "\n",
       "    .dataframe tbody tr th {\n",
       "        vertical-align: top;\n",
       "    }\n",
       "\n",
       "    .dataframe thead th {\n",
       "        text-align: right;\n",
       "    }\n",
       "</style>\n",
       "<table border=\"1\" class=\"dataframe\">\n",
       "  <thead>\n",
       "    <tr style=\"text-align: right;\">\n",
       "      <th></th>\n",
       "      <th>Station</th>\n",
       "      <th>Date-Time</th>\n",
       "      <th>t_point_rosee</th>\n",
       "    </tr>\n",
       "  </thead>\n",
       "  <tbody>\n",
       "    <tr>\n",
       "      <th>0</th>\n",
       "      <td>Bobo_Dioulasso</td>\n",
       "      <td>1961-01-01 00:00:00</td>\n",
       "      <td>270.459699</td>\n",
       "    </tr>\n",
       "    <tr>\n",
       "      <th>1</th>\n",
       "      <td>Bobo_Dioulasso</td>\n",
       "      <td>1961-01-01 03:00:00</td>\n",
       "      <td>270.892175</td>\n",
       "    </tr>\n",
       "    <tr>\n",
       "      <th>2</th>\n",
       "      <td>Bobo_Dioulasso</td>\n",
       "      <td>1961-01-01 06:00:00</td>\n",
       "      <td>270.785854</td>\n",
       "    </tr>\n",
       "    <tr>\n",
       "      <th>3</th>\n",
       "      <td>Bobo_Dioulasso</td>\n",
       "      <td>1961-01-01 09:00:00</td>\n",
       "      <td>269.847453</td>\n",
       "    </tr>\n",
       "    <tr>\n",
       "      <th>4</th>\n",
       "      <td>Bobo_Dioulasso</td>\n",
       "      <td>1961-01-01 12:00:00</td>\n",
       "      <td>271.654914</td>\n",
       "    </tr>\n",
       "  </tbody>\n",
       "</table>\n",
       "</div>"
      ],
      "text/plain": [
       "          Station           Date-Time  t_point_rosee\n",
       "0  Bobo_Dioulasso 1961-01-01 00:00:00     270.459699\n",
       "1  Bobo_Dioulasso 1961-01-01 03:00:00     270.892175\n",
       "2  Bobo_Dioulasso 1961-01-01 06:00:00     270.785854\n",
       "3  Bobo_Dioulasso 1961-01-01 09:00:00     269.847453\n",
       "4  Bobo_Dioulasso 1961-01-01 12:00:00     271.654914"
      ]
     },
     "execution_count": null,
     "metadata": {},
     "output_type": "execute_result"
    }
   ],
   "source": [
    "all_data.head()"
   ]
  },
  {
   "cell_type": "code",
   "execution_count": 57,
   "metadata": {},
   "outputs": [],
   "source": [
    "df=manage_date(all_data)"
   ]
  },
  {
   "cell_type": "markdown",
   "metadata": {},
   "source": [
    "##### V-1 CALCUL DES MOYENNES DECADAIRES "
   ]
  },
  {
   "cell_type": "code",
   "execution_count": 58,
   "metadata": {},
   "outputs": [
    {
     "name": "stdout",
     "output_type": "stream",
     "text": [
      "Moyenne décadaire :\n",
      "               Station  Year  Month Decade  t_point_rosee\n",
      "0      Bobo_Dioulasso  1961      1      1     274.505384\n",
      "1      Bobo_Dioulasso  1961      1      2     274.479259\n",
      "2      Bobo_Dioulasso  1961      1      3     273.833101\n",
      "3      Bobo_Dioulasso  1961      2      1     269.842157\n",
      "4      Bobo_Dioulasso  1961      2      2     269.390330\n",
      "...               ...   ...    ...    ...            ...\n",
      "22675              Po  2023     11      2     288.788924\n",
      "22676              Po  2023     11      3     291.597863\n",
      "22677              Po  2023     12      1     283.625472\n",
      "22678              Po  2023     12      2     278.778910\n",
      "22679              Po  2023     12      3     277.919467\n",
      "\n",
      "[22680 rows x 5 columns]\n",
      "Moyenne décadaire :\n",
      "               Station  Year  Month Decade  t_point_rosee\n",
      "0      Bobo_Dioulasso  1961      1      1     274.505384\n",
      "1      Bobo_Dioulasso  1961      1      2     274.479259\n",
      "2      Bobo_Dioulasso  1961      1      3     273.833101\n",
      "3      Bobo_Dioulasso  1961      2      1     269.842157\n",
      "4      Bobo_Dioulasso  1961      2      2     269.390330\n",
      "...               ...   ...    ...    ...            ...\n",
      "22675              Po  2023     11      2     288.788924\n",
      "22676              Po  2023     11      3     291.597863\n",
      "22677              Po  2023     12      1     283.625472\n",
      "22678              Po  2023     12      2     278.778910\n",
      "22679              Po  2023     12      3     277.919467\n",
      "\n",
      "[22680 rows x 5 columns]\n"
     ]
    }
   ],
   "source": [
    "calcul_moy_decadaire(df, 't_point_rosee')"
   ]
  },
  {
   "cell_type": "markdown",
   "metadata": {},
   "source": [
    "##### V-2 CALCUL DES MOYENNES MENSUELLES"
   ]
  },
  {
   "cell_type": "code",
   "execution_count": 59,
   "metadata": {},
   "outputs": [
    {
     "name": "stdout",
     "output_type": "stream",
     "text": [
      "\n",
      "Moyenne mensuelle :\n",
      "              Station  Year  Month  t_point_rosee\n",
      "0     Bobo_Dioulasso  1961      1     274.258404\n",
      "1     Bobo_Dioulasso  1961      2     270.738747\n",
      "2     Bobo_Dioulasso  1961      3     275.947227\n",
      "3     Bobo_Dioulasso  1961      4     291.274081\n",
      "4     Bobo_Dioulasso  1961      5     294.604530\n",
      "...              ...   ...    ...            ...\n",
      "7555              Po  2023      8     297.007865\n",
      "7556              Po  2023      9     297.335975\n",
      "7557              Po  2023     10     296.495194\n",
      "7558              Po  2023     11     291.622302\n",
      "7559              Po  2023     12     280.037353\n",
      "\n",
      "[7560 rows x 4 columns]\n",
      "\n",
      "\n",
      "Moyenne mensuelle :\n",
      "              Station  Year  Month  t_point_rosee\n",
      "0     Bobo_Dioulasso  1961      1     274.258404\n",
      "1     Bobo_Dioulasso  1961      2     270.738747\n",
      "2     Bobo_Dioulasso  1961      3     275.947227\n",
      "3     Bobo_Dioulasso  1961      4     291.274081\n",
      "4     Bobo_Dioulasso  1961      5     294.604530\n",
      "...              ...   ...    ...            ...\n",
      "7555              Po  2023      8     297.007865\n",
      "7556              Po  2023      9     297.335975\n",
      "7557              Po  2023     10     296.495194\n",
      "7558              Po  2023     11     291.622302\n",
      "7559              Po  2023     12     280.037353\n",
      "\n",
      "[7560 rows x 4 columns]\n"
     ]
    }
   ],
   "source": [
    "calcul_moy_mensuelle(df,'t_point_rosee')"
   ]
  },
  {
   "cell_type": "markdown",
   "metadata": {},
   "source": [
    "### VI- HUMIDITE DU SOL"
   ]
  },
  {
   "cell_type": "markdown",
   "metadata": {},
   "source": [
    "##### Changement des données manquantes du fichiers decadaires netcdf"
   ]
  },
  {
   "cell_type": "code",
   "execution_count": 60,
   "metadata": {},
   "outputs": [],
   "source": [
    "# Variables de configuration\n",
    "folder_original = Config.SOL_EAU_DEK\n",
    "sol_eau = Config.SOL_WATERPOINT\n",
    "# Repertoire sortie des données avec missing values corrigées\n",
    "folder_miss_check=Config.SOL_EAU_VAL\n",
    "\n",
    "change_missing_val(folder_original,folder_miss_check)"
   ]
  },
  {
   "cell_type": "markdown",
   "metadata": {},
   "source": [
    "##### Concatenation des fichiers decadaires"
   ]
  },
  {
   "cell_type": "code",
   "execution_count": 61,
   "metadata": {},
   "outputs": [],
   "source": [
    "# Chemin de sortie\n",
    "output_path = os.path.join(Config.ERA5_PATH, sol_eau)\n",
    "concat_nc_files(folder_miss_check, output_path)"
   ]
  },
  {
   "cell_type": "markdown",
   "metadata": {},
   "source": [
    "##### Lecture du fichier concatené"
   ]
  },
  {
   "cell_type": "code",
   "execution_count": 62,
   "metadata": {},
   "outputs": [],
   "source": [
    "# Lecture de fichier de vent u à la 700 hPa\n",
    "h_vol_sol_wat=Dataset(output_path)\n",
    "#Lecture des variables du fichier au format netCDF\n",
    "volum_wat=h_vol_sol_wat.variables['swvl1'][:]\n",
    "unitd=h_vol_sol_wat.variables['swvl1'].units\n",
    "unit=h_vol_sol_wat.variables['time'].units\n",
    "times=h_vol_sol_wat.variables['time'][:]\n",
    "lat=h_vol_sol_wat.variables['latitude'][:]\n",
    "lon=h_vol_sol_wat.variables['longitude'][:]"
   ]
  },
  {
   "cell_type": "markdown",
   "metadata": {},
   "source": [
    "##### Recuperation des valeurs les plus proche de chaque station"
   ]
  },
  {
   "cell_type": "code",
   "execution_count": 63,
   "metadata": {},
   "outputs": [
    {
     "name": "stdout",
     "output_type": "stream",
     "text": [
      "Generating time series for Bobo_Dioulasso\n",
      "Generating time series for Bobo_Dioulasso\n"
     ]
    },
    {
     "name": "stdout",
     "output_type": "stream",
     "text": [
      "Generating time series for Bogande\n",
      "Generating time series for Bogande\n"
     ]
    },
    {
     "name": "stdout",
     "output_type": "stream",
     "text": [
      "Generating time series for Boromo\n",
      "Generating time series for Boromo\n"
     ]
    },
    {
     "name": "stdout",
     "output_type": "stream",
     "text": [
      "Generating time series for Dedougou\n",
      "Generating time series for Dedougou\n"
     ]
    },
    {
     "name": "stdout",
     "output_type": "stream",
     "text": [
      "Generating time series for Dori\n",
      "Generating time series for Dori\n"
     ]
    },
    {
     "name": "stdout",
     "output_type": "stream",
     "text": [
      "Generating time series for Fada_Ngourma\n",
      "Generating time series for Fada_Ngourma\n"
     ]
    },
    {
     "name": "stdout",
     "output_type": "stream",
     "text": [
      "Generating time series for Gaoua\n",
      "Generating time series for Gaoua\n"
     ]
    },
    {
     "name": "stdout",
     "output_type": "stream",
     "text": [
      "Generating time series for Ouagadougou_aero\n",
      "Generating time series for Ouagadougou_aero\n"
     ]
    },
    {
     "name": "stdout",
     "output_type": "stream",
     "text": [
      "Generating time series for Ouahigouya\n",
      "Generating time series for Ouahigouya\n"
     ]
    },
    {
     "name": "stdout",
     "output_type": "stream",
     "text": [
      "Generating time series for Po\n",
      "Generating time series for Po\n"
     ]
    },
    {
     "name": "stdout",
     "output_type": "stream",
     "text": [
      "All station data is saved in the CSV file: ..\\ASSETS\\DATA\\ERA5\\vol_soil_water.csv\n",
      "All station data is saved in the CSV file: ..\\ASSETS\\DATA\\ERA5\\vol_soil_water.csv\n"
     ]
    }
   ],
   "source": [
    "# Créer un répertoire de sortie s'il n'existe pas déjà\n",
    "dir_out = Config.ERA5_DATA_PATH\n",
    "os.makedirs(dir_out, exist_ok=True)\n",
    "\n",
    "# Créer une liste pour stocker les informations des stations\n",
    "station_data_list = []\n",
    "\n",
    "for index, value in stations.iterrows():\n",
    "    station = value['station']  \n",
    "    \n",
    "    lon_point = value['longitude']  # Assurez-vous que la colonne s'appelle 'Longitude'\n",
    "    lat_point = value['latitude']   # Assurez-vous que la colonne s'appelle 'Latitude'\n",
    "    \n",
    "    # Calcul des carrés des différences entre les latitudes et longitudes\n",
    "    sq_diff_lat = (lat - lat_point) ** 2\n",
    "    sq_diff_lon = (lon - lon_point) ** 2\n",
    "    \n",
    "    print(f\"Generating time series for {station}\")\n",
    "    ref_date = datetime.datetime(int(unit[12:16]), int(unit[17:19]), int(unit[20:22]))\n",
    "    date_range = []\n",
    "    volum_wat_data = []\n",
    "    \n",
    "    for index, time in enumerate(times):\n",
    "        date_time = ref_date + datetime.timedelta(hours=int(time))\n",
    "        date_range.append(date_time)  # Ajoutez l'objet datetime lui-même\n",
    "        volum_wat_data.append(volum_wat[index, sq_diff_lat.argmin(), sq_diff_lon.argmin()])  # Utilisez les indices corrects\n",
    "    station_data_list.append({'Station': station,'Date-Time': date_range, 'h_vol_sol_wat': volum_wat_data})\n",
    "\n",
    "# Création du DataFrame global\n",
    "all_data = pd.DataFrame()\n",
    "\n",
    "for station_data in station_data_list:\n",
    "    df = pd.DataFrame(station_data)\n",
    "    all_data = pd.concat([all_data, df], ignore_index=True)\n",
    "\n",
    "# Enregistrement du DataFrame global dans un fichier CSV\n",
    "output_file_path = os.path.join(dir_out, str(Config.SOL_WATERPOINT_CSV))\n",
    "all_data.to_csv(output_file_path, index=False)\n",
    "print(f\"All station data is saved in the CSV file: {output_file_path}\")\n",
    "\n"
   ]
  },
  {
   "cell_type": "code",
   "execution_count": 64,
   "metadata": {},
   "outputs": [
    {
     "data": {
      "text/html": [
       "<div>\n",
       "<style scoped>\n",
       "    .dataframe tbody tr th:only-of-type {\n",
       "        vertical-align: middle;\n",
       "    }\n",
       "\n",
       "    .dataframe tbody tr th {\n",
       "        vertical-align: top;\n",
       "    }\n",
       "\n",
       "    .dataframe thead th {\n",
       "        text-align: right;\n",
       "    }\n",
       "</style>\n",
       "<table border=\"1\" class=\"dataframe\">\n",
       "  <thead>\n",
       "    <tr style=\"text-align: right;\">\n",
       "      <th></th>\n",
       "      <th>Station</th>\n",
       "      <th>Date-Time</th>\n",
       "      <th>h_vol_sol_wat</th>\n",
       "    </tr>\n",
       "  </thead>\n",
       "  <tbody>\n",
       "    <tr>\n",
       "      <th>0</th>\n",
       "      <td>Bobo_Dioulasso</td>\n",
       "      <td>1961-01-01 00:00:00</td>\n",
       "      <td>0.167686</td>\n",
       "    </tr>\n",
       "    <tr>\n",
       "      <th>1</th>\n",
       "      <td>Bobo_Dioulasso</td>\n",
       "      <td>1961-01-01 03:00:00</td>\n",
       "      <td>0.167662</td>\n",
       "    </tr>\n",
       "    <tr>\n",
       "      <th>2</th>\n",
       "      <td>Bobo_Dioulasso</td>\n",
       "      <td>1961-01-01 06:00:00</td>\n",
       "      <td>0.167653</td>\n",
       "    </tr>\n",
       "    <tr>\n",
       "      <th>3</th>\n",
       "      <td>Bobo_Dioulasso</td>\n",
       "      <td>1961-01-01 09:00:00</td>\n",
       "      <td>0.167629</td>\n",
       "    </tr>\n",
       "    <tr>\n",
       "      <th>4</th>\n",
       "      <td>Bobo_Dioulasso</td>\n",
       "      <td>1961-01-01 12:00:00</td>\n",
       "      <td>0.167174</td>\n",
       "    </tr>\n",
       "  </tbody>\n",
       "</table>\n",
       "</div>"
      ],
      "text/plain": [
       "          Station           Date-Time  h_vol_sol_wat\n",
       "0  Bobo_Dioulasso 1961-01-01 00:00:00       0.167686\n",
       "1  Bobo_Dioulasso 1961-01-01 03:00:00       0.167662\n",
       "2  Bobo_Dioulasso 1961-01-01 06:00:00       0.167653\n",
       "3  Bobo_Dioulasso 1961-01-01 09:00:00       0.167629\n",
       "4  Bobo_Dioulasso 1961-01-01 12:00:00       0.167174"
      ]
     },
     "execution_count": null,
     "metadata": {},
     "output_type": "execute_result"
    }
   ],
   "source": [
    "all_data.head()"
   ]
  },
  {
   "cell_type": "code",
   "execution_count": 65,
   "metadata": {},
   "outputs": [],
   "source": [
    "df=manage_date(all_data)"
   ]
  },
  {
   "cell_type": "markdown",
   "metadata": {},
   "source": [
    "##### V-1 CALCUL DES MOYENNES DECADAIRES "
   ]
  },
  {
   "cell_type": "code",
   "execution_count": 66,
   "metadata": {},
   "outputs": [
    {
     "name": "stdout",
     "output_type": "stream",
     "text": [
      "Moyenne décadaire :\n",
      "               Station  Year  Month Decade  h_vol_sol_wat\n",
      "0      Bobo_Dioulasso  1961      1      1       0.177588\n",
      "1      Bobo_Dioulasso  1961      1      2       0.178358\n",
      "2      Bobo_Dioulasso  1961      1      3       0.178193\n",
      "3      Bobo_Dioulasso  1961      2      1       0.172408\n",
      "4      Bobo_Dioulasso  1961      2      2       0.173361\n",
      "...               ...   ...    ...    ...            ...\n",
      "22675              Po  2023     11      2       0.125040\n",
      "22676              Po  2023     11      3       0.120388\n",
      "22677              Po  2023     12      1       0.122402\n",
      "22678              Po  2023     12      2       0.122092\n",
      "22679              Po  2023     12      3       0.123349\n",
      "\n",
      "[22680 rows x 5 columns]\n",
      "Moyenne décadaire :\n",
      "               Station  Year  Month Decade  h_vol_sol_wat\n",
      "0      Bobo_Dioulasso  1961      1      1       0.177588\n",
      "1      Bobo_Dioulasso  1961      1      2       0.178358\n",
      "2      Bobo_Dioulasso  1961      1      3       0.178193\n",
      "3      Bobo_Dioulasso  1961      2      1       0.172408\n",
      "4      Bobo_Dioulasso  1961      2      2       0.173361\n",
      "...               ...   ...    ...    ...            ...\n",
      "22675              Po  2023     11      2       0.125040\n",
      "22676              Po  2023     11      3       0.120388\n",
      "22677              Po  2023     12      1       0.122402\n",
      "22678              Po  2023     12      2       0.122092\n",
      "22679              Po  2023     12      3       0.123349\n",
      "\n",
      "[22680 rows x 5 columns]\n"
     ]
    }
   ],
   "source": [
    "calcul_moy_decadaire(df, 'h_vol_sol_wat')"
   ]
  },
  {
   "cell_type": "markdown",
   "metadata": {},
   "source": [
    "##### V-2 CALCUL DES MOYENNES MENSUELLES"
   ]
  },
  {
   "cell_type": "code",
   "execution_count": 67,
   "metadata": {},
   "outputs": [
    {
     "name": "stdout",
     "output_type": "stream",
     "text": [
      "\n",
      "Moyenne mensuelle :\n",
      "              Station  Year  Month  h_vol_sol_wat\n",
      "0     Bobo_Dioulasso  1961      1       0.178051\n",
      "1     Bobo_Dioulasso  1961      2       0.173297\n",
      "2     Bobo_Dioulasso  1961      3       0.170007\n",
      "3     Bobo_Dioulasso  1961      4       0.204349\n",
      "4     Bobo_Dioulasso  1961      5       0.262240\n",
      "...              ...   ...    ...            ...\n",
      "7555              Po  2023      8       0.378430\n",
      "7556              Po  2023      9       0.375144\n",
      "7557              Po  2023     10       0.227509\n",
      "7558              Po  2023     11       0.123016\n",
      "7559              Po  2023     12       0.122638\n",
      "\n",
      "[7560 rows x 4 columns]\n",
      "\n",
      "\n",
      "Moyenne mensuelle :\n",
      "              Station  Year  Month  h_vol_sol_wat\n",
      "0     Bobo_Dioulasso  1961      1       0.178051\n",
      "1     Bobo_Dioulasso  1961      2       0.173297\n",
      "2     Bobo_Dioulasso  1961      3       0.170007\n",
      "3     Bobo_Dioulasso  1961      4       0.204349\n",
      "4     Bobo_Dioulasso  1961      5       0.262240\n",
      "...              ...   ...    ...            ...\n",
      "7555              Po  2023      8       0.378430\n",
      "7556              Po  2023      9       0.375144\n",
      "7557              Po  2023     10       0.227509\n",
      "7558              Po  2023     11       0.123016\n",
      "7559              Po  2023     12       0.122638\n",
      "\n",
      "[7560 rows x 4 columns]\n"
     ]
    }
   ],
   "source": [
    "calcul_moy_mensuelle(df,'h_vol_sol_wat')"
   ]
  },
  {
   "cell_type": "markdown",
   "metadata": {},
   "source": [
    "### VII- PROCESSING LANGUE D'EAU FROIDE DATA"
   ]
  },
  {
   "cell_type": "markdown",
   "metadata": {},
   "source": [
    "##### Changement des données manquantes du fichiers decadaires netcdf"
   ]
  },
  {
   "cell_type": "code",
   "execution_count": 68,
   "metadata": {},
   "outputs": [],
   "source": [
    "# Variables de configuration\n",
    "folder_original = Config.SST_LEF_DEK\n",
    "# Repertoire sortie des données avec missing values corrigées\n",
    "folder_miss_check=Config.SST_LEF_VAL\n",
    "change_missing_val(folder_original,folder_miss_check)"
   ]
  },
  {
   "cell_type": "markdown",
   "metadata": {},
   "source": [
    "##### Calcul de la moyenne spatiale"
   ]
  },
  {
   "cell_type": "code",
   "execution_count": 70,
   "metadata": {},
   "outputs": [
    {
     "name": "stdout",
     "output_type": "stream",
     "text": [
      "Dossier d'entrée : ..\\ASSETS\\DATA\\RAW\\ERA5\\SST_LEF_VAL\n",
      "Dossier de sortie : ..\\ASSETS\\DATA\\RAW\\ERA5\\SST_LEF_FLDMEAN\n",
      "Dossier d'entrée : ..\\ASSETS\\DATA\\RAW\\ERA5\\SST_LEF_VAL\n",
      "Dossier de sortie : ..\\ASSETS\\DATA\\RAW\\ERA5\\SST_LEF_FLDMEAN\n"
     ]
    },
    {
     "name": "stdout",
     "output_type": "stream",
     "text": [
      "Calcul de la moyenne spatiale (fldmean) terminé.\n",
      "Calcul de la moyenne spatiale (fldmean) terminé.\n"
     ]
    }
   ],
   "source": [
    "# Dossier d'entrée contenant les fichiers SST\n",
    "input_directory = Config.SST_LEF_VAL\n",
    "\n",
    "# Dossier de sortie pour les fichiers résultants\n",
    "output_directory = Config.SST_LEF_SP_MN_PATH\n",
    "\n",
    "# Vérifier les chemins des dossiers\n",
    "print(f\"Dossier d'entrée : {input_directory}\")\n",
    "print(f\"Dossier de sortie : {output_directory}\")\n",
    "\n",
    "# Si le dossier de sortie existe, supprimez-le\n",
    "if os.path.exists(output_directory):\n",
    "    shutil.rmtree(output_directory)\n",
    "\n",
    "# Recréez le dossier de sortie\n",
    "os.makedirs(output_directory)\n",
    "\n",
    "# Boucle sur les fichiers dans le dossier d'entrée\n",
    "for filename in os.listdir(input_directory):\n",
    "    if filename.endswith('.nc'):\n",
    "        # Chemin complet vers le fichier d'entrée\n",
    "        input_file = os.path.join(input_directory, filename)\n",
    "        \n",
    "        # Déterminez le nom du fichier de sortie en ajoutant \"_fldmean\" au nom d'origine\n",
    "        output_filename = os.path.splitext(filename)[0] + '_fldmean.nc'\n",
    "        output_file = os.path.join(output_directory, output_filename)\n",
    "        \n",
    "        # Ouvrir le fichier NetCDF avec xarray\n",
    "        ds = xr.open_dataset(input_file)\n",
    "        \n",
    "        # Calculer la moyenne spatiale\n",
    "        ds_mean = ds.mean(dim=['latitude', 'longitude'])\n",
    "        \n",
    "        # Sauvegarder le résultat dans un nouveau fichier NetCDF\n",
    "        ds_mean.to_netcdf(output_file)\n",
    "        \n",
    "        #print(f\"Fichier généré : {output_file}\")\n",
    "\n",
    "print(\"Calcul de la moyenne spatiale (fldmean) terminé.\")\n"
   ]
  },
  {
   "cell_type": "markdown",
   "metadata": {},
   "source": [
    "##### Concatenation des fichiers après moyenne spatiale"
   ]
  },
  {
   "cell_type": "code",
   "execution_count": 71,
   "metadata": {},
   "outputs": [
    {
     "name": "stdout",
     "output_type": "stream",
     "text": [
      "Le fichier combiné a été enregistré à ..\\ASSETS\\DATA\\RAW\\ERA5\\sst_leg_merged.nc\n",
      "Le fichier combiné a été enregistré à ..\\ASSETS\\DATA\\RAW\\ERA5\\sst_leg_merged.nc\n"
     ]
    }
   ],
   "source": [
    "dir_out_era5 = Config.ERA5_PATH\n",
    "output_merged_file = os.path.join(dir_out_era5, Config.SST_LEF_MERGE)\n",
    "to_concat_directory = Config.SST_LEF_SP_MN_PATH\n",
    "\n",
    "# Liste de fichiers de sortie à concaténer\n",
    "output_files_to_concatenate = [os.path.join(to_concat_directory, filename) for filename in os.listdir(to_concat_directory) if filename.endswith('_fldmean.nc')]\n",
    "\n",
    "datasets = [xr.open_dataset(f) for f in output_files_to_concatenate]\n",
    "\n",
    "# Concaténez les datasets le long de la dimension temporelle\n",
    "combined = xr.concat(datasets, dim='time')\n",
    "\n",
    "# Construisez le chemin complet pour le fichier de sortie\n",
    "output_merged_file= os.path.join(dir_out_era5, Config.SST_LEF_MERGE)\n",
    "\n",
    "# Enregistrez le dataset combiné dans un fichier\n",
    "combined.to_netcdf(output_merged_file)\n",
    "\n",
    "print(f\"Le fichier combiné a été enregistré à {output_merged_file}\")\n"
   ]
  },
  {
   "cell_type": "markdown",
   "metadata": {},
   "source": [
    "##### Transformation du fichier netcdf en dataframe"
   ]
  },
  {
   "cell_type": "code",
   "execution_count": 72,
   "metadata": {},
   "outputs": [],
   "source": [
    "# Ouvrir le fichier NetCDF\n",
    "data = netCDF4.Dataset(output_merged_file)\n",
    "# Extraire les variables time et sst\n",
    "time_values = data.variables['time'][:]\n",
    "sst_values = data.variables['sst'][:]\n",
    "\n",
    "# Redimensionner les tableaux pour les rendre 1D\n",
    "time_values = time_values.flatten()\n",
    "sst_values = sst_values.flatten()\n",
    "# Extraire les attributs de la variable \"time\"\n",
    "time_var = data.variables['time']\n",
    "units = time_var.units  # Obtenez l'unité de temps\n",
    "# Fermer le fichier NetCDF\n",
    "data.close()\n",
    "\n",
    "# Convertir les valeurs de \"time\" en dates en utilisant cftime\n",
    "dates = cftime.num2date(time_values, units, calendar='standard')\n",
    "\n",
    "# Créer un DataFrame Pandas avec les dates converties\n",
    "df_merged_sst_lef = pd.DataFrame({'date': dates, 'sst': sst_values})"
   ]
  },
  {
   "cell_type": "code",
   "execution_count": 73,
   "metadata": {},
   "outputs": [],
   "source": [
    "# Utilisez apply pour convertir chaque valeur en datetime\n",
    "df_merged_sst_lef['date'] = df_merged_sst_lef['date'].apply(lambda x: x.strftime('%Y-%m-%d %H:%M:%S') if isinstance(x, cftime._cftime.DatetimeGregorian) else x)\n",
    "df_merged_sst_lef['date'] = pd.to_datetime(df_merged_sst_lef['date'])"
   ]
  },
  {
   "cell_type": "code",
   "execution_count": 74,
   "metadata": {},
   "outputs": [],
   "source": [
    "df_merged_sst_lef['Year'] = df_merged_sst_lef['date'].dt.year\n",
    "# Créez la colonne 'Mois' en extrayant le mois\n",
    "df_merged_sst_lef['Month'] = df_merged_sst_lef['date'].dt.month\n",
    "# Créez la colonne 'Jour' en extrayant le jour\n",
    "df_merged_sst_lef['Day'] = df_merged_sst_lef['date'].dt.day\n",
    "df_merged_sst_lef['Decade']=pd.cut(df_merged_sst_lef['Day'],bins=[0,10,20,32], labels=[1,2,3])"
   ]
  },
  {
   "cell_type": "markdown",
   "metadata": {},
   "source": [
    "#### VII.1 - CALCUL DECADAIRE"
   ]
  },
  {
   "cell_type": "code",
   "execution_count": 75,
   "metadata": {},
   "outputs": [
    {
     "data": {
      "text/html": [
       "<div>\n",
       "<style scoped>\n",
       "    .dataframe tbody tr th:only-of-type {\n",
       "        vertical-align: middle;\n",
       "    }\n",
       "\n",
       "    .dataframe tbody tr th {\n",
       "        vertical-align: top;\n",
       "    }\n",
       "\n",
       "    .dataframe thead th {\n",
       "        text-align: right;\n",
       "    }\n",
       "</style>\n",
       "<table border=\"1\" class=\"dataframe\">\n",
       "  <thead>\n",
       "    <tr style=\"text-align: right;\">\n",
       "      <th></th>\n",
       "      <th>date</th>\n",
       "      <th>sst</th>\n",
       "      <th>Year</th>\n",
       "      <th>Month</th>\n",
       "      <th>Day</th>\n",
       "      <th>Decade</th>\n",
       "      <th>Moy_lef_Dec</th>\n",
       "    </tr>\n",
       "  </thead>\n",
       "  <tbody>\n",
       "    <tr>\n",
       "      <th>0</th>\n",
       "      <td>1961-01-01</td>\n",
       "      <td>300.468854</td>\n",
       "      <td>1961</td>\n",
       "      <td>1</td>\n",
       "      <td>1</td>\n",
       "      <td>1</td>\n",
       "      <td>300.383950</td>\n",
       "    </tr>\n",
       "    <tr>\n",
       "      <th>80</th>\n",
       "      <td>1961-01-11</td>\n",
       "      <td>300.123720</td>\n",
       "      <td>1961</td>\n",
       "      <td>1</td>\n",
       "      <td>11</td>\n",
       "      <td>2</td>\n",
       "      <td>300.250248</td>\n",
       "    </tr>\n",
       "    <tr>\n",
       "      <th>160</th>\n",
       "      <td>1961-01-21</td>\n",
       "      <td>300.506214</td>\n",
       "      <td>1961</td>\n",
       "      <td>1</td>\n",
       "      <td>21</td>\n",
       "      <td>3</td>\n",
       "      <td>300.686872</td>\n",
       "    </tr>\n",
       "    <tr>\n",
       "      <th>248</th>\n",
       "      <td>1961-02-01</td>\n",
       "      <td>300.968978</td>\n",
       "      <td>1961</td>\n",
       "      <td>2</td>\n",
       "      <td>1</td>\n",
       "      <td>1</td>\n",
       "      <td>300.884871</td>\n",
       "    </tr>\n",
       "    <tr>\n",
       "      <th>328</th>\n",
       "      <td>1961-02-11</td>\n",
       "      <td>300.888531</td>\n",
       "      <td>1961</td>\n",
       "      <td>2</td>\n",
       "      <td>11</td>\n",
       "      <td>2</td>\n",
       "      <td>301.116671</td>\n",
       "    </tr>\n",
       "  </tbody>\n",
       "</table>\n",
       "</div>"
      ],
      "text/plain": [
       "          date         sst  Year  Month  Day Decade  Moy_lef_Dec\n",
       "0   1961-01-01  300.468854  1961      1    1      1   300.383950\n",
       "80  1961-01-11  300.123720  1961      1   11      2   300.250248\n",
       "160 1961-01-21  300.506214  1961      1   21      3   300.686872\n",
       "248 1961-02-01  300.968978  1961      2    1      1   300.884871\n",
       "328 1961-02-11  300.888531  1961      2   11      2   301.116671"
      ]
     },
     "execution_count": null,
     "metadata": {},
     "output_type": "execute_result"
    }
   ],
   "source": [
    "df_sst_lef_dek=df_merged_sst_lef.copy()\n",
    "# Utilisez la méthode groupby pour regrouper les données par 'Annee', 'Mois' et 'Decade' et calculez la moyenne de 'sst' pour chaque groupe\n",
    "df_sst_lef_dek['Moy_lef_Dec'] = df_sst_lef_dek.groupby(['Year', 'Month', 'Decade'])['sst'].transform('mean')\n",
    "# Si vous souhaitez supprimer les lignes en double après avoir ajouté la colonne 'Moy_Dec', vous pouvez le faire en utilisant la méthode drop_duplicates\n",
    "df_sst_lef_dek.drop_duplicates(subset=['Year', 'Month', 'Decade', 'Moy_lef_Dec'], inplace=True)\n",
    "# Affichez le DataFrame résultant\n",
    "df_sst_lef_dek.head()"
   ]
  },
  {
   "cell_type": "markdown",
   "metadata": {},
   "source": [
    "##### Calcul anomalies"
   ]
  },
  {
   "cell_type": "code",
   "execution_count": 76,
   "metadata": {},
   "outputs": [
    {
     "name": "stdout",
     "output_type": "stream",
     "text": [
      "Moyenne pour la période 1961-1990 : 300.01800673876244\n",
      "Moyenne pour la période 1961-1990 : 300.01800673876244\n"
     ]
    }
   ],
   "source": [
    "# Filtrer le DataFrame pour les années 1961-1990\n",
    "ref_start=1961\n",
    "ref_end=1991\n",
    "normal_period = df_sst_lef_dek[(df_sst_lef_dek['Year'] >= ref_start) & (df_sst_lef_dek['Year'] <= ref_end)]\n",
    "# Calculer la moyenne de la colonne 'sst' pour cette période\n",
    "sst_mean = normal_period['sst'].mean()\n",
    "# Afficher la moyenne\n",
    "print(\"Moyenne pour la période 1961-1990 :\", sst_mean)\n",
    "df_sst_lef_dek['anom_lef_dek']=df_sst_lef_dek['Moy_lef_Dec']-sst_mean\n",
    "df_sst_lef_dek=df_sst_lef_dek[['Year','Month','Decade','anom_lef_dek']]\n",
    "df_mer_dek.append(df_sst_lef_dek)"
   ]
  },
  {
   "cell_type": "code",
   "execution_count": 77,
   "metadata": {},
   "outputs": [
    {
     "data": {
      "text/html": [
       "<div>\n",
       "<style scoped>\n",
       "    .dataframe tbody tr th:only-of-type {\n",
       "        vertical-align: middle;\n",
       "    }\n",
       "\n",
       "    .dataframe tbody tr th {\n",
       "        vertical-align: top;\n",
       "    }\n",
       "\n",
       "    .dataframe thead th {\n",
       "        text-align: right;\n",
       "    }\n",
       "</style>\n",
       "<table border=\"1\" class=\"dataframe\">\n",
       "  <thead>\n",
       "    <tr style=\"text-align: right;\">\n",
       "      <th></th>\n",
       "      <th>Year</th>\n",
       "      <th>Month</th>\n",
       "      <th>Decade</th>\n",
       "      <th>anom_lef_dek</th>\n",
       "    </tr>\n",
       "  </thead>\n",
       "  <tbody>\n",
       "    <tr>\n",
       "      <th>0</th>\n",
       "      <td>1961</td>\n",
       "      <td>1</td>\n",
       "      <td>1</td>\n",
       "      <td>0.365944</td>\n",
       "    </tr>\n",
       "    <tr>\n",
       "      <th>80</th>\n",
       "      <td>1961</td>\n",
       "      <td>1</td>\n",
       "      <td>2</td>\n",
       "      <td>0.232241</td>\n",
       "    </tr>\n",
       "    <tr>\n",
       "      <th>160</th>\n",
       "      <td>1961</td>\n",
       "      <td>1</td>\n",
       "      <td>3</td>\n",
       "      <td>0.668866</td>\n",
       "    </tr>\n",
       "    <tr>\n",
       "      <th>248</th>\n",
       "      <td>1961</td>\n",
       "      <td>2</td>\n",
       "      <td>1</td>\n",
       "      <td>0.866864</td>\n",
       "    </tr>\n",
       "    <tr>\n",
       "      <th>328</th>\n",
       "      <td>1961</td>\n",
       "      <td>2</td>\n",
       "      <td>2</td>\n",
       "      <td>1.098664</td>\n",
       "    </tr>\n",
       "  </tbody>\n",
       "</table>\n",
       "</div>"
      ],
      "text/plain": [
       "     Year  Month Decade  anom_lef_dek\n",
       "0    1961      1      1      0.365944\n",
       "80   1961      1      2      0.232241\n",
       "160  1961      1      3      0.668866\n",
       "248  1961      2      1      0.866864\n",
       "328  1961      2      2      1.098664"
      ]
     },
     "execution_count": null,
     "metadata": {},
     "output_type": "execute_result"
    }
   ],
   "source": [
    "df_sst_lef_dek.head()"
   ]
  },
  {
   "cell_type": "markdown",
   "metadata": {},
   "source": [
    "#### I.2 - CALCUL MENSUEL"
   ]
  },
  {
   "cell_type": "code",
   "execution_count": 78,
   "metadata": {},
   "outputs": [
    {
     "data": {
      "text/html": [
       "<div>\n",
       "<style scoped>\n",
       "    .dataframe tbody tr th:only-of-type {\n",
       "        vertical-align: middle;\n",
       "    }\n",
       "\n",
       "    .dataframe tbody tr th {\n",
       "        vertical-align: top;\n",
       "    }\n",
       "\n",
       "    .dataframe thead th {\n",
       "        text-align: right;\n",
       "    }\n",
       "</style>\n",
       "<table border=\"1\" class=\"dataframe\">\n",
       "  <thead>\n",
       "    <tr style=\"text-align: right;\">\n",
       "      <th></th>\n",
       "      <th>date</th>\n",
       "      <th>sst</th>\n",
       "      <th>Year</th>\n",
       "      <th>Month</th>\n",
       "      <th>Day</th>\n",
       "      <th>Decade</th>\n",
       "      <th>Moy_lef_Mois</th>\n",
       "    </tr>\n",
       "  </thead>\n",
       "  <tbody>\n",
       "    <tr>\n",
       "      <th>0</th>\n",
       "      <td>1961-01-01</td>\n",
       "      <td>300.468854</td>\n",
       "      <td>1961</td>\n",
       "      <td>1</td>\n",
       "      <td>1</td>\n",
       "      <td>1</td>\n",
       "      <td>300.448309</td>\n",
       "    </tr>\n",
       "    <tr>\n",
       "      <th>248</th>\n",
       "      <td>1961-02-01</td>\n",
       "      <td>300.968978</td>\n",
       "      <td>1961</td>\n",
       "      <td>2</td>\n",
       "      <td>1</td>\n",
       "      <td>1</td>\n",
       "      <td>301.100340</td>\n",
       "    </tr>\n",
       "    <tr>\n",
       "      <th>472</th>\n",
       "      <td>1961-03-01</td>\n",
       "      <td>301.283281</td>\n",
       "      <td>1961</td>\n",
       "      <td>3</td>\n",
       "      <td>1</td>\n",
       "      <td>1</td>\n",
       "      <td>301.556624</td>\n",
       "    </tr>\n",
       "    <tr>\n",
       "      <th>720</th>\n",
       "      <td>1961-04-01</td>\n",
       "      <td>301.666668</td>\n",
       "      <td>1961</td>\n",
       "      <td>4</td>\n",
       "      <td>1</td>\n",
       "      <td>1</td>\n",
       "      <td>301.702403</td>\n",
       "    </tr>\n",
       "    <tr>\n",
       "      <th>960</th>\n",
       "      <td>1961-05-01</td>\n",
       "      <td>301.620156</td>\n",
       "      <td>1961</td>\n",
       "      <td>5</td>\n",
       "      <td>1</td>\n",
       "      <td>1</td>\n",
       "      <td>301.258271</td>\n",
       "    </tr>\n",
       "  </tbody>\n",
       "</table>\n",
       "</div>"
      ],
      "text/plain": [
       "          date         sst  Year  Month  Day Decade  Moy_lef_Mois\n",
       "0   1961-01-01  300.468854  1961      1    1      1    300.448309\n",
       "248 1961-02-01  300.968978  1961      2    1      1    301.100340\n",
       "472 1961-03-01  301.283281  1961      3    1      1    301.556624\n",
       "720 1961-04-01  301.666668  1961      4    1      1    301.702403\n",
       "960 1961-05-01  301.620156  1961      5    1      1    301.258271"
      ]
     },
     "execution_count": null,
     "metadata": {},
     "output_type": "execute_result"
    }
   ],
   "source": [
    "df_sst_lef_mois=df_merged_sst_lef.copy()\n",
    "# Utilisez la méthode groupby pour regrouper les données par 'Annee', 'Mois' et 'Decade' et calculez la moyenne de 'sst' pour chaque groupe\n",
    "df_sst_lef_mois['Moy_lef_Mois'] = df_sst_lef_mois.groupby(['Year', 'Month'])['sst'].transform('mean')\n",
    "# Si vous souhaitez supprimer les lignes en double après avoir ajouté la colonne 'Moy_Dec', vous pouvez le faire en utilisant la méthode drop_duplicates\n",
    "df_sst_lef_mois.drop_duplicates(subset=['Year', 'Month', 'Moy_lef_Mois'], inplace=True)\n",
    "# Affichez le DataFrame résultant\n",
    "df_sst_lef_mois.head()"
   ]
  },
  {
   "cell_type": "markdown",
   "metadata": {},
   "source": [
    "##### Calcul anomalies mensuelles"
   ]
  },
  {
   "cell_type": "code",
   "execution_count": 79,
   "metadata": {},
   "outputs": [
    {
     "name": "stdout",
     "output_type": "stream",
     "text": [
      "Moyenne pour la période 1961-1990 : 300.01581629732374\n",
      "Moyenne pour la période 1961-1990 : 300.01581629732374\n"
     ]
    }
   ],
   "source": [
    "# Filtrer le DataFrame pour les années 1961-1990\n",
    "ref_start=1961\n",
    "ref_end=1991\n",
    "normal_period = df_sst_lef_mois[(df_sst_lef_mois['Year'] >= ref_start) & (df_sst_lef_mois['Year'] <= ref_end)]\n",
    "# Calculer la moyenne de la colonne 'sst' pour cette période\n",
    "sst_mean = normal_period['sst'].mean()\n",
    "# Afficher la moyenne\n",
    "print(\"Moyenne pour la période 1961-1990 :\", sst_mean)\n",
    "df_sst_lef_mois['anom_lef_mois']=df_sst_lef_mois['Moy_lef_Mois']-sst_mean\n",
    "df_sst_lef_mois=df_sst_lef_mois[['Year','Month','anom_lef_mois']]\n",
    "\n",
    "df_mer_mon.append(df_sst_lef_mois)"
   ]
  },
  {
   "cell_type": "code",
   "execution_count": 80,
   "metadata": {},
   "outputs": [
    {
     "data": {
      "text/html": [
       "<div>\n",
       "<style scoped>\n",
       "    .dataframe tbody tr th:only-of-type {\n",
       "        vertical-align: middle;\n",
       "    }\n",
       "\n",
       "    .dataframe tbody tr th {\n",
       "        vertical-align: top;\n",
       "    }\n",
       "\n",
       "    .dataframe thead th {\n",
       "        text-align: right;\n",
       "    }\n",
       "</style>\n",
       "<table border=\"1\" class=\"dataframe\">\n",
       "  <thead>\n",
       "    <tr style=\"text-align: right;\">\n",
       "      <th></th>\n",
       "      <th>Year</th>\n",
       "      <th>Month</th>\n",
       "      <th>anom_lef_mois</th>\n",
       "    </tr>\n",
       "  </thead>\n",
       "  <tbody>\n",
       "    <tr>\n",
       "      <th>0</th>\n",
       "      <td>1961</td>\n",
       "      <td>1</td>\n",
       "      <td>0.432493</td>\n",
       "    </tr>\n",
       "    <tr>\n",
       "      <th>248</th>\n",
       "      <td>1961</td>\n",
       "      <td>2</td>\n",
       "      <td>1.084524</td>\n",
       "    </tr>\n",
       "    <tr>\n",
       "      <th>472</th>\n",
       "      <td>1961</td>\n",
       "      <td>3</td>\n",
       "      <td>1.540807</td>\n",
       "    </tr>\n",
       "    <tr>\n",
       "      <th>720</th>\n",
       "      <td>1961</td>\n",
       "      <td>4</td>\n",
       "      <td>1.686587</td>\n",
       "    </tr>\n",
       "    <tr>\n",
       "      <th>960</th>\n",
       "      <td>1961</td>\n",
       "      <td>5</td>\n",
       "      <td>1.242455</td>\n",
       "    </tr>\n",
       "  </tbody>\n",
       "</table>\n",
       "</div>"
      ],
      "text/plain": [
       "     Year  Month  anom_lef_mois\n",
       "0    1961      1       0.432493\n",
       "248  1961      2       1.084524\n",
       "472  1961      3       1.540807\n",
       "720  1961      4       1.686587\n",
       "960  1961      5       1.242455"
      ]
     },
     "execution_count": null,
     "metadata": {},
     "output_type": "execute_result"
    }
   ],
   "source": [
    "df_sst_lef_mois.head()"
   ]
  },
  {
   "cell_type": "markdown",
   "metadata": {},
   "source": [
    "### VIII- PROCESSING NINO 3.4 DATA"
   ]
  },
  {
   "cell_type": "markdown",
   "metadata": {},
   "source": [
    "##### Changement des données manquantes du fichiers decadaires netcdf"
   ]
  },
  {
   "cell_type": "code",
   "execution_count": 81,
   "metadata": {},
   "outputs": [],
   "source": [
    "# Variables de configuration\n",
    "folder_original = Config.SST_NINO_DEK\n",
    "# Repertoire sortie des données avec missing values corrigées\n",
    "folder_miss_check=Config.SST_NINO_VAL\n",
    "change_missing_val(folder_original,folder_miss_check)"
   ]
  },
  {
   "cell_type": "markdown",
   "metadata": {},
   "source": [
    "##### Calcul de la moyenne spatiale"
   ]
  },
  {
   "cell_type": "code",
   "execution_count": 82,
   "metadata": {},
   "outputs": [
    {
     "name": "stdout",
     "output_type": "stream",
     "text": [
      "Dossier d'entrée : ..\\ASSETS\\DATA\\RAW\\ERA5\\SST_NINO_VAL\n",
      "Dossier de sortie : ..\\ASSETS\\DATA\\RAW\\ERA5\\SST_NINO_FLDMEAN\n",
      "Dossier d'entrée : ..\\ASSETS\\DATA\\RAW\\ERA5\\SST_NINO_VAL\n",
      "Dossier de sortie : ..\\ASSETS\\DATA\\RAW\\ERA5\\SST_NINO_FLDMEAN\n"
     ]
    },
    {
     "name": "stdout",
     "output_type": "stream",
     "text": [
      "Calcul de la moyenne spatiale (fldmean) terminé.\n",
      "Calcul de la moyenne spatiale (fldmean) terminé.\n"
     ]
    }
   ],
   "source": [
    "# Dossier d'entrée contenant les fichiers SST\n",
    "input_directory = Config.SST_NINO_VAL\n",
    "\n",
    "# Dossier de sortie pour les fichiers résultants\n",
    "output_directory = Config.SST_NINO_SP_MN_PATH\n",
    "\n",
    "# Vérifier les chemins des dossiers\n",
    "print(f\"Dossier d'entrée : {input_directory}\")\n",
    "print(f\"Dossier de sortie : {output_directory}\")\n",
    "\n",
    "# Si le dossier de sortie existe, supprimez-le\n",
    "if os.path.exists(output_directory):\n",
    "    shutil.rmtree(output_directory)\n",
    "\n",
    "# Recréez le dossier de sortie\n",
    "os.makedirs(output_directory)\n",
    "\n",
    "# Boucle sur les fichiers dans le dossier d'entrée\n",
    "for filename in os.listdir(input_directory):\n",
    "    if filename.endswith('.nc'):\n",
    "        # Chemin complet vers le fichier d'entrée\n",
    "        input_file = os.path.join(input_directory, filename)\n",
    "        \n",
    "        # Déterminez le nom du fichier de sortie en ajoutant \"_fldmean\" au nom d'origine\n",
    "        output_filename = os.path.splitext(filename)[0] + '_fldmean.nc'\n",
    "        output_file = os.path.join(output_directory, output_filename)\n",
    "        \n",
    "        # Ouvrir le fichier NetCDF avec xarray\n",
    "        ds = xr.open_dataset(input_file)\n",
    "        \n",
    "        # Calculer la moyenne spatiale\n",
    "        ds_mean = ds.mean(dim=['latitude', 'longitude'])\n",
    "        \n",
    "        # Sauvegarder le résultat dans un nouveau fichier NetCDF\n",
    "        ds_mean.to_netcdf(output_file)\n",
    "        \n",
    "        #print(f\"Fichier généré : {output_file}\")\n",
    "\n",
    "print(\"Calcul de la moyenne spatiale (fldmean) terminé.\")\n"
   ]
  },
  {
   "cell_type": "markdown",
   "metadata": {},
   "source": [
    "##### Concatenation des fichiers après moyenne spatiale"
   ]
  },
  {
   "cell_type": "code",
   "execution_count": 83,
   "metadata": {},
   "outputs": [
    {
     "name": "stdout",
     "output_type": "stream",
     "text": [
      "Le fichier combiné a été enregistré à ..\\ASSETS\\DATA\\RAW\\ERA5\\sst_nino_merged.nc\n",
      "Le fichier combiné a été enregistré à ..\\ASSETS\\DATA\\RAW\\ERA5\\sst_nino_merged.nc\n"
     ]
    }
   ],
   "source": [
    "dir_out_era5 = Config.ERA5_PATH\n",
    "output_merged_file = os.path.join(dir_out_era5, Config.SST_NINO_MERGE)\n",
    "to_concat_directory = Config.SST_NINO_SP_MN_PATH\n",
    "\n",
    "# Liste de fichiers de sortie à concaténer\n",
    "output_files_to_concatenate = [os.path.join(to_concat_directory, filename) for filename in os.listdir(to_concat_directory) if filename.endswith('_fldmean.nc')]\n",
    "\n",
    "datasets = [xr.open_dataset(f) for f in output_files_to_concatenate]\n",
    "\n",
    "# Concaténez les datasets le long de la dimension temporelle\n",
    "combined = xr.concat(datasets, dim='time')\n",
    "\n",
    "# Construisez le chemin complet pour le fichier de sortie\n",
    "output_merged_file= os.path.join(dir_out_era5, Config.SST_NINO_MERGE)\n",
    "\n",
    "# Enregistrez le dataset combiné dans un fichier\n",
    "combined.to_netcdf(output_merged_file)\n",
    "\n",
    "print(f\"Le fichier combiné a été enregistré à {output_merged_file}\")\n"
   ]
  },
  {
   "cell_type": "markdown",
   "metadata": {},
   "source": [
    "##### Transformation du fichier netcdf en dataframe"
   ]
  },
  {
   "cell_type": "code",
   "execution_count": 84,
   "metadata": {},
   "outputs": [],
   "source": [
    "# Ouvrir le fichier NetCDF\n",
    "data = netCDF4.Dataset(output_merged_file)\n",
    "# Extraire les variables time et sst\n",
    "time_values = data.variables['time'][:]\n",
    "sst_values = data.variables['sst'][:]\n",
    "\n",
    "# Redimensionner les tableaux pour les rendre 1D\n",
    "time_values = time_values.flatten()\n",
    "sst_values = sst_values.flatten()\n",
    "# Extraire les attributs de la variable \"time\"\n",
    "time_var = data.variables['time']\n",
    "units = time_var.units  # Obtenez l'unité de temps\n",
    "# Fermer le fichier NetCDF\n",
    "data.close()\n",
    "\n",
    "# Convertir les valeurs de \"time\" en dates en utilisant cftime\n",
    "dates = cftime.num2date(time_values, units, calendar='standard')\n",
    "\n",
    "# Créer un DataFrame Pandas avec les dates converties\n",
    "df_merged_sst_nino = pd.DataFrame({'date': dates, 'sst': sst_values})"
   ]
  },
  {
   "cell_type": "code",
   "execution_count": 85,
   "metadata": {},
   "outputs": [],
   "source": [
    "# Utilisez apply pour convertir chaque valeur en datetime\n",
    "df_merged_sst_nino['date'] = df_merged_sst_nino['date'].apply(lambda x: x.strftime('%Y-%m-%d %H:%M:%S') if isinstance(x, cftime._cftime.DatetimeGregorian) else x)\n",
    "df_merged_sst_nino['date'] = pd.to_datetime(df_merged_sst_nino['date'])"
   ]
  },
  {
   "cell_type": "code",
   "execution_count": 86,
   "metadata": {},
   "outputs": [],
   "source": [
    "df_merged_sst_nino['Year'] = df_merged_sst_nino['date'].dt.year\n",
    "# Créez la colonne 'Mois' en extrayant le mois\n",
    "df_merged_sst_nino['Month'] = df_merged_sst_nino['date'].dt.month\n",
    "# Créez la colonne 'Jour' en extrayant le jour\n",
    "df_merged_sst_nino['Day'] = df_merged_sst_nino['date'].dt.day\n",
    "df_merged_sst_nino['Decade']=pd.cut(df_merged_sst_nino['Day'],bins=[0,10,20,32], labels=[1,2,3])"
   ]
  },
  {
   "cell_type": "markdown",
   "metadata": {},
   "source": [
    "#### VIII.1 - CALCUL DECADAIRE"
   ]
  },
  {
   "cell_type": "code",
   "execution_count": 87,
   "metadata": {},
   "outputs": [],
   "source": [
    "df_sst_nino_dek=df_merged_sst_nino.copy()\n",
    "# Utilisez la méthode groupby pour regrouper les données par 'Annee', 'Mois' et 'Decade' et calculez la moyenne de 'sst' pour chaque groupe\n",
    "df_sst_nino_dek['Moy_nino_Dec'] = df_sst_nino_dek.groupby(['Year', 'Month','Decade'])['sst'].transform('mean')\n",
    "# Si vous souhaitez supprimer les lignes en double après avoir ajouté la colonne 'Moy_Dec', vous pouvez le faire en utilisant la méthode drop_duplicates\n",
    "df_sst_nino_dek.drop_duplicates(subset=['Year', 'Month','Decade','Moy_nino_Dec'], inplace=True, keep='last')\n",
    "# Affichez le DataFrame résultant\n",
    "#df_sst_nino_dek.head()"
   ]
  },
  {
   "cell_type": "markdown",
   "metadata": {},
   "source": [
    "##### Calcul anomalies decadaires"
   ]
  },
  {
   "cell_type": "code",
   "execution_count": 88,
   "metadata": {},
   "outputs": [
    {
     "name": "stdout",
     "output_type": "stream",
     "text": [
      "Moyenne pour la période 1961-1990 : 300.75231720814514\n",
      "Moyenne pour la période 1961-1990 : 300.75231720814514\n"
     ]
    }
   ],
   "source": [
    "# Filtrer le DataFrame pour les années 1961-1990\n",
    "ref_start=1961\n",
    "ref_end=1991\n",
    "normal_period = df_sst_nino_dek[(df_sst_nino_dek['Year'] >= ref_start) & (df_sst_nino_dek['Year'] <= ref_end)]\n",
    "# Calculer la moyenne de la colonne 'sst' pour cette période\n",
    "sst_mean = normal_period['sst'].mean()\n",
    "# Afficher la moyenne\n",
    "print(\"Moyenne pour la période 1961-1990 :\", sst_mean)\n",
    "df_sst_nino_dek['anom_nino_dek']=df_sst_nino_dek['Moy_nino_Dec']-sst_mean\n",
    "df_sst_nino_dek=df_sst_nino_dek[['Year','Month','Decade','anom_nino_dek']]\n",
    "df_mer_dek.append(df_sst_nino_dek)"
   ]
  },
  {
   "cell_type": "markdown",
   "metadata": {},
   "source": [
    "#### VIII.2 - CALCUL MENSUEL"
   ]
  },
  {
   "cell_type": "code",
   "execution_count": 89,
   "metadata": {},
   "outputs": [
    {
     "data": {
      "text/html": [
       "<div>\n",
       "<style scoped>\n",
       "    .dataframe tbody tr th:only-of-type {\n",
       "        vertical-align: middle;\n",
       "    }\n",
       "\n",
       "    .dataframe tbody tr th {\n",
       "        vertical-align: top;\n",
       "    }\n",
       "\n",
       "    .dataframe thead th {\n",
       "        text-align: right;\n",
       "    }\n",
       "</style>\n",
       "<table border=\"1\" class=\"dataframe\">\n",
       "  <thead>\n",
       "    <tr style=\"text-align: right;\">\n",
       "      <th></th>\n",
       "      <th>date</th>\n",
       "      <th>sst</th>\n",
       "      <th>Year</th>\n",
       "      <th>Month</th>\n",
       "      <th>Day</th>\n",
       "      <th>Decade</th>\n",
       "      <th>Moy_nino_Mois</th>\n",
       "    </tr>\n",
       "  </thead>\n",
       "  <tbody>\n",
       "    <tr>\n",
       "      <th>247</th>\n",
       "      <td>1961-01-31 21:00:00</td>\n",
       "      <td>301.076386</td>\n",
       "      <td>1961</td>\n",
       "      <td>1</td>\n",
       "      <td>31</td>\n",
       "      <td>3</td>\n",
       "      <td>300.850966</td>\n",
       "    </tr>\n",
       "    <tr>\n",
       "      <th>471</th>\n",
       "      <td>1961-02-28 21:00:00</td>\n",
       "      <td>301.244899</td>\n",
       "      <td>1961</td>\n",
       "      <td>2</td>\n",
       "      <td>28</td>\n",
       "      <td>3</td>\n",
       "      <td>301.184179</td>\n",
       "    </tr>\n",
       "    <tr>\n",
       "      <th>719</th>\n",
       "      <td>1961-03-31 21:00:00</td>\n",
       "      <td>301.603948</td>\n",
       "      <td>1961</td>\n",
       "      <td>3</td>\n",
       "      <td>31</td>\n",
       "      <td>3</td>\n",
       "      <td>301.383963</td>\n",
       "    </tr>\n",
       "    <tr>\n",
       "      <th>959</th>\n",
       "      <td>1961-04-30 21:00:00</td>\n",
       "      <td>301.676068</td>\n",
       "      <td>1961</td>\n",
       "      <td>4</td>\n",
       "      <td>30</td>\n",
       "      <td>3</td>\n",
       "      <td>301.779199</td>\n",
       "    </tr>\n",
       "    <tr>\n",
       "      <th>1207</th>\n",
       "      <td>1961-05-31 21:00:00</td>\n",
       "      <td>301.377111</td>\n",
       "      <td>1961</td>\n",
       "      <td>5</td>\n",
       "      <td>31</td>\n",
       "      <td>3</td>\n",
       "      <td>301.479861</td>\n",
       "    </tr>\n",
       "  </tbody>\n",
       "</table>\n",
       "</div>"
      ],
      "text/plain": [
       "                    date         sst  Year  Month  Day Decade  Moy_nino_Mois\n",
       "247  1961-01-31 21:00:00  301.076386  1961      1   31      3     300.850966\n",
       "471  1961-02-28 21:00:00  301.244899  1961      2   28      3     301.184179\n",
       "719  1961-03-31 21:00:00  301.603948  1961      3   31      3     301.383963\n",
       "959  1961-04-30 21:00:00  301.676068  1961      4   30      3     301.779199\n",
       "1207 1961-05-31 21:00:00  301.377111  1961      5   31      3     301.479861"
      ]
     },
     "execution_count": null,
     "metadata": {},
     "output_type": "execute_result"
    }
   ],
   "source": [
    "df_sst_nino_mois=df_merged_sst_nino.copy()\n",
    "# Utilisez la méthode groupby pour regrouper les données par 'Annee', 'Mois' et 'Decade' et calculez la moyenne de 'sst' pour chaque groupe\n",
    "df_sst_nino_mois['Moy_nino_Mois'] = df_sst_nino_mois.groupby(['Year', 'Month'])['sst'].transform('mean')\n",
    "# Si vous souhaitez supprimer les lignes en double après avoir ajouté la colonne 'Moy_Dec', vous pouvez le faire en utilisant la méthode drop_duplicates\n",
    "df_sst_nino_mois.drop_duplicates(subset=['Year', 'Month','Moy_nino_Mois'], inplace=True, keep='last')\n",
    "# Affichez le DataFrame résultant\n",
    "df_sst_nino_mois.head()"
   ]
  },
  {
   "cell_type": "code",
   "execution_count": 90,
   "metadata": {},
   "outputs": [
    {
     "name": "stdout",
     "output_type": "stream",
     "text": [
      "Moyenne pour la période 1961-1990 : 300.7504925560242\n",
      "Moyenne pour la période 1961-1990 : 300.7504925560242\n"
     ]
    }
   ],
   "source": [
    "# Filtrer le DataFrame pour les années 1961-1990\n",
    "ref_start=1961\n",
    "ref_end=1991\n",
    "normal_period = df_sst_nino_mois[(df_sst_nino_mois['Year'] >= ref_start) & (df_sst_nino_mois['Year'] <= ref_end)]\n",
    "# Calculer la moyenne de la colonne 'sst' pour cette période\n",
    "sst_mean = normal_period['sst'].mean()\n",
    "# Afficher la moyenne\n",
    "print(\"Moyenne pour la période 1961-1990 :\", sst_mean)\n",
    "df_sst_nino_mois['anom_nino_mois']=df_sst_nino_mois['Moy_nino_Mois']-sst_mean\n",
    "df_sst_nino_mois=df_sst_nino_mois[['Year','Month','anom_nino_mois']]\n",
    "df_mer_mon.append(df_sst_nino_mois)"
   ]
  },
  {
   "cell_type": "markdown",
   "metadata": {},
   "source": [
    "### IX- Récapitulation et sauvegarde des dataframes"
   ]
  },
  {
   "cell_type": "markdown",
   "metadata": {},
   "source": [
    "##### Fusion des dataframes des paramètres locaux (mesurés sur le Burkina)"
   ]
  },
  {
   "cell_type": "markdown",
   "metadata": {},
   "source": [
    "##### Decadaires"
   ]
  },
  {
   "cell_type": "code",
   "execution_count": 91,
   "metadata": {},
   "outputs": [
    {
     "name": "stdout",
     "output_type": "stream",
     "text": [
      "              Station  Year  Month Decade  v_wind_925  u_wind_850  u_wind_700  u_wind_200  eau_precipitable  t_point_rosee  h_vol_sol_wat\n",
      "0      Bobo_Dioulasso  1961      1      1   -5.685185   -4.901044   -6.507310   24.359285      5.872143e-09     274.505384       0.177588\n",
      "1      Bobo_Dioulasso  1961      1      2   -5.627637   -1.549461   -1.188504   28.219953      1.950160e-08     274.479259       0.178358\n",
      "2      Bobo_Dioulasso  1961      1      3   -7.595885   -0.394695    2.207007   32.303318     -7.126785e-07     273.833101       0.178193\n",
      "3      Bobo_Dioulasso  1961      2      1   -5.607470   -3.607335    3.229098   12.524779     -3.006926e-08     269.842157       0.172408\n",
      "4      Bobo_Dioulasso  1961      2      2   -5.117176   -3.535849    3.110321   19.788904     -4.638627e-08     269.390330       0.173361\n",
      "...               ...   ...    ...    ...         ...         ...         ...         ...               ...            ...            ...\n",
      "22675              Po  2023     11      2   -0.520774   -6.118764   -6.794710   13.294998      1.995109e-07     288.788924       0.125040\n",
      "22676              Po  2023     11      3    1.036428   -1.067482   -3.191192    3.461331      6.656191e-07     291.597863       0.120388\n",
      "22677              Po  2023     12      1   -2.256523   -5.201837   -4.503232    4.892241     -6.186982e-09     283.625472       0.122402\n",
      "22678              Po  2023     12      2   -5.118263   -3.965210    0.133786   16.447259     -1.006486e-07     278.778910       0.122092\n",
      "22679              Po  2023     12      3   -3.944526   -2.022182   -4.684278   20.191202      2.643045e-09     277.919467       0.123349\n",
      "\n",
      "[22680 rows x 11 columns]\n",
      "              Station  Year  Month Decade  v_wind_925  u_wind_850  u_wind_700  u_wind_200  eau_precipitable  t_point_rosee  h_vol_sol_wat\n",
      "0      Bobo_Dioulasso  1961      1      1   -5.685185   -4.901044   -6.507310   24.359285      5.872143e-09     274.505384       0.177588\n",
      "1      Bobo_Dioulasso  1961      1      2   -5.627637   -1.549461   -1.188504   28.219953      1.950160e-08     274.479259       0.178358\n",
      "2      Bobo_Dioulasso  1961      1      3   -7.595885   -0.394695    2.207007   32.303318     -7.126785e-07     273.833101       0.178193\n",
      "3      Bobo_Dioulasso  1961      2      1   -5.607470   -3.607335    3.229098   12.524779     -3.006926e-08     269.842157       0.172408\n",
      "4      Bobo_Dioulasso  1961      2      2   -5.117176   -3.535849    3.110321   19.788904     -4.638627e-08     269.390330       0.173361\n",
      "...               ...   ...    ...    ...         ...         ...         ...         ...               ...            ...            ...\n",
      "22675              Po  2023     11      2   -0.520774   -6.118764   -6.794710   13.294998      1.995109e-07     288.788924       0.125040\n",
      "22676              Po  2023     11      3    1.036428   -1.067482   -3.191192    3.461331      6.656191e-07     291.597863       0.120388\n",
      "22677              Po  2023     12      1   -2.256523   -5.201837   -4.503232    4.892241     -6.186982e-09     283.625472       0.122402\n",
      "22678              Po  2023     12      2   -5.118263   -3.965210    0.133786   16.447259     -1.006486e-07     278.778910       0.122092\n",
      "22679              Po  2023     12      3   -3.944526   -2.022182   -4.684278   20.191202      2.643045e-09     277.919467       0.123349\n",
      "\n",
      "[22680 rows x 11 columns]\n"
     ]
    }
   ],
   "source": [
    "# Fusion des dataframes de la liste df_terre_dek\n",
    "df_terre_merg_dek = reduce(lambda left, right: pd.merge(left, right, on=['Station', 'Year', 'Month', 'Decade']), df_terre_dek)\n",
    "\n",
    "# Afficher le dataframe fusionné\n",
    "print(df_terre_merg_dek)\n",
    "#df_terre_merg_dek.to_csv('./test_fusion.xlsx')"
   ]
  },
  {
   "cell_type": "markdown",
   "metadata": {},
   "source": [
    "##### Mensuelles"
   ]
  },
  {
   "cell_type": "code",
   "execution_count": 92,
   "metadata": {},
   "outputs": [
    {
     "name": "stdout",
     "output_type": "stream",
     "text": [
      "             Station  Year  Month  v_wind_925  u_wind_850  u_wind_700  u_wind_200  eau_precipitable  t_point_rosee  h_vol_sol_wat\n",
      "0     Bobo_Dioulasso  1961      1   -6.344612   -2.220861   -1.699389   28.423512     -2.447008e-07     274.258404       0.178051\n",
      "1     Bobo_Dioulasso  1961      2   -4.787571   -4.507234    0.534085   17.062947     -4.154257e-08     270.738747       0.173297\n",
      "2     Bobo_Dioulasso  1961      3   -2.121944   -3.204388   -0.900405   22.134290      1.196773e-07     275.947227       0.170007\n",
      "3     Bobo_Dioulasso  1961      4    4.142627   -1.348264   -4.686925   13.424217      1.468938e-08     291.274081       0.204349\n",
      "4     Bobo_Dioulasso  1961      5    3.927357   -0.323172   -8.638417    5.019922     -6.044959e-08     294.604530       0.262240\n",
      "...              ...   ...    ...         ...         ...         ...         ...               ...            ...            ...\n",
      "7555              Po  2023      8    2.812753    0.693429   -6.635411  -11.575755     -4.339784e-07     297.007865       0.378430\n",
      "7556              Po  2023      9    2.504891   -2.076714  -11.216813   -7.026378      3.548711e-07     297.335975       0.375144\n",
      "7557              Po  2023     10    2.327498   -4.663396  -10.574696    3.732810      1.275398e-07     296.495194       0.227509\n",
      "7558              Po  2023     11    0.983150   -3.242003   -4.986422    6.012696      4.417822e-07     291.622302       0.123016\n",
      "7559              Po  2023     12   -3.778634   -3.674660   -3.071662   14.048330     -3.352524e-08     280.037353       0.122638\n",
      "\n",
      "[7560 rows x 10 columns]\n",
      "             Station  Year  Month  v_wind_925  u_wind_850  u_wind_700  u_wind_200  eau_precipitable  t_point_rosee  h_vol_sol_wat\n",
      "0     Bobo_Dioulasso  1961      1   -6.344612   -2.220861   -1.699389   28.423512     -2.447008e-07     274.258404       0.178051\n",
      "1     Bobo_Dioulasso  1961      2   -4.787571   -4.507234    0.534085   17.062947     -4.154257e-08     270.738747       0.173297\n",
      "2     Bobo_Dioulasso  1961      3   -2.121944   -3.204388   -0.900405   22.134290      1.196773e-07     275.947227       0.170007\n",
      "3     Bobo_Dioulasso  1961      4    4.142627   -1.348264   -4.686925   13.424217      1.468938e-08     291.274081       0.204349\n",
      "4     Bobo_Dioulasso  1961      5    3.927357   -0.323172   -8.638417    5.019922     -6.044959e-08     294.604530       0.262240\n",
      "...              ...   ...    ...         ...         ...         ...         ...               ...            ...            ...\n",
      "7555              Po  2023      8    2.812753    0.693429   -6.635411  -11.575755     -4.339784e-07     297.007865       0.378430\n",
      "7556              Po  2023      9    2.504891   -2.076714  -11.216813   -7.026378      3.548711e-07     297.335975       0.375144\n",
      "7557              Po  2023     10    2.327498   -4.663396  -10.574696    3.732810      1.275398e-07     296.495194       0.227509\n",
      "7558              Po  2023     11    0.983150   -3.242003   -4.986422    6.012696      4.417822e-07     291.622302       0.123016\n",
      "7559              Po  2023     12   -3.778634   -3.674660   -3.071662   14.048330     -3.352524e-08     280.037353       0.122638\n",
      "\n",
      "[7560 rows x 10 columns]\n"
     ]
    }
   ],
   "source": [
    "# Fusion des dataframes de la liste df_terre_dek\n",
    "df_terre_merg_mon = reduce(lambda left, right: pd.merge(left, right, on=['Station', 'Year', 'Month']), df_terre_mon)\n",
    "\n",
    "# Afficher le dataframe fusionné\n",
    "print(df_terre_merg_mon)\n",
    "#df_terre_merg_mon.to_csv('./test_merg_terre_mon.xlsx')"
   ]
  },
  {
   "cell_type": "markdown",
   "metadata": {},
   "source": [
    "##### Fusion des dataframes des anomalies des températures de mers"
   ]
  },
  {
   "cell_type": "markdown",
   "metadata": {},
   "source": [
    "##### Decadaire"
   ]
  },
  {
   "cell_type": "code",
   "execution_count": 93,
   "metadata": {},
   "outputs": [
    {
     "name": "stdout",
     "output_type": "stream",
     "text": [
      "      Year  Month Decade  anom_lef_dek  anom_nino_dek\n",
      "0     1961      1      1      0.365944      -0.024139\n",
      "1     1961      1      2      0.232241       0.064786\n",
      "2     1961      1      3      0.668866       0.241058\n",
      "3     1961      2      1      0.866864       0.408497\n",
      "4     1961      2      2      1.098664       0.390542\n",
      "...    ...    ...    ...           ...            ...\n",
      "2263  2023     11      2      0.852772       0.962611\n",
      "2264  2023     11      3      1.147468       1.141620\n",
      "2265  2023     12      1      1.421022       1.197523\n",
      "2266  2023     12      2      1.426720       1.206156\n",
      "2267  2023     12      3      1.600289       1.281342\n",
      "\n",
      "[2268 rows x 5 columns]\n",
      "      Year  Month Decade  anom_lef_dek  anom_nino_dek\n",
      "0     1961      1      1      0.365944      -0.024139\n",
      "1     1961      1      2      0.232241       0.064786\n",
      "2     1961      1      3      0.668866       0.241058\n",
      "3     1961      2      1      0.866864       0.408497\n",
      "4     1961      2      2      1.098664       0.390542\n",
      "...    ...    ...    ...           ...            ...\n",
      "2263  2023     11      2      0.852772       0.962611\n",
      "2264  2023     11      3      1.147468       1.141620\n",
      "2265  2023     12      1      1.421022       1.197523\n",
      "2266  2023     12      2      1.426720       1.206156\n",
      "2267  2023     12      3      1.600289       1.281342\n",
      "\n",
      "[2268 rows x 5 columns]\n"
     ]
    }
   ],
   "source": [
    "# Fusion des dataframes de la liste df_terre_dek\n",
    "df_mer_merg_dek = reduce(lambda left, right: pd.merge(left, right, on=['Year', 'Month', 'Decade']), df_mer_dek)\n",
    "# Afficher le dataframe fusionné\n",
    "print(df_mer_merg_dek)"
   ]
  },
  {
   "cell_type": "markdown",
   "metadata": {},
   "source": [
    "##### Mensuelle"
   ]
  },
  {
   "cell_type": "code",
   "execution_count": 94,
   "metadata": {},
   "outputs": [
    {
     "name": "stdout",
     "output_type": "stream",
     "text": [
      "     Year  Month  anom_lef_mois  anom_nino_mois\n",
      "0    1961      1       0.432493        0.100473\n",
      "1    1961      2       1.084524        0.433687\n",
      "2    1961      3       1.540807        0.633470\n",
      "3    1961      4       1.686587        1.028707\n",
      "4    1961      5       1.242455        0.729368\n",
      "..    ...    ...            ...             ...\n",
      "751  2023      8      -1.068338        0.360447\n",
      "752  2023      9      -0.501238        0.421027\n",
      "753  2023     10       0.273432        0.717276\n",
      "754  2023     11       0.899425        1.010427\n",
      "755  2023     12       1.488661        1.231875\n",
      "\n",
      "[756 rows x 4 columns]\n",
      "     Year  Month  anom_lef_mois  anom_nino_mois\n",
      "0    1961      1       0.432493        0.100473\n",
      "1    1961      2       1.084524        0.433687\n",
      "2    1961      3       1.540807        0.633470\n",
      "3    1961      4       1.686587        1.028707\n",
      "4    1961      5       1.242455        0.729368\n",
      "..    ...    ...            ...             ...\n",
      "751  2023      8      -1.068338        0.360447\n",
      "752  2023      9      -0.501238        0.421027\n",
      "753  2023     10       0.273432        0.717276\n",
      "754  2023     11       0.899425        1.010427\n",
      "755  2023     12       1.488661        1.231875\n",
      "\n",
      "[756 rows x 4 columns]\n"
     ]
    }
   ],
   "source": [
    "# Fusion des dataframes de la liste df_terre_dek\n",
    "df_mer_merg_mon = reduce(lambda left, right: pd.merge(left, right, on=['Year', 'Month']), df_mer_mon)\n",
    "# Afficher le dataframe fusionné\n",
    "print(df_mer_merg_mon)"
   ]
  },
  {
   "cell_type": "markdown",
   "metadata": {},
   "source": [
    "##### IX-1 Fusion des dataframes locaux et mer"
   ]
  },
  {
   "cell_type": "markdown",
   "metadata": {},
   "source": [
    "##### Decadaires"
   ]
  },
  {
   "cell_type": "code",
   "execution_count": 95,
   "metadata": {},
   "outputs": [],
   "source": [
    "# Fusionner les DataFrames en utilisant une fusion externe (outer) sans spécifier les colonnes de fusion\n",
    "df_dek = df_terre_merg_dek.merge(df_mer_merg_dek, how='outer')\n",
    "df_dek.to_csv(os.path.join(Config.FILES_TRAITED_PATH,Config.ERA_FUSION_DEK),index=False)"
   ]
  },
  {
   "cell_type": "code",
   "execution_count": 96,
   "metadata": {},
   "outputs": [
    {
     "data": {
      "text/html": [
       "<div>\n",
       "<style scoped>\n",
       "    .dataframe tbody tr th:only-of-type {\n",
       "        vertical-align: middle;\n",
       "    }\n",
       "\n",
       "    .dataframe tbody tr th {\n",
       "        vertical-align: top;\n",
       "    }\n",
       "\n",
       "    .dataframe thead th {\n",
       "        text-align: right;\n",
       "    }\n",
       "</style>\n",
       "<table border=\"1\" class=\"dataframe\">\n",
       "  <thead>\n",
       "    <tr style=\"text-align: right;\">\n",
       "      <th></th>\n",
       "      <th>Station</th>\n",
       "      <th>Year</th>\n",
       "      <th>Month</th>\n",
       "      <th>Decade</th>\n",
       "      <th>v_wind_925</th>\n",
       "      <th>u_wind_850</th>\n",
       "      <th>u_wind_700</th>\n",
       "      <th>u_wind_200</th>\n",
       "      <th>eau_precipitable</th>\n",
       "      <th>t_point_rosee</th>\n",
       "      <th>h_vol_sol_wat</th>\n",
       "      <th>anom_lef_dek</th>\n",
       "      <th>anom_nino_dek</th>\n",
       "    </tr>\n",
       "  </thead>\n",
       "  <tbody>\n",
       "    <tr>\n",
       "      <th>0</th>\n",
       "      <td>Bobo_Dioulasso</td>\n",
       "      <td>1961</td>\n",
       "      <td>1</td>\n",
       "      <td>1</td>\n",
       "      <td>-5.685185</td>\n",
       "      <td>-4.901044</td>\n",
       "      <td>-6.507310</td>\n",
       "      <td>24.359285</td>\n",
       "      <td>5.872143e-09</td>\n",
       "      <td>274.505384</td>\n",
       "      <td>0.177588</td>\n",
       "      <td>0.365944</td>\n",
       "      <td>-0.024139</td>\n",
       "    </tr>\n",
       "    <tr>\n",
       "      <th>1</th>\n",
       "      <td>Bogande</td>\n",
       "      <td>1961</td>\n",
       "      <td>1</td>\n",
       "      <td>1</td>\n",
       "      <td>-4.457056</td>\n",
       "      <td>-5.318282</td>\n",
       "      <td>-3.077982</td>\n",
       "      <td>26.031411</td>\n",
       "      <td>7.469295e-08</td>\n",
       "      <td>268.932499</td>\n",
       "      <td>0.080787</td>\n",
       "      <td>0.365944</td>\n",
       "      <td>-0.024139</td>\n",
       "    </tr>\n",
       "    <tr>\n",
       "      <th>2</th>\n",
       "      <td>Boromo</td>\n",
       "      <td>1961</td>\n",
       "      <td>1</td>\n",
       "      <td>1</td>\n",
       "      <td>-5.117354</td>\n",
       "      <td>-4.519135</td>\n",
       "      <td>-5.647762</td>\n",
       "      <td>24.738232</td>\n",
       "      <td>2.742668e-08</td>\n",
       "      <td>274.025898</td>\n",
       "      <td>0.168335</td>\n",
       "      <td>0.365944</td>\n",
       "      <td>-0.024139</td>\n",
       "    </tr>\n",
       "    <tr>\n",
       "      <th>3</th>\n",
       "      <td>Dedougou</td>\n",
       "      <td>1961</td>\n",
       "      <td>1</td>\n",
       "      <td>1</td>\n",
       "      <td>-4.927709</td>\n",
       "      <td>-4.962412</td>\n",
       "      <td>-4.930288</td>\n",
       "      <td>26.618781</td>\n",
       "      <td>4.440598e-08</td>\n",
       "      <td>273.528833</td>\n",
       "      <td>0.123838</td>\n",
       "      <td>0.365944</td>\n",
       "      <td>-0.024139</td>\n",
       "    </tr>\n",
       "    <tr>\n",
       "      <th>4</th>\n",
       "      <td>Dori</td>\n",
       "      <td>1961</td>\n",
       "      <td>1</td>\n",
       "      <td>1</td>\n",
       "      <td>-3.655243</td>\n",
       "      <td>-6.004024</td>\n",
       "      <td>-1.298756</td>\n",
       "      <td>28.527198</td>\n",
       "      <td>-7.225495e-08</td>\n",
       "      <td>267.173088</td>\n",
       "      <td>0.181110</td>\n",
       "      <td>0.365944</td>\n",
       "      <td>-0.024139</td>\n",
       "    </tr>\n",
       "  </tbody>\n",
       "</table>\n",
       "</div>"
      ],
      "text/plain": [
       "          Station  Year  Month Decade  v_wind_925  u_wind_850  u_wind_700  u_wind_200  eau_precipitable  t_point_rosee  h_vol_sol_wat  anom_lef_dek  anom_nino_dek\n",
       "0  Bobo_Dioulasso  1961      1      1   -5.685185   -4.901044   -6.507310   24.359285      5.872143e-09     274.505384       0.177588      0.365944      -0.024139\n",
       "1         Bogande  1961      1      1   -4.457056   -5.318282   -3.077982   26.031411      7.469295e-08     268.932499       0.080787      0.365944      -0.024139\n",
       "2          Boromo  1961      1      1   -5.117354   -4.519135   -5.647762   24.738232      2.742668e-08     274.025898       0.168335      0.365944      -0.024139\n",
       "3        Dedougou  1961      1      1   -4.927709   -4.962412   -4.930288   26.618781      4.440598e-08     273.528833       0.123838      0.365944      -0.024139\n",
       "4            Dori  1961      1      1   -3.655243   -6.004024   -1.298756   28.527198     -7.225495e-08     267.173088       0.181110      0.365944      -0.024139"
      ]
     },
     "execution_count": null,
     "metadata": {},
     "output_type": "execute_result"
    }
   ],
   "source": [
    "df_dek.head()"
   ]
  },
  {
   "cell_type": "markdown",
   "metadata": {},
   "source": [
    "##### Mensuelles"
   ]
  },
  {
   "cell_type": "code",
   "execution_count": 97,
   "metadata": {},
   "outputs": [],
   "source": [
    "# Fusionner les DataFrames en utilisant une fusion externe (outer) sans spécifier les colonnes de fusion\n",
    "df_mon = df_terre_merg_mon.merge(df_mer_merg_mon, how='outer')\n",
    "df_mon.to_csv(os.path.join(Config.FILES_TRAITED_PATH,Config.ERA_FUSION_MON),index=False)"
   ]
  },
  {
   "cell_type": "code",
   "execution_count": 98,
   "metadata": {},
   "outputs": [
    {
     "data": {
      "text/html": [
       "<div>\n",
       "<style scoped>\n",
       "    .dataframe tbody tr th:only-of-type {\n",
       "        vertical-align: middle;\n",
       "    }\n",
       "\n",
       "    .dataframe tbody tr th {\n",
       "        vertical-align: top;\n",
       "    }\n",
       "\n",
       "    .dataframe thead th {\n",
       "        text-align: right;\n",
       "    }\n",
       "</style>\n",
       "<table border=\"1\" class=\"dataframe\">\n",
       "  <thead>\n",
       "    <tr style=\"text-align: right;\">\n",
       "      <th></th>\n",
       "      <th>Station</th>\n",
       "      <th>Year</th>\n",
       "      <th>Month</th>\n",
       "      <th>v_wind_925</th>\n",
       "      <th>u_wind_850</th>\n",
       "      <th>u_wind_700</th>\n",
       "      <th>u_wind_200</th>\n",
       "      <th>eau_precipitable</th>\n",
       "      <th>t_point_rosee</th>\n",
       "      <th>h_vol_sol_wat</th>\n",
       "      <th>anom_lef_mois</th>\n",
       "      <th>anom_nino_mois</th>\n",
       "    </tr>\n",
       "  </thead>\n",
       "  <tbody>\n",
       "    <tr>\n",
       "      <th>0</th>\n",
       "      <td>Bobo_Dioulasso</td>\n",
       "      <td>1961</td>\n",
       "      <td>1</td>\n",
       "      <td>-6.344612</td>\n",
       "      <td>-2.220861</td>\n",
       "      <td>-1.699389</td>\n",
       "      <td>28.423512</td>\n",
       "      <td>-2.447008e-07</td>\n",
       "      <td>274.258404</td>\n",
       "      <td>0.178051</td>\n",
       "      <td>0.432493</td>\n",
       "      <td>0.100473</td>\n",
       "    </tr>\n",
       "    <tr>\n",
       "      <th>1</th>\n",
       "      <td>Bogande</td>\n",
       "      <td>1961</td>\n",
       "      <td>1</td>\n",
       "      <td>-5.767704</td>\n",
       "      <td>-2.073078</td>\n",
       "      <td>1.304748</td>\n",
       "      <td>30.424754</td>\n",
       "      <td>-6.035625e-08</td>\n",
       "      <td>269.085430</td>\n",
       "      <td>0.081025</td>\n",
       "      <td>0.432493</td>\n",
       "      <td>0.100473</td>\n",
       "    </tr>\n",
       "    <tr>\n",
       "      <th>2</th>\n",
       "      <td>Boromo</td>\n",
       "      <td>1961</td>\n",
       "      <td>1</td>\n",
       "      <td>-6.010698</td>\n",
       "      <td>-1.756913</td>\n",
       "      <td>-0.934060</td>\n",
       "      <td>29.054192</td>\n",
       "      <td>-9.627294e-08</td>\n",
       "      <td>273.843337</td>\n",
       "      <td>0.166356</td>\n",
       "      <td>0.432493</td>\n",
       "      <td>0.100473</td>\n",
       "    </tr>\n",
       "    <tr>\n",
       "      <th>3</th>\n",
       "      <td>Dedougou</td>\n",
       "      <td>1961</td>\n",
       "      <td>1</td>\n",
       "      <td>-5.853977</td>\n",
       "      <td>-2.094841</td>\n",
       "      <td>-0.325521</td>\n",
       "      <td>30.879742</td>\n",
       "      <td>-2.844164e-07</td>\n",
       "      <td>273.860768</td>\n",
       "      <td>0.122703</td>\n",
       "      <td>0.432493</td>\n",
       "      <td>0.100473</td>\n",
       "    </tr>\n",
       "    <tr>\n",
       "      <th>4</th>\n",
       "      <td>Dori</td>\n",
       "      <td>1961</td>\n",
       "      <td>1</td>\n",
       "      <td>-5.160844</td>\n",
       "      <td>-2.311904</td>\n",
       "      <td>2.618656</td>\n",
       "      <td>32.211017</td>\n",
       "      <td>3.345370e-07</td>\n",
       "      <td>268.276131</td>\n",
       "      <td>0.183776</td>\n",
       "      <td>0.432493</td>\n",
       "      <td>0.100473</td>\n",
       "    </tr>\n",
       "  </tbody>\n",
       "</table>\n",
       "</div>"
      ],
      "text/plain": [
       "          Station  Year  Month  v_wind_925  u_wind_850  u_wind_700  u_wind_200  eau_precipitable  t_point_rosee  h_vol_sol_wat  anom_lef_mois  anom_nino_mois\n",
       "0  Bobo_Dioulasso  1961      1   -6.344612   -2.220861   -1.699389   28.423512     -2.447008e-07     274.258404       0.178051       0.432493        0.100473\n",
       "1         Bogande  1961      1   -5.767704   -2.073078    1.304748   30.424754     -6.035625e-08     269.085430       0.081025       0.432493        0.100473\n",
       "2          Boromo  1961      1   -6.010698   -1.756913   -0.934060   29.054192     -9.627294e-08     273.843337       0.166356       0.432493        0.100473\n",
       "3        Dedougou  1961      1   -5.853977   -2.094841   -0.325521   30.879742     -2.844164e-07     273.860768       0.122703       0.432493        0.100473\n",
       "4            Dori  1961      1   -5.160844   -2.311904    2.618656   32.211017      3.345370e-07     268.276131       0.183776       0.432493        0.100473"
      ]
     },
     "execution_count": null,
     "metadata": {},
     "output_type": "execute_result"
    }
   ],
   "source": [
    "df_mon.head()"
   ]
  },
  {
   "cell_type": "code",
   "execution_count": 99,
   "metadata": {},
   "outputs": [],
   "source": [
    "df_mon3=calculate_rolling_average(df_mon, 3)"
   ]
  },
  {
   "cell_type": "code",
   "execution_count": 100,
   "metadata": {},
   "outputs": [
    {
     "data": {
      "text/html": [
       "<div>\n",
       "<style scoped>\n",
       "    .dataframe tbody tr th:only-of-type {\n",
       "        vertical-align: middle;\n",
       "    }\n",
       "\n",
       "    .dataframe tbody tr th {\n",
       "        vertical-align: top;\n",
       "    }\n",
       "\n",
       "    .dataframe thead th {\n",
       "        text-align: right;\n",
       "    }\n",
       "</style>\n",
       "<table border=\"1\" class=\"dataframe\">\n",
       "  <thead>\n",
       "    <tr style=\"text-align: right;\">\n",
       "      <th></th>\n",
       "      <th>Station</th>\n",
       "      <th>Year</th>\n",
       "      <th>Month</th>\n",
       "      <th>v_wind_925</th>\n",
       "      <th>u_wind_850</th>\n",
       "      <th>u_wind_700</th>\n",
       "      <th>u_wind_200</th>\n",
       "      <th>eau_precipitable</th>\n",
       "      <th>t_point_rosee</th>\n",
       "      <th>h_vol_sol_wat</th>\n",
       "      <th>anom_lef_mois</th>\n",
       "      <th>anom_nino_mois</th>\n",
       "    </tr>\n",
       "  </thead>\n",
       "  <tbody>\n",
       "    <tr>\n",
       "      <th>7462</th>\n",
       "      <td>Boromo</td>\n",
       "      <td>2023</td>\n",
       "      <td>3</td>\n",
       "      <td>-2.209508</td>\n",
       "      <td>-3.249172</td>\n",
       "      <td>-3.263510</td>\n",
       "      <td>17.632480</td>\n",
       "      <td>-3.213181e-08</td>\n",
       "      <td>279.851036</td>\n",
       "      <td>0.161972</td>\n",
       "      <td>1.497105</td>\n",
       "      <td>0.639252</td>\n",
       "    </tr>\n",
       "    <tr>\n",
       "      <th>7472</th>\n",
       "      <td>Boromo</td>\n",
       "      <td>2023</td>\n",
       "      <td>4</td>\n",
       "      <td>-0.516677</td>\n",
       "      <td>-2.696688</td>\n",
       "      <td>-3.650549</td>\n",
       "      <td>17.697879</td>\n",
       "      <td>1.165849e-07</td>\n",
       "      <td>283.545306</td>\n",
       "      <td>0.160328</td>\n",
       "      <td>1.906551</td>\n",
       "      <td>1.158635</td>\n",
       "    </tr>\n",
       "    <tr>\n",
       "      <th>7482</th>\n",
       "      <td>Boromo</td>\n",
       "      <td>2023</td>\n",
       "      <td>5</td>\n",
       "      <td>1.762595</td>\n",
       "      <td>-0.910161</td>\n",
       "      <td>-5.262005</td>\n",
       "      <td>13.656965</td>\n",
       "      <td>1.615834e-07</td>\n",
       "      <td>289.543756</td>\n",
       "      <td>0.169550</td>\n",
       "      <td>2.036728</td>\n",
       "      <td>1.509665</td>\n",
       "    </tr>\n",
       "    <tr>\n",
       "      <th>7492</th>\n",
       "      <td>Boromo</td>\n",
       "      <td>2023</td>\n",
       "      <td>6</td>\n",
       "      <td>3.254770</td>\n",
       "      <td>0.236576</td>\n",
       "      <td>-7.283803</td>\n",
       "      <td>4.404364</td>\n",
       "      <td>-3.047069e-08</td>\n",
       "      <td>293.699360</td>\n",
       "      <td>0.208712</td>\n",
       "      <td>1.534842</td>\n",
       "      <td>1.482042</td>\n",
       "    </tr>\n",
       "    <tr>\n",
       "      <th>7502</th>\n",
       "      <td>Boromo</td>\n",
       "      <td>2023</td>\n",
       "      <td>7</td>\n",
       "      <td>3.821783</td>\n",
       "      <td>0.415875</td>\n",
       "      <td>-9.602079</td>\n",
       "      <td>-3.764160</td>\n",
       "      <td>-2.599312e-07</td>\n",
       "      <td>296.207386</td>\n",
       "      <td>0.252774</td>\n",
       "      <td>0.544180</td>\n",
       "      <td>1.089830</td>\n",
       "    </tr>\n",
       "    <tr>\n",
       "      <th>7512</th>\n",
       "      <td>Boromo</td>\n",
       "      <td>2023</td>\n",
       "      <td>8</td>\n",
       "      <td>3.373881</td>\n",
       "      <td>0.202947</td>\n",
       "      <td>-8.932227</td>\n",
       "      <td>-9.025354</td>\n",
       "      <td>-1.424013e-07</td>\n",
       "      <td>296.782353</td>\n",
       "      <td>0.325670</td>\n",
       "      <td>-0.435900</td>\n",
       "      <td>0.675410</td>\n",
       "    </tr>\n",
       "    <tr>\n",
       "      <th>7522</th>\n",
       "      <td>Boromo</td>\n",
       "      <td>2023</td>\n",
       "      <td>9</td>\n",
       "      <td>2.676608</td>\n",
       "      <td>-0.916574</td>\n",
       "      <td>-9.606976</td>\n",
       "      <td>-9.296333</td>\n",
       "      <td>1.300724e-07</td>\n",
       "      <td>297.004245</td>\n",
       "      <td>0.360692</td>\n",
       "      <td>-0.751432</td>\n",
       "      <td>0.449519</td>\n",
       "    </tr>\n",
       "    <tr>\n",
       "      <th>7532</th>\n",
       "      <td>Boromo</td>\n",
       "      <td>2023</td>\n",
       "      <td>10</td>\n",
       "      <td>2.458865</td>\n",
       "      <td>-2.051772</td>\n",
       "      <td>-9.726823</td>\n",
       "      <td>-4.194618</td>\n",
       "      <td>4.283979e-07</td>\n",
       "      <td>296.595945</td>\n",
       "      <td>0.339118</td>\n",
       "      <td>-0.432048</td>\n",
       "      <td>0.499583</td>\n",
       "    </tr>\n",
       "    <tr>\n",
       "      <th>7542</th>\n",
       "      <td>Boromo</td>\n",
       "      <td>2023</td>\n",
       "      <td>11</td>\n",
       "      <td>1.759161</td>\n",
       "      <td>-3.046977</td>\n",
       "      <td>-8.955419</td>\n",
       "      <td>2.135772</td>\n",
       "      <td>3.052995e-07</td>\n",
       "      <td>294.261916</td>\n",
       "      <td>0.259618</td>\n",
       "      <td>0.223873</td>\n",
       "      <td>0.716243</td>\n",
       "    </tr>\n",
       "    <tr>\n",
       "      <th>7552</th>\n",
       "      <td>Boromo</td>\n",
       "      <td>2023</td>\n",
       "      <td>12</td>\n",
       "      <td>-0.185406</td>\n",
       "      <td>-3.430873</td>\n",
       "      <td>-6.124835</td>\n",
       "      <td>9.315534</td>\n",
       "      <td>2.151986e-07</td>\n",
       "      <td>288.594879</td>\n",
       "      <td>0.190183</td>\n",
       "      <td>0.887173</td>\n",
       "      <td>0.986526</td>\n",
       "    </tr>\n",
       "  </tbody>\n",
       "</table>\n",
       "</div>"
      ],
      "text/plain": [
       "     Station  Year  Month  v_wind_925  u_wind_850  u_wind_700  u_wind_200  eau_precipitable  t_point_rosee  h_vol_sol_wat  anom_lef_mois  anom_nino_mois\n",
       "7462  Boromo  2023      3   -2.209508   -3.249172   -3.263510   17.632480     -3.213181e-08     279.851036       0.161972       1.497105        0.639252\n",
       "7472  Boromo  2023      4   -0.516677   -2.696688   -3.650549   17.697879      1.165849e-07     283.545306       0.160328       1.906551        1.158635\n",
       "7482  Boromo  2023      5    1.762595   -0.910161   -5.262005   13.656965      1.615834e-07     289.543756       0.169550       2.036728        1.509665\n",
       "7492  Boromo  2023      6    3.254770    0.236576   -7.283803    4.404364     -3.047069e-08     293.699360       0.208712       1.534842        1.482042\n",
       "7502  Boromo  2023      7    3.821783    0.415875   -9.602079   -3.764160     -2.599312e-07     296.207386       0.252774       0.544180        1.089830\n",
       "7512  Boromo  2023      8    3.373881    0.202947   -8.932227   -9.025354     -1.424013e-07     296.782353       0.325670      -0.435900        0.675410\n",
       "7522  Boromo  2023      9    2.676608   -0.916574   -9.606976   -9.296333      1.300724e-07     297.004245       0.360692      -0.751432        0.449519\n",
       "7532  Boromo  2023     10    2.458865   -2.051772   -9.726823   -4.194618      4.283979e-07     296.595945       0.339118      -0.432048        0.499583\n",
       "7542  Boromo  2023     11    1.759161   -3.046977   -8.955419    2.135772      3.052995e-07     294.261916       0.259618       0.223873        0.716243\n",
       "7552  Boromo  2023     12   -0.185406   -3.430873   -6.124835    9.315534      2.151986e-07     288.594879       0.190183       0.887173        0.986526"
      ]
     },
     "execution_count": null,
     "metadata": {},
     "output_type": "execute_result"
    }
   ],
   "source": [
    "df_mon3[df_mon3['Station']=='Boromo'].tail(10)"
   ]
  }
 ],
 "metadata": {
  "kernelspec": {
   "display_name": "Python 3",
   "language": "python",
   "name": "python3"
  },
  "language_info": {
   "codemirror_mode": {
    "name": "ipython",
    "version": 3
   },
   "file_extension": ".py",
   "mimetype": "text/x-python",
   "name": "python",
   "nbconvert_exporter": "python",
   "pygments_lexer": "ipython3",
   "version": "3.12.4"
  },
  "orig_nbformat": 4
 },
 "nbformat": 4,
 "nbformat_minor": 2
}
