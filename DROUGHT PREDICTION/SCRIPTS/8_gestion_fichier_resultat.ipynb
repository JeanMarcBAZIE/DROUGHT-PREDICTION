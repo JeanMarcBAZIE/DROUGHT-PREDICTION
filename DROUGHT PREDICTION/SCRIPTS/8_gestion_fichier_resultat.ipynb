{
 "cells": [
  {
   "cell_type": "code",
   "execution_count": 1,
   "metadata": {},
   "outputs": [],
   "source": [
    "import pandas as pd\n",
    "from tabulate import tabulate\n",
    "import os, sys\n",
    "import shutil\n",
    "from config import Config, Constant"
   ]
  },
  {
   "cell_type": "code",
   "execution_count": 2,
   "metadata": {},
   "outputs": [],
   "source": [
    "# Dictionnaire des noms\n",
    "noms_stations={'Bobo_Dioulasso':'Bobo dioulasso','Bogande':'Bogandé','Boromo':'Boromo','Dedougou':'Dédougou','Dori':'Dori','Fada_Ngourma':'Fada Ngourma','Gaoua':'Gaoua','Ouagadougou_aero':'Ouagadougou','Ouahigouya':'Ouahigouya','Po':'Pô'}"
   ]
  },
  {
   "cell_type": "code",
   "execution_count": 3,
   "metadata": {},
   "outputs": [],
   "source": [
    "# Créer un répertoire de sortie s'il n'existe pas déjà\n",
    "dir_resultat = Config.RESULT_DIR"
   ]
  },
  {
   "cell_type": "code",
   "execution_count": 4,
   "metadata": {},
   "outputs": [],
   "source": [
    "# Créer un répertoire de sortie s'il n'existe pas déjà\n",
    "dir_resultat_compile = Config.RESULT_COMPILE_DIR\n",
    "# Supprimer le dossier existant, y compris son contenu\n",
    "if os.path.exists(dir_resultat_compile):\n",
    "    shutil.rmtree(dir_resultat_compile)\n",
    "# Créer un nouveau répertoire de sortie\n",
    "os.makedirs(dir_resultat_compile, exist_ok=True)"
   ]
  },
  {
   "cell_type": "code",
   "execution_count": 5,
   "metadata": {},
   "outputs": [],
   "source": [
    "dir_resultat_latex=Config.RESULT_LATEX_DIR\n",
    "# Créer un répertoire de sortie s'il n'existe pas déjà\n",
    "# Supprimer le dossier existant, y compris son contenu\n",
    "if os.path.exists(dir_resultat_latex):\n",
    "    shutil.rmtree(dir_resultat_latex)\n",
    "# Créer un nouveau répertoire de sortie\n",
    "os.makedirs(dir_resultat_latex, exist_ok=True)"
   ]
  },
  {
   "cell_type": "code",
   "execution_count": 6,
   "metadata": {},
   "outputs": [],
   "source": [
    "dir_resultat_sel_var_latex=Config.RESULT_LATEX_DIR_SEL_VAR\n",
    "# Créer un répertoire de sortie s'il n'existe pas déjà\n",
    "# Supprimer le dossier existant, y compris son contenu\n",
    "if os.path.exists(dir_resultat_sel_var_latex):\n",
    "    shutil.rmtree(dir_resultat_sel_var_latex)\n",
    "# Créer un nouveau répertoire de sortie\n",
    "os.makedirs(dir_resultat_sel_var_latex, exist_ok=True)"
   ]
  },
  {
   "cell_type": "markdown",
   "metadata": {},
   "source": [
    "### I- Resultats scores modèles"
   ]
  },
  {
   "cell_type": "code",
   "execution_count": 7,
   "metadata": {},
   "outputs": [
    {
     "name": "stdout",
     "output_type": "stream",
     "text": [
      "Concaténation terminée avec succès.\n"
     ]
    }
   ],
   "source": [
    "# Liste pour stocker les dataframes de chaque fichier Excel\n",
    "df_liste = []\n",
    "\n",
    "# Parcourez tous les fichiers dans le dossier\n",
    "for fichier in os.listdir(dir_resultat):\n",
    "    if fichier.endswith(\".xlsx\") or fichier.endswith(\".xls\"):\n",
    "        chemin_fichier = os.path.join(dir_resultat, fichier)\n",
    "        \n",
    "        # Chargez le fichier Excel dans un dataframe pandas\n",
    "        df = pd.read_excel(chemin_fichier)\n",
    "        \n",
    "        # Ajoutez le dataframe à la liste\n",
    "        df_liste.append(df)\n",
    "# Concaténez tous les dataframes dans un seul dataframe\n",
    "concatenation_df = pd.concat(df_liste, ignore_index=True)\n",
    "print(\"Concaténation terminée avec succès.\")\n",
    "\n",
    "grouped_data=concatenation_df.groupby(['Spei','Type_Sec'])\n",
    "for (spei, type_sec) , group_data in grouped_data:\n",
    "    # Triez le groupe par 'Algo' et 'Station'\n",
    "    group_data['Station'] = group_data['Station'].replace(noms_stations)\n",
    "    group_data = group_data.sort_values(by=['Algo','Station'])\n",
    "    group_data=group_data.drop('Type_Sec', axis=1)\n",
    "\n",
    "    file_name_excel=os.path.join(dir_resultat_compile, f'{spei}_{type_sec}.xlsx')\n",
    "    group_data.to_excel(file_name_excel, index=False)\n",
    "    \n",
    "    file_name_latex=os.path.join(dir_resultat_latex, f'{spei}_{type_sec}.tex') \n",
    "    \n",
    "    \n",
    "    df=pd.read_excel(file_name_excel)\n",
    "    latex_code = tabulate(df, headers='keys', tablefmt='latex_raw')\n",
    "# Écrire le code LaTeX dans un fichier\n",
    "    with open(file_name_latex, 'w') as f:\n",
    "        f.write(latex_code)"
   ]
  },
  {
   "cell_type": "markdown",
   "metadata": {},
   "source": [
    "#### II- Resultats variables selectionnées"
   ]
  },
  {
   "cell_type": "code",
   "execution_count": 8,
   "metadata": {},
   "outputs": [],
   "source": [
    "dir_result_sel_var=Config.RESULT_DIR_SEL_VAR"
   ]
  },
  {
   "cell_type": "code",
   "execution_count": 9,
   "metadata": {},
   "outputs": [],
   "source": [
    "# Créer un répertoire de sortie s'il n'existe pas déjà\n",
    "dir_resultat_compile_sel_var = Config.RESULT_COMPILE_DIR_SEL_VAR\n",
    "# Supprimer le dossier existant, y compris son contenu\n",
    "if os.path.exists(dir_resultat_compile_sel_var):\n",
    "    shutil.rmtree(dir_resultat_compile_sel_var)\n",
    "# Créer un nouveau répertoire de sortie\n",
    "os.makedirs(dir_resultat_compile_sel_var, exist_ok=True)"
   ]
  },
  {
   "cell_type": "code",
   "execution_count": 10,
   "metadata": {},
   "outputs": [],
   "source": [
    "dir_resultat_sel_var_latex=Config.RESULT_LATEX_DIR_SEL_VAR\n",
    "# Créer un répertoire de sortie s'il n'existe pas déjà\n",
    "# Supprimer le dossier existant, y compris son contenu\n",
    "if os.path.exists(dir_resultat_sel_var_latex):\n",
    "    shutil.rmtree(dir_resultat_sel_var_latex)\n",
    "# Créer un nouveau répertoire de sortie\n",
    "os.makedirs(dir_resultat_sel_var_latex, exist_ok=True)"
   ]
  },
  {
   "cell_type": "code",
   "execution_count": 11,
   "metadata": {},
   "outputs": [
    {
     "name": "stdout",
     "output_type": "stream",
     "text": [
      "Concaténation terminée avec succès.\n"
     ]
    }
   ],
   "source": [
    "# Liste pour stocker les dataframes de chaque fichier Excel\n",
    "df_liste = []\n",
    "\n",
    "# Parcourez tous les fichiers dans le dossier\n",
    "for fichier in os.listdir(dir_result_sel_var):\n",
    "    if fichier.endswith(\".xlsx\") or fichier.endswith(\".xls\"):\n",
    "        chemin_fichier = os.path.join(dir_result_sel_var, fichier)\n",
    "        \n",
    "        # Chargez le fichier Excel dans un dataframe pandas\n",
    "        df = pd.read_excel(chemin_fichier)\n",
    "        \n",
    "        # Ajoutez le dataframe à la liste\n",
    "        df_liste.append(df)\n",
    "# Concaténez tous les dataframes dans un seul dataframe\n",
    "concatenation_df = pd.concat(df_liste, ignore_index=True)\n",
    "print(\"Concaténation terminée avec succès.\")\n",
    "\n",
    "grouped_data=concatenation_df.groupby(['Spei','Type_Sec'])\n",
    "for (spei, type_sec) , group_data in grouped_data:\n",
    "    # Triez le groupe par 'Algo'\n",
    "    group_data['Station'] = group_data['Station'].replace(noms_stations)\n",
    "    group_data = group_data.sort_values(by=['Algo','Station'])\n",
    "    group_data=group_data.drop('Type_Sec', axis=1)\n",
    "    file_name_excel=os.path.join(dir_resultat_compile_sel_var, f'{spei}_{type_sec}.xlsx')\n",
    "    group_data.to_excel(file_name_excel, index=False)\n",
    "    \n",
    "    df=pd.read_excel(file_name_excel)\n",
    "    latex_code = tabulate(df, headers='keys', tablefmt='latex_raw')\n",
    "    file_name_latex=os.path.join(dir_resultat_sel_var_latex, f'{spei}_{type_sec}.tex')\n",
    "# Écrire le code LaTeX dans un fichier\n",
    "    with open(file_name_latex, 'w') as f:\n",
    "        f.write(latex_code)\n",
    " "
   ]
  }
 ],
 "metadata": {
  "kernelspec": {
   "display_name": "Python 3",
   "language": "python",
   "name": "python3"
  },
  "language_info": {
   "codemirror_mode": {
    "name": "ipython",
    "version": 3
   },
   "file_extension": ".py",
   "mimetype": "text/x-python",
   "name": "python",
   "nbconvert_exporter": "python",
   "pygments_lexer": "ipython3",
   "version": "3.9.6"
  }
 },
 "nbformat": 4,
 "nbformat_minor": 2
}
