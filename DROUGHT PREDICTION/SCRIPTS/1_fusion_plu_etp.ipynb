{
 "cells": [
  {
   "cell_type": "code",
   "execution_count": 1,
   "metadata": {},
   "outputs": [],
   "source": [
    "import os\n",
    "import pandas as pd\n",
    "import numpy as np\n",
    "from config import Config"
   ]
  },
  {
   "cell_type": "code",
   "execution_count": 2,
   "metadata": {},
   "outputs": [
    {
     "name": "stdout",
     "output_type": "stream",
     "text": [
      "Requirement already satisfied: xlrd in c:\\users\\jean marc\\documents\\master_these\\partie_codes_saison_ii\\version_2024_06_16\\.venv\\lib\\site-packages (2.0.1)\n",
      "Requirement already satisfied: xlrd in c:\\users\\jean marc\\documents\\master_these\\partie_codes_saison_ii\\version_2024_06_16\\.venv\\lib\\site-packages (2.0.1)\n"
     ]
    },
    {
     "name": "stderr",
     "output_type": "stream",
     "text": [
      "\n",
      "[notice] A new release of pip is available: 24.1.2 -> 24.2\n",
      "[notice] To update, run: python.exe -m pip install --upgrade pip\n"
     ]
    }
   ],
   "source": [
    "!pip install xlrd"
   ]
  },
  {
   "cell_type": "code",
   "execution_count": 3,
   "metadata": {},
   "outputs": [],
   "source": [
    "def fileDataframe(fichier, parametre):\n",
    "    data = pd.read_excel(fichier)\n",
    "    data_trans =data.melt(id_vars=['Station','Annee','Mois'], value_vars= data.columns[3:],var_name='Jour',value_name=parametre)\n",
    "    nom={\n",
    "'Bobo-Dioulasso':'Bobo_Dioulasso', 'Bogandé':'Bogande', 'Boromo':'Boromo', 'Dédougou':'Dedougou', 'Dori':'Dori', \n",
    "'Fada Ngourma':'Fada_Ngourma', 'Gaoua':'Gaoua', 'Ouagadougou aéro':'Ouagadougou_aero', 'Ouahigouya':'Ouahigouya', 'Pô':'Po'}\n",
    "    data_trans['Station']=data_trans['Station'].replace(nom)\n",
    "    return data_trans"
   ]
  },
  {
   "cell_type": "code",
   "execution_count": 4,
   "metadata": {},
   "outputs": [],
   "source": [
    "#Creer une time serie en fusionnant l'Annee, le mois et le Jour pour creer un index de date\n",
    "def convertTimeSerie(df):\n",
    "    # Fonction de validation pour vérifier si une date est valide\n",
    "    def dateValid(year, month, day):\n",
    "        try:\n",
    "            pd.Timestamp(year=year, month=month, day=day)\n",
    "            return True\n",
    "        except ValueError:\n",
    "            return False \n",
    "    # Créer une nouvelle colonne \"Date\" en fusionnant les colonnes \"Jour\", \"Mois\" et \"Annee\"\n",
    "    df['Date'] = df.apply(lambda row: str(row['Jour']) + '/' + str(row['Mois']) + '/' + str(row['Annee']), axis=1)\n",
    "    # Convertir la colonne \"Date\" en objet datetime en appliquant la validation\n",
    "    df.loc[:, 'Date'] = pd.to_datetime(df['Date'], format='%d/%m/%Y', errors='coerce')\n",
    "    # Supprimer les lignes avec des dates non valides\n",
    "    df = df.dropna(subset=['Date'])\n",
    "     # Supprimer les colonnes \"Annee\", \"Mois\" et \"Jour\" si nécessaire\n",
    "    df.drop(['Annee', 'Mois', 'Jour'], axis=1, inplace=True)\n",
    "    return df"
   ]
  },
  {
   "cell_type": "code",
   "execution_count": 5,
   "metadata": {},
   "outputs": [
    {
     "data": {
      "text/html": [
       "<div>\n",
       "<style scoped>\n",
       "    .dataframe tbody tr th:only-of-type {\n",
       "        vertical-align: middle;\n",
       "    }\n",
       "\n",
       "    .dataframe tbody tr th {\n",
       "        vertical-align: top;\n",
       "    }\n",
       "\n",
       "    .dataframe thead th {\n",
       "        text-align: right;\n",
       "    }\n",
       "</style>\n",
       "<table border=\"1\" class=\"dataframe\">\n",
       "  <thead>\n",
       "    <tr style=\"text-align: right;\">\n",
       "      <th></th>\n",
       "      <th>Station</th>\n",
       "      <th>Annee</th>\n",
       "      <th>Mois</th>\n",
       "      <th>Jour</th>\n",
       "      <th>Pluie</th>\n",
       "    </tr>\n",
       "  </thead>\n",
       "  <tbody>\n",
       "    <tr>\n",
       "      <th>0</th>\n",
       "      <td>Bobo_Dioulasso</td>\n",
       "      <td>1961</td>\n",
       "      <td>1</td>\n",
       "      <td>01</td>\n",
       "      <td>0.0</td>\n",
       "    </tr>\n",
       "    <tr>\n",
       "      <th>1</th>\n",
       "      <td>Bobo_Dioulasso</td>\n",
       "      <td>1961</td>\n",
       "      <td>2</td>\n",
       "      <td>01</td>\n",
       "      <td>0.0</td>\n",
       "    </tr>\n",
       "    <tr>\n",
       "      <th>2</th>\n",
       "      <td>Bobo_Dioulasso</td>\n",
       "      <td>1961</td>\n",
       "      <td>3</td>\n",
       "      <td>01</td>\n",
       "      <td>0.0</td>\n",
       "    </tr>\n",
       "  </tbody>\n",
       "</table>\n",
       "</div>"
      ],
      "text/plain": [
       "          Station  Annee  Mois Jour  Pluie\n",
       "0  Bobo_Dioulasso   1961     1   01    0.0\n",
       "1  Bobo_Dioulasso   1961     2   01    0.0\n",
       "2  Bobo_Dioulasso   1961     3   01    0.0"
      ]
     },
     "execution_count": null,
     "metadata": {},
     "output_type": "execute_result"
    }
   ],
   "source": [
    "# Lecture du fichier de données journalières de pluie\n",
    "#pluieData=fileDataframe(str(Config.PLUIE_ETP_PATH)+'/'+str(Config.PLUIE_FILE_NAME),'Pluie')\n",
    "pluieData=fileDataframe(os.path.join(Config.PLUIE_ETP_PATH,Config.PLUIE_FILE_NAME),'Pluie')\n",
    "pluieData.head(3)"
   ]
  },
  {
   "cell_type": "code",
   "execution_count": 6,
   "metadata": {},
   "outputs": [
    {
     "data": {
      "text/html": [
       "<div>\n",
       "<style scoped>\n",
       "    .dataframe tbody tr th:only-of-type {\n",
       "        vertical-align: middle;\n",
       "    }\n",
       "\n",
       "    .dataframe tbody tr th {\n",
       "        vertical-align: top;\n",
       "    }\n",
       "\n",
       "    .dataframe thead th {\n",
       "        text-align: right;\n",
       "    }\n",
       "</style>\n",
       "<table border=\"1\" class=\"dataframe\">\n",
       "  <thead>\n",
       "    <tr style=\"text-align: right;\">\n",
       "      <th></th>\n",
       "      <th>Station</th>\n",
       "      <th>Annee</th>\n",
       "      <th>Mois</th>\n",
       "      <th>Jour</th>\n",
       "      <th>Etp</th>\n",
       "    </tr>\n",
       "  </thead>\n",
       "  <tbody>\n",
       "    <tr>\n",
       "      <th>0</th>\n",
       "      <td>Bobo_Dioulasso</td>\n",
       "      <td>1961</td>\n",
       "      <td>1</td>\n",
       "      <td>01</td>\n",
       "      <td>0.0</td>\n",
       "    </tr>\n",
       "    <tr>\n",
       "      <th>1</th>\n",
       "      <td>Bobo_Dioulasso</td>\n",
       "      <td>1961</td>\n",
       "      <td>2</td>\n",
       "      <td>01</td>\n",
       "      <td>0.0</td>\n",
       "    </tr>\n",
       "    <tr>\n",
       "      <th>2</th>\n",
       "      <td>Bobo_Dioulasso</td>\n",
       "      <td>1961</td>\n",
       "      <td>3</td>\n",
       "      <td>01</td>\n",
       "      <td>0.0</td>\n",
       "    </tr>\n",
       "  </tbody>\n",
       "</table>\n",
       "</div>"
      ],
      "text/plain": [
       "          Station  Annee  Mois Jour  Etp\n",
       "0  Bobo_Dioulasso   1961     1   01  0.0\n",
       "1  Bobo_Dioulasso   1961     2   01  0.0\n",
       "2  Bobo_Dioulasso   1961     3   01  0.0"
      ]
     },
     "execution_count": null,
     "metadata": {},
     "output_type": "execute_result"
    }
   ],
   "source": [
    "# Lecture du fichier de données journalières d'evapotranspiration\n",
    "#petData=fileDataframe(str(Config.PLUIE_ETP_PATH)+'/'+str(Config.ETP_FILE_NAME),'Etp')\n",
    "petData=fileDataframe(os.path.join(Config.PLUIE_ETP_PATH,Config.ETP_FILE_NAME),'Etp')\n",
    "petData.head(3)"
   ]
  },
  {
   "cell_type": "code",
   "execution_count": 7,
   "metadata": {},
   "outputs": [
    {
     "name": "stderr",
     "output_type": "stream",
     "text": [
      "<positron-console-cell-7>:17: SettingWithCopyWarning: \n",
      "A value is trying to be set on a copy of a slice from a DataFrame\n",
      "\n",
      "See the caveats in the documentation: https://pandas.pydata.org/pandas-docs/stable/user_guide/indexing.html#returning-a-view-versus-a-copy\n"
     ]
    },
    {
     "data": {
      "text/html": [
       "<div>\n",
       "<style scoped>\n",
       "    .dataframe tbody tr th:only-of-type {\n",
       "        vertical-align: middle;\n",
       "    }\n",
       "\n",
       "    .dataframe tbody tr th {\n",
       "        vertical-align: top;\n",
       "    }\n",
       "\n",
       "    .dataframe thead th {\n",
       "        text-align: right;\n",
       "    }\n",
       "</style>\n",
       "<table border=\"1\" class=\"dataframe\">\n",
       "  <thead>\n",
       "    <tr style=\"text-align: right;\">\n",
       "      <th></th>\n",
       "      <th>Station</th>\n",
       "      <th>Etp</th>\n",
       "      <th>Date</th>\n",
       "    </tr>\n",
       "  </thead>\n",
       "  <tbody>\n",
       "    <tr>\n",
       "      <th>0</th>\n",
       "      <td>Bobo_Dioulasso</td>\n",
       "      <td>0.0</td>\n",
       "      <td>1961-01-01 00:00:00</td>\n",
       "    </tr>\n",
       "    <tr>\n",
       "      <th>1</th>\n",
       "      <td>Bobo_Dioulasso</td>\n",
       "      <td>0.0</td>\n",
       "      <td>1961-02-01 00:00:00</td>\n",
       "    </tr>\n",
       "    <tr>\n",
       "      <th>2</th>\n",
       "      <td>Bobo_Dioulasso</td>\n",
       "      <td>0.0</td>\n",
       "      <td>1961-03-01 00:00:00</td>\n",
       "    </tr>\n",
       "  </tbody>\n",
       "</table>\n",
       "</div>"
      ],
      "text/plain": [
       "          Station  Etp                 Date\n",
       "0  Bobo_Dioulasso  0.0  1961-01-01 00:00:00\n",
       "1  Bobo_Dioulasso  0.0  1961-02-01 00:00:00\n",
       "2  Bobo_Dioulasso  0.0  1961-03-01 00:00:00"
      ]
     },
     "execution_count": null,
     "metadata": {},
     "output_type": "execute_result"
    }
   ],
   "source": [
    "petSerie=convertTimeSerie(petData)\n",
    "petSerie.head(3)"
   ]
  },
  {
   "cell_type": "code",
   "execution_count": 8,
   "metadata": {},
   "outputs": [
    {
     "name": "stderr",
     "output_type": "stream",
     "text": [
      "<positron-console-cell-8>:17: SettingWithCopyWarning: \n",
      "A value is trying to be set on a copy of a slice from a DataFrame\n",
      "\n",
      "See the caveats in the documentation: https://pandas.pydata.org/pandas-docs/stable/user_guide/indexing.html#returning-a-view-versus-a-copy\n"
     ]
    },
    {
     "data": {
      "text/html": [
       "<div>\n",
       "<style scoped>\n",
       "    .dataframe tbody tr th:only-of-type {\n",
       "        vertical-align: middle;\n",
       "    }\n",
       "\n",
       "    .dataframe tbody tr th {\n",
       "        vertical-align: top;\n",
       "    }\n",
       "\n",
       "    .dataframe thead th {\n",
       "        text-align: right;\n",
       "    }\n",
       "</style>\n",
       "<table border=\"1\" class=\"dataframe\">\n",
       "  <thead>\n",
       "    <tr style=\"text-align: right;\">\n",
       "      <th></th>\n",
       "      <th>Station</th>\n",
       "      <th>Pluie</th>\n",
       "      <th>Date</th>\n",
       "    </tr>\n",
       "  </thead>\n",
       "  <tbody>\n",
       "    <tr>\n",
       "      <th>0</th>\n",
       "      <td>Bobo_Dioulasso</td>\n",
       "      <td>0.0</td>\n",
       "      <td>1961-01-01 00:00:00</td>\n",
       "    </tr>\n",
       "    <tr>\n",
       "      <th>1</th>\n",
       "      <td>Bobo_Dioulasso</td>\n",
       "      <td>0.0</td>\n",
       "      <td>1961-02-01 00:00:00</td>\n",
       "    </tr>\n",
       "    <tr>\n",
       "      <th>2</th>\n",
       "      <td>Bobo_Dioulasso</td>\n",
       "      <td>0.0</td>\n",
       "      <td>1961-03-01 00:00:00</td>\n",
       "    </tr>\n",
       "    <tr>\n",
       "      <th>3</th>\n",
       "      <td>Bobo_Dioulasso</td>\n",
       "      <td>0.0</td>\n",
       "      <td>1961-04-01 00:00:00</td>\n",
       "    </tr>\n",
       "    <tr>\n",
       "      <th>4</th>\n",
       "      <td>Bobo_Dioulasso</td>\n",
       "      <td>0.0</td>\n",
       "      <td>1961-05-01 00:00:00</td>\n",
       "    </tr>\n",
       "  </tbody>\n",
       "</table>\n",
       "</div>"
      ],
      "text/plain": [
       "          Station  Pluie                 Date\n",
       "0  Bobo_Dioulasso    0.0  1961-01-01 00:00:00\n",
       "1  Bobo_Dioulasso    0.0  1961-02-01 00:00:00\n",
       "2  Bobo_Dioulasso    0.0  1961-03-01 00:00:00\n",
       "3  Bobo_Dioulasso    0.0  1961-04-01 00:00:00\n",
       "4  Bobo_Dioulasso    0.0  1961-05-01 00:00:00"
      ]
     },
     "execution_count": null,
     "metadata": {},
     "output_type": "execute_result"
    }
   ],
   "source": [
    "pluieSerie=convertTimeSerie(pluieData)\n",
    "pluieSerie.head()"
   ]
  },
  {
   "cell_type": "code",
   "execution_count": 9,
   "metadata": {},
   "outputs": [
    {
     "data": {
      "text/html": [
       "<div>\n",
       "<style scoped>\n",
       "    .dataframe tbody tr th:only-of-type {\n",
       "        vertical-align: middle;\n",
       "    }\n",
       "\n",
       "    .dataframe tbody tr th {\n",
       "        vertical-align: top;\n",
       "    }\n",
       "\n",
       "    .dataframe thead th {\n",
       "        text-align: right;\n",
       "    }\n",
       "</style>\n",
       "<table border=\"1\" class=\"dataframe\">\n",
       "  <thead>\n",
       "    <tr style=\"text-align: right;\">\n",
       "      <th></th>\n",
       "      <th>Station</th>\n",
       "      <th>Pluie</th>\n",
       "      <th>Date</th>\n",
       "      <th>Etp</th>\n",
       "    </tr>\n",
       "  </thead>\n",
       "  <tbody>\n",
       "    <tr>\n",
       "      <th>0</th>\n",
       "      <td>Bobo_Dioulasso</td>\n",
       "      <td>0.0</td>\n",
       "      <td>1961-01-01 00:00:00</td>\n",
       "      <td>0.0</td>\n",
       "    </tr>\n",
       "    <tr>\n",
       "      <th>1</th>\n",
       "      <td>Bogande</td>\n",
       "      <td>0.0</td>\n",
       "      <td>1961-01-01 00:00:00</td>\n",
       "      <td>0.0</td>\n",
       "    </tr>\n",
       "    <tr>\n",
       "      <th>2</th>\n",
       "      <td>Boromo</td>\n",
       "      <td>0.0</td>\n",
       "      <td>1961-01-01 00:00:00</td>\n",
       "      <td>0.0</td>\n",
       "    </tr>\n",
       "  </tbody>\n",
       "</table>\n",
       "</div>"
      ],
      "text/plain": [
       "          Station  Pluie                 Date  Etp\n",
       "0  Bobo_Dioulasso    0.0  1961-01-01 00:00:00  0.0\n",
       "1         Bogande    0.0  1961-01-01 00:00:00  0.0\n",
       "2          Boromo    0.0  1961-01-01 00:00:00  0.0"
      ]
     },
     "execution_count": null,
     "metadata": {},
     "output_type": "execute_result"
    }
   ],
   "source": [
    "# Fusionner les dataframes en utilisant les colonnes \"Date\" et \"Station\" comme clés de fusion\n",
    "merged_data = pd.merge(pluieSerie, petSerie, on=['Date', 'Station'], how='outer')\n",
    "\n",
    "merged_data.to_csv(os.path.join(Config.FILES_TRAITED_PATH,Config.PLUIE_ETP_FILE_NAME), index=False)\n",
    "# Afficher le dataframe fusionné\n",
    "merged_data.head(3)"
   ]
  },
  {
   "cell_type": "code",
   "execution_count": 10,
   "metadata": {},
   "outputs": [],
   "source": [
    "df_boromo=merged_data[merged_data['Station']=='Boromo']\n",
    "df_boromo.to_csv(os.path.join(Config.FILES_TRAITED_PATH,Config.STATION_TEST))"
   ]
  },
  {
   "cell_type": "code",
   "execution_count": 11,
   "metadata": {},
   "outputs": [
    {
     "name": "stdout",
     "output_type": "stream",
     "text": [
      "228520\n",
      "228520\n",
      "228520\n",
      "228520\n",
      "228520\n",
      "228520\n"
     ]
    }
   ],
   "source": [
    "print(len(merged_data))\n",
    "print(len(pluieSerie))\n",
    "print(len(petSerie))"
   ]
  },
  {
   "cell_type": "code",
   "execution_count": 12,
   "metadata": {},
   "outputs": [
    {
     "data": {
      "text/html": [
       "<div>\n",
       "<style scoped>\n",
       "    .dataframe tbody tr th:only-of-type {\n",
       "        vertical-align: middle;\n",
       "    }\n",
       "\n",
       "    .dataframe tbody tr th {\n",
       "        vertical-align: top;\n",
       "    }\n",
       "\n",
       "    .dataframe thead th {\n",
       "        text-align: right;\n",
       "    }\n",
       "</style>\n",
       "<table border=\"1\" class=\"dataframe\">\n",
       "  <thead>\n",
       "    <tr style=\"text-align: right;\">\n",
       "      <th></th>\n",
       "      <th>Station</th>\n",
       "      <th>Pluie</th>\n",
       "      <th>Date</th>\n",
       "      <th>Etp</th>\n",
       "    </tr>\n",
       "  </thead>\n",
       "  <tbody>\n",
       "    <tr>\n",
       "      <th>0</th>\n",
       "      <td>Bobo_Dioulasso</td>\n",
       "      <td>0.0</td>\n",
       "      <td>1961-01-01 00:00:00</td>\n",
       "      <td>0.0</td>\n",
       "    </tr>\n",
       "    <tr>\n",
       "      <th>1</th>\n",
       "      <td>Bogande</td>\n",
       "      <td>0.0</td>\n",
       "      <td>1961-01-01 00:00:00</td>\n",
       "      <td>0.0</td>\n",
       "    </tr>\n",
       "    <tr>\n",
       "      <th>2</th>\n",
       "      <td>Boromo</td>\n",
       "      <td>0.0</td>\n",
       "      <td>1961-01-01 00:00:00</td>\n",
       "      <td>0.0</td>\n",
       "    </tr>\n",
       "    <tr>\n",
       "      <th>3</th>\n",
       "      <td>Dedougou</td>\n",
       "      <td>0.0</td>\n",
       "      <td>1961-01-01 00:00:00</td>\n",
       "      <td>0.0</td>\n",
       "    </tr>\n",
       "    <tr>\n",
       "      <th>4</th>\n",
       "      <td>Dori</td>\n",
       "      <td>0.0</td>\n",
       "      <td>1961-01-01 00:00:00</td>\n",
       "      <td>0.0</td>\n",
       "    </tr>\n",
       "  </tbody>\n",
       "</table>\n",
       "</div>"
      ],
      "text/plain": [
       "          Station  Pluie                 Date  Etp\n",
       "0  Bobo_Dioulasso    0.0  1961-01-01 00:00:00  0.0\n",
       "1         Bogande    0.0  1961-01-01 00:00:00  0.0\n",
       "2          Boromo    0.0  1961-01-01 00:00:00  0.0\n",
       "3        Dedougou    0.0  1961-01-01 00:00:00  0.0\n",
       "4            Dori    0.0  1961-01-01 00:00:00  0.0"
      ]
     },
     "execution_count": null,
     "metadata": {},
     "output_type": "execute_result"
    }
   ],
   "source": [
    "merged_data.head()"
   ]
  }
 ],
 "metadata": {
  "interpreter": {
   "hash": "e7370f93d1d0cde622a1f8e1c04877d8463912d04d973331ad4851f04de6915a"
  },
  "kernelspec": {
   "display_name": "Python 3.10.4 64-bit",
   "language": "python",
   "name": "python3"
  },
  "language_info": {
   "codemirror_mode": {
    "name": "ipython",
    "version": 3
   },
   "file_extension": ".py",
   "mimetype": "text/x-python",
   "name": "python",
   "nbconvert_exporter": "python",
   "pygments_lexer": "ipython3",
   "version": "3.10.11"
  },
  "orig_nbformat": 4,
  "vscode": {
   "interpreter": {
    "hash": "26de051ba29f2982a8de78e945f0abaf191376122a1563185a90213a26c5da77"
   }
  }
 },
 "nbformat": 4,
 "nbformat_minor": 2
}
